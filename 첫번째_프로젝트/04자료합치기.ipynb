{
  "nbformat": 4,
  "nbformat_minor": 0,
  "metadata": {
    "colab": {
      "name": "04자료합치기.ipynb",
      "provenance": []
    },
    "kernelspec": {
      "name": "python3",
      "display_name": "Python 3"
    },
    "language_info": {
      "name": "python"
    }
  },
  "cells": [
    {
      "cell_type": "code",
      "metadata": {
        "id": "jNI1RgkReg8T"
      },
      "source": [
        "import requests\n",
        "import pandas as pd\n",
        "from urllib.parse import quote\n",
        "from bs4 import BeautifulSoup\n",
        "import re\n",
        "import requests\n",
        "import pandas as pd\n",
        "from urllib.parse import quote\n",
        "import unicodedata\n",
        "from tqdm.notebook import tqdm"
      ],
      "execution_count": 1,
      "outputs": []
    },
    {
      "cell_type": "code",
      "metadata": {
        "colab": {
          "base_uri": "https://localhost:8080/",
          "height": 1000
        },
        "id": "ddcHGmoCepCO",
        "outputId": "6ce0b47f-0329-4d50-fd46-03c5508914be"
      },
      "source": [
        "df = pd.read_csv('네이버top2000(리뷰만추가하면끝).csv',lineterminator='\\n')\n",
        "df=df.rename(columns={'영화제목':'영화명'})\n",
        "df"
      ],
      "execution_count": 78,
      "outputs": [
        {
          "output_type": "execute_result",
          "data": {
            "text/html": [
              "<div>\n",
              "<style scoped>\n",
              "    .dataframe tbody tr th:only-of-type {\n",
              "        vertical-align: middle;\n",
              "    }\n",
              "\n",
              "    .dataframe tbody tr th {\n",
              "        vertical-align: top;\n",
              "    }\n",
              "\n",
              "    .dataframe thead th {\n",
              "        text-align: right;\n",
              "    }\n",
              "</style>\n",
              "<table border=\"1\" class=\"dataframe\">\n",
              "  <thead>\n",
              "    <tr style=\"text-align: right;\">\n",
              "      <th></th>\n",
              "      <th>Unnamed: 0</th>\n",
              "      <th>영화명</th>\n",
              "      <th>감독</th>\n",
              "      <th>등급</th>\n",
              "      <th>관람객평점</th>\n",
              "      <th>네티즌평점</th>\n",
              "      <th>장르</th>\n",
              "      <th>국적</th>\n",
              "      <th>영화시간</th>\n",
              "      <th>개봉일</th>\n",
              "      <th>추천</th>\n",
              "      <th>10대 비율</th>\n",
              "      <th>20대 비율</th>\n",
              "      <th>30대 비율</th>\n",
              "      <th>40대 비율</th>\n",
              "      <th>50대 비율</th>\n",
              "      <th>남성 만족도</th>\n",
              "      <th>여성 만족도</th>\n",
              "      <th>스토리</th>\n",
              "      <th>관객평점인원</th>\n",
              "      <th>네티즌평점인원</th>\n",
              "      <th>배우</th>\n",
              "      <th>블로그</th>\n",
              "    </tr>\n",
              "  </thead>\n",
              "  <tbody>\n",
              "    <tr>\n",
              "      <th>0</th>\n",
              "      <td>0</td>\n",
              "      <td>밥정</td>\n",
              "      <td>박혜령</td>\n",
              "      <td>전체 관람가</td>\n",
              "      <td>관람객 평점 9.70점</td>\n",
              "      <td>9.63</td>\n",
              "      <td>다큐멘터리 드라마</td>\n",
              "      <td>한국</td>\n",
              "      <td>82분</td>\n",
              "      <td>20201007 개봉</td>\n",
              "      <td>이 영화는 40대 여성이 좋아하는 스토리가 뛰어난 영화입니다.</td>\n",
              "      <td>5%</td>\n",
              "      <td>35%</td>\n",
              "      <td>25%</td>\n",
              "      <td>15%</td>\n",
              "      <td>20%</td>\n",
              "      <td>9.46</td>\n",
              "      <td>9.88</td>\n",
              "      <td>그리움으로 짓고 진심으로 눌러 담아 정성껏 차린 한상차림. 밥으로 정을 나누는 인생...</td>\n",
              "      <td>참여 20명</td>\n",
              "      <td>참여 350명</td>\n",
              "      <td>['임지호']</td>\n",
              "      <td>x</td>\n",
              "    </tr>\n",
              "    <tr>\n",
              "      <th>1</th>\n",
              "      <td>1</td>\n",
              "      <td>그린 북</td>\n",
              "      <td>피터 패럴리</td>\n",
              "      <td>12세 관람가</td>\n",
              "      <td>관람객 평점 9.55점</td>\n",
              "      <td>9.59</td>\n",
              "      <td>드라마</td>\n",
              "      <td>미국</td>\n",
              "      <td>130분</td>\n",
              "      <td>20190109 개봉</td>\n",
              "      <td>이 영화는 30대 남성이 좋아하는 스토리가 뛰어난 영화입니다.</td>\n",
              "      <td>0%</td>\n",
              "      <td>30%</td>\n",
              "      <td>29%</td>\n",
              "      <td>17%</td>\n",
              "      <td>23%</td>\n",
              "      <td>9.51</td>\n",
              "      <td>9.79</td>\n",
              "      <td>언제 어디서든 바른 생활! 완벽한 천재 뮤지션 ‘돈 셜리’\\r. 원칙보다 반칙! 다...</td>\n",
              "      <td>참여 2072명</td>\n",
              "      <td>참여 7544명</td>\n",
              "      <td>['비고 모텐슨', '마허샬라 알리', '린다 카델리니', '세바스찬 매니스캘코',...</td>\n",
              "      <td>오늘은 영화 '&lt;b&gt;그린북&lt;/b&gt;'을 12단계로 분석해보려고 하는데요~ &lt;b&gt;그린북...</td>\n",
              "    </tr>\n",
              "    <tr>\n",
              "      <th>2</th>\n",
              "      <td>2</td>\n",
              "      <td>가버나움</td>\n",
              "      <td>나딘 라바키</td>\n",
              "      <td>15세 관람가</td>\n",
              "      <td>관람객 평점 9.54점</td>\n",
              "      <td>9.59</td>\n",
              "      <td>드라마</td>\n",
              "      <td>레바논 프랑스</td>\n",
              "      <td>126분</td>\n",
              "      <td>20190124 개봉</td>\n",
              "      <td>이 영화는 20대 여성이 좋아하는 연기가 뛰어난 영화입니다.</td>\n",
              "      <td>2%</td>\n",
              "      <td>37%</td>\n",
              "      <td>29%</td>\n",
              "      <td>15%</td>\n",
              "      <td>17%</td>\n",
              "      <td>9.29</td>\n",
              "      <td>9.86</td>\n",
              "      <td>-  나를 세상에 태어나게 한 \\r \"부모님을 고소하고 싶어요...\"\\r -출...</td>\n",
              "      <td>참여 1394명</td>\n",
              "      <td>참여 3417명</td>\n",
              "      <td>['자인 알 라피아', '요르다노스 시프로우', '보루와티프 트레저 반콜', '나딘...</td>\n",
              "      <td>영화 &amp;lt;&lt;b&gt;가버나움&lt;/b&gt;&amp;gt;에 대해 여러분들에게 소개해드리고자 주간 인...</td>\n",
              "    </tr>\n",
              "    <tr>\n",
              "      <th>3</th>\n",
              "      <td>3</td>\n",
              "      <td>디지몬 어드벤처 라스트 에볼루션 : 인연</td>\n",
              "      <td>타구치 토모히사</td>\n",
              "      <td>12세 관람가</td>\n",
              "      <td>관람객 평점 없음</td>\n",
              "      <td>9.54</td>\n",
              "      <td>애니메이션 모험</td>\n",
              "      <td>일본</td>\n",
              "      <td>114분</td>\n",
              "      <td>20210217 개봉</td>\n",
              "      <td>이 영화는 20대 남성이 좋아하는 스토리가 뛰어난 영화입니다.</td>\n",
              "      <td>x</td>\n",
              "      <td>x</td>\n",
              "      <td>x</td>\n",
              "      <td>x</td>\n",
              "      <td>x</td>\n",
              "      <td>9.43</td>\n",
              "      <td>9.87</td>\n",
              "      <td>-  컴퓨터 모니터를 통해 세상 밖으로 나온 의문의 알.\\r 타이치와 히카리 ...</td>\n",
              "      <td>참여 0명</td>\n",
              "      <td>참여 835명</td>\n",
              "      <td>['하나에 나츠키', '호소야 요시마사', '사카모토 치카', '야마구치 마유미',...</td>\n",
              "      <td>익숙한 디지몬들과 성장해버렸지만 친구 같은 주인공들 덕분에 자연스럽게 웃음이 번졌다...</td>\n",
              "    </tr>\n",
              "    <tr>\n",
              "      <th>4</th>\n",
              "      <td>4</td>\n",
              "      <td>원더</td>\n",
              "      <td>스티븐 크보스키</td>\n",
              "      <td>전체 관람가</td>\n",
              "      <td>관람객 평점 9.43점</td>\n",
              "      <td>9.53</td>\n",
              "      <td>드라마</td>\n",
              "      <td>미국</td>\n",
              "      <td>113분</td>\n",
              "      <td>20210211 재개봉  20171227 개봉</td>\n",
              "      <td>이 영화는 20대 여성이 좋아하는 스토리가 뛰어난 영화입니다.</td>\n",
              "      <td>2%</td>\n",
              "      <td>34%</td>\n",
              "      <td>27%</td>\n",
              "      <td>29%</td>\n",
              "      <td>8%</td>\n",
              "      <td>9.22</td>\n",
              "      <td>9.80</td>\n",
              "      <td>“넌 못생기지 않았어, 네게 관심있는 사람은 알게 될 거야”. 헬멧 속에 숨었던 아...</td>\n",
              "      <td>참여 319명</td>\n",
              "      <td>참여 3740명</td>\n",
              "      <td>['제이콥 트렘블레이', '줄리아 로버츠', '오웬 윌슨', '이자벨라 비도빅', ...</td>\n",
              "      <td>그래서 &lt;b&gt;원더&lt;/b&gt;우먼 보기를 잘했단 생각이 들었답니다. 서평지청 출신의 서연...</td>\n",
              "    </tr>\n",
              "    <tr>\n",
              "      <th>...</th>\n",
              "      <td>...</td>\n",
              "      <td>...</td>\n",
              "      <td>...</td>\n",
              "      <td>...</td>\n",
              "      <td>...</td>\n",
              "      <td>...</td>\n",
              "      <td>...</td>\n",
              "      <td>...</td>\n",
              "      <td>...</td>\n",
              "      <td>...</td>\n",
              "      <td>...</td>\n",
              "      <td>...</td>\n",
              "      <td>...</td>\n",
              "      <td>...</td>\n",
              "      <td>...</td>\n",
              "      <td>...</td>\n",
              "      <td>...</td>\n",
              "      <td>...</td>\n",
              "      <td>...</td>\n",
              "      <td>...</td>\n",
              "      <td>...</td>\n",
              "      <td>...</td>\n",
              "      <td>...</td>\n",
              "    </tr>\n",
              "    <tr>\n",
              "      <th>1995</th>\n",
              "      <td>1995</td>\n",
              "      <td>귀 없는 토끼</td>\n",
              "      <td>틸 슈바이거</td>\n",
              "      <td>청소년 관람불가</td>\n",
              "      <td>관람객 평점 없음</td>\n",
              "      <td>NaN</td>\n",
              "      <td>코미디 멜로로맨스</td>\n",
              "      <td>독일</td>\n",
              "      <td>115분</td>\n",
              "      <td>20091119 개봉</td>\n",
              "      <td>이 영화는 20대 여성이 좋아하는 연기가 뛰어난 영화입니다.</td>\n",
              "      <td>x</td>\n",
              "      <td>x</td>\n",
              "      <td>x</td>\n",
              "      <td>x</td>\n",
              "      <td>x</td>\n",
              "      <td>7.86</td>\n",
              "      <td>8.42</td>\n",
              "      <td>-</td>\n",
              "      <td>0</td>\n",
              "      <td>0</td>\n",
              "      <td>[]</td>\n",
              "      <td>아이에게도 이런 교육은 꼭 필요할 거 같아 소개된 책들을 구하려고 보니 죄다 절판된...</td>\n",
              "    </tr>\n",
              "    <tr>\n",
              "      <th>1996</th>\n",
              "      <td>1996</td>\n",
              "      <td>로빈슨 크루소</td>\n",
              "      <td>벤 스타센, 빈센트 케스텔루트</td>\n",
              "      <td>전체 관람가</td>\n",
              "      <td>관람객 평점 8.21점</td>\n",
              "      <td>8.17</td>\n",
              "      <td>애니메이션 모험 코미디</td>\n",
              "      <td>벨기에</td>\n",
              "      <td>90분</td>\n",
              "      <td>20160907 개봉</td>\n",
              "      <td>이 영화는 30대 여성이 좋아하는 OST, 연출, 연기가 뛰어난 영화입니다.</td>\n",
              "      <td>0%</td>\n",
              "      <td>6%</td>\n",
              "      <td>64%</td>\n",
              "      <td>30%</td>\n",
              "      <td>1%</td>\n",
              "      <td>6.26</td>\n",
              "      <td>8.63</td>\n",
              "      <td>300시간이면 바람둥이 완전접수!  -  연애는 하룻밤 엔조이 전문, 취재는 파파라...</td>\n",
              "      <td>참여 0명</td>\n",
              "      <td>참여 298명</td>\n",
              "      <td>['틸 슈바이거', '노라 치르너', '마치아스 슈와바이어퍼', '알바라 호펠스',...</td>\n",
              "      <td>집은 &lt;b&gt;로빈슨 크루소&lt;/b&gt;가 만든 첫번째 집. 노란 색 레고로 만든 것은 농장...</td>\n",
              "    </tr>\n",
              "    <tr>\n",
              "      <th>1997</th>\n",
              "      <td>1997</td>\n",
              "      <td>저스트 라이크 헤븐</td>\n",
              "      <td>마크 워터스</td>\n",
              "      <td>15세 관람가</td>\n",
              "      <td>관람객 평점 없음</td>\n",
              "      <td>8.15</td>\n",
              "      <td>멜로로맨스 코미디</td>\n",
              "      <td>미국</td>\n",
              "      <td>94분</td>\n",
              "      <td>20051201 개봉</td>\n",
              "      <td>이 영화는 10대 남성이 좋아하는 연기가 뛰어난 영화입니다.</td>\n",
              "      <td>x</td>\n",
              "      <td>x</td>\n",
              "      <td>x</td>\n",
              "      <td>x</td>\n",
              "      <td>x</td>\n",
              "      <td>8.38</td>\n",
              "      <td>7.93</td>\n",
              "      <td>‘인간’ 빼고 다 있는 동물들의 파라다이스! 그곳에 등장한 최초의 인간 ‘로빈슨 크...</td>\n",
              "      <td>참여 314명</td>\n",
              "      <td>참여 450명</td>\n",
              "      <td>['유리 로웬탈', '데이비드 호워드', '콜린 메츠거', '라일라 베르진', '조...</td>\n",
              "      <td>영화 &lt;b&gt;저스트라이크헤븐&lt;/b&gt; 가족중 악신이 있으며 그 악신을 헤쳐서 아예 없애...</td>\n",
              "    </tr>\n",
              "    <tr>\n",
              "      <th>1998</th>\n",
              "      <td>1998</td>\n",
              "      <td>프란시스 하</td>\n",
              "      <td>노아 바움백</td>\n",
              "      <td>15세 관람가</td>\n",
              "      <td>관람객 평점 8.24점</td>\n",
              "      <td>8.15</td>\n",
              "      <td>코미디 멜로로맨스</td>\n",
              "      <td>미국</td>\n",
              "      <td>86분</td>\n",
              "      <td>20200924 재개봉  20140717 개봉</td>\n",
              "      <td>이 영화는 20대 여성이 좋아하는 연출, 연기가 뛰어난 영화입니다.</td>\n",
              "      <td>2%</td>\n",
              "      <td>66%</td>\n",
              "      <td>25%</td>\n",
              "      <td>5%</td>\n",
              "      <td>3%</td>\n",
              "      <td>7.70</td>\n",
              "      <td>8.36</td>\n",
              "      <td>-  &lt;저스트 라이크 헤븐&gt;은, 사고로 혼수상태에 빠진 한 여자(리즈 위더스푼...</td>\n",
              "      <td>참여 0명</td>\n",
              "      <td>참여 700명</td>\n",
              "      <td>['리즈 위더스푼', '마크 러팔로', '다널 로귀', '디나 스파이베이', '벤 ...</td>\n",
              "      <td>그래서 이 둘이 함께 만든 영화인 &amp;lt;&lt;b&gt;프란시스 하&lt;/b&gt;&amp;gt;가 보고싶었...</td>\n",
              "    </tr>\n",
              "    <tr>\n",
              "      <th>1999</th>\n",
              "      <td>1999</td>\n",
              "      <td>킥 애스 2: 겁 없는 녀석들</td>\n",
              "      <td>제프 와드로</td>\n",
              "      <td>청소년 관람불가</td>\n",
              "      <td>관람객 평점 없음</td>\n",
              "      <td>8.15</td>\n",
              "      <td>액션 코미디 범죄</td>\n",
              "      <td>미국 영국</td>\n",
              "      <td>102분</td>\n",
              "      <td>20131017 개봉</td>\n",
              "      <td>이 영화는 20대 남성이 좋아하는 연출이 뛰어난 영화입니다.</td>\n",
              "      <td>x</td>\n",
              "      <td>x</td>\n",
              "      <td>x</td>\n",
              "      <td>x</td>\n",
              "      <td>x</td>\n",
              "      <td>8.18</td>\n",
              "      <td>8.65</td>\n",
              "      <td>-  브루클린의 작은 아파트에서 둘도 없는 친구 소피와 살고 있는 27살 뉴요...</td>\n",
              "      <td>참여 517명</td>\n",
              "      <td>참여 971명</td>\n",
              "      <td>['그레타 거윅', '믹키 섬너', '아담 드라이버', '그레이스 검머', '마이클...</td>\n",
              "      <td>영화 &lt;b&gt;킥 애스 2: 겁 없는 녀석들&lt;/b&gt; 정보 킥애스와 힛걸은 마더퍼커의 기...</td>\n",
              "    </tr>\n",
              "  </tbody>\n",
              "</table>\n",
              "<p>2000 rows × 23 columns</p>\n",
              "</div>"
            ],
            "text/plain": [
              "      Unnamed: 0  ...                                                블로그\n",
              "0              0  ...                                                  x\n",
              "1              1  ...  오늘은 영화 '<b>그린북</b>'을 12단계로 분석해보려고 하는데요~ <b>그린북...\n",
              "2              2  ...  영화 &lt;<b>가버나움</b>&gt;에 대해 여러분들에게 소개해드리고자 주간 인...\n",
              "3              3  ...  익숙한 디지몬들과 성장해버렸지만 친구 같은 주인공들 덕분에 자연스럽게 웃음이 번졌다...\n",
              "4              4  ...  그래서 <b>원더</b>우먼 보기를 잘했단 생각이 들었답니다. 서평지청 출신의 서연...\n",
              "...          ...  ...                                                ...\n",
              "1995        1995  ...  아이에게도 이런 교육은 꼭 필요할 거 같아 소개된 책들을 구하려고 보니 죄다 절판된...\n",
              "1996        1996  ...  집은 <b>로빈슨 크루소</b>가 만든 첫번째 집. 노란 색 레고로 만든 것은 농장...\n",
              "1997        1997  ...  영화 <b>저스트라이크헤븐</b> 가족중 악신이 있으며 그 악신을 헤쳐서 아예 없애...\n",
              "1998        1998  ...  그래서 이 둘이 함께 만든 영화인 &lt;<b>프란시스 하</b>&gt;가 보고싶었...\n",
              "1999        1999  ...  영화 <b>킥 애스 2: 겁 없는 녀석들</b> 정보 킥애스와 힛걸은 마더퍼커의 기...\n",
              "\n",
              "[2000 rows x 23 columns]"
            ]
          },
          "metadata": {},
          "execution_count": 78
        }
      ]
    },
    {
      "cell_type": "code",
      "metadata": {
        "colab": {
          "base_uri": "https://localhost:8080/",
          "height": 648
        },
        "id": "fEVl2Qe7ete8",
        "outputId": "92256b04-ee55-43ed-9d6f-c6cbf0800f49"
      },
      "source": [
        "df2 = pd.read_csv('스토리배우참여_수정.csv',lineterminator='\\n')\n",
        "df2 = df2.sort_values(['영화명'])\n",
        "df2"
      ],
      "execution_count": 116,
      "outputs": [
        {
          "output_type": "execute_result",
          "data": {
            "text/html": [
              "<div>\n",
              "<style scoped>\n",
              "    .dataframe tbody tr th:only-of-type {\n",
              "        vertical-align: middle;\n",
              "    }\n",
              "\n",
              "    .dataframe tbody tr th {\n",
              "        vertical-align: top;\n",
              "    }\n",
              "\n",
              "    .dataframe thead th {\n",
              "        text-align: right;\n",
              "    }\n",
              "</style>\n",
              "<table border=\"1\" class=\"dataframe\">\n",
              "  <thead>\n",
              "    <tr style=\"text-align: right;\">\n",
              "      <th></th>\n",
              "      <th>Unnamed: 0</th>\n",
              "      <th>영화명</th>\n",
              "      <th>관람객참여</th>\n",
              "      <th>네티즌참여</th>\n",
              "      <th>배우</th>\n",
              "      <th>스토리</th>\n",
              "    </tr>\n",
              "  </thead>\n",
              "  <tbody>\n",
              "    <tr>\n",
              "      <th>779</th>\n",
              "      <td>779</td>\n",
              "      <td>...ing</td>\n",
              "      <td>참여 0명</td>\n",
              "      <td>참여 1599명</td>\n",
              "      <td>['임수정', '김래원', '이미숙', '최덕문', '이성경', '김지영', '윤덕...</td>\n",
              "      <td>내 생애 가장 행복한 날들  -  평범한 고등학생 민아. 자신이 보기에도 유난히 철...</td>\n",
              "    </tr>\n",
              "    <tr>\n",
              "      <th>749</th>\n",
              "      <td>749</td>\n",
              "      <td>100일 동안 100가지로 100퍼센트 행복찾기</td>\n",
              "      <td>참여 111명</td>\n",
              "      <td>참여 340명</td>\n",
              "      <td>['플로리안 데이비드 핏츠', '마치아스 슈와바이어퍼', '미리엄 스테인', '한넬...</td>\n",
              "      <td>-  어렸을 적부터 함께 자라고, IT 회사도 공동 운영,\\r 사는 집도 아랫...</td>\n",
              "    </tr>\n",
              "    <tr>\n",
              "      <th>870</th>\n",
              "      <td>870</td>\n",
              "      <td>10분</td>\n",
              "      <td>참여 9명</td>\n",
              "      <td>참여 610명</td>\n",
              "      <td>['백종환', '김종구', '정희태', '이시원', '장리우', '정승길', '성민...</td>\n",
              "      <td>'출근’이 인생의 목표인 당신에게 바친다!. 93분간 펼쳐지는 스릴 넘치는 직장생활...</td>\n",
              "    </tr>\n",
              "    <tr>\n",
              "      <th>853</th>\n",
              "      <td>853</td>\n",
              "      <td>12 몽키즈</td>\n",
              "      <td>참여 0명</td>\n",
              "      <td>참여 1831명</td>\n",
              "      <td>['브루스 윌리스', '매들린 스토우', '브래드 피트', '크리스토퍼 플러머']</td>\n",
              "      <td>-  서기 2035년 미래의 인류는 바이러스 감염으로 인해 99%가 멸망하고 ...</td>\n",
              "    </tr>\n",
              "    <tr>\n",
              "      <th>1969</th>\n",
              "      <td>1969</td>\n",
              "      <td>127 시간</td>\n",
              "      <td>참여 0명</td>\n",
              "      <td>참여 2767명</td>\n",
              "      <td>['제임스 프랭코', '케이트 마라', '앰버 탐블린', '숀 보트', '콜맨 스팅...</td>\n",
              "      <td>살고자 하는 의지보다 더 강한 것은 없다!  -  남은 건 오직… 로프, 칼 그리고...</td>\n",
              "    </tr>\n",
              "    <tr>\n",
              "      <th>...</th>\n",
              "      <td>...</td>\n",
              "      <td>...</td>\n",
              "      <td>...</td>\n",
              "      <td>...</td>\n",
              "      <td>...</td>\n",
              "      <td>...</td>\n",
              "    </tr>\n",
              "    <tr>\n",
              "      <th>1573</th>\n",
              "      <td>1573</td>\n",
              "      <td>NaN</td>\n",
              "      <td>NaN</td>\n",
              "      <td>NaN</td>\n",
              "      <td>[]</td>\n",
              "      <td>-</td>\n",
              "    </tr>\n",
              "    <tr>\n",
              "      <th>1596</th>\n",
              "      <td>1596</td>\n",
              "      <td>NaN</td>\n",
              "      <td>NaN</td>\n",
              "      <td>NaN</td>\n",
              "      <td>[]</td>\n",
              "      <td>-</td>\n",
              "    </tr>\n",
              "    <tr>\n",
              "      <th>1621</th>\n",
              "      <td>1621</td>\n",
              "      <td>NaN</td>\n",
              "      <td>NaN</td>\n",
              "      <td>NaN</td>\n",
              "      <td>[]</td>\n",
              "      <td>-</td>\n",
              "    </tr>\n",
              "    <tr>\n",
              "      <th>1681</th>\n",
              "      <td>1681</td>\n",
              "      <td>NaN</td>\n",
              "      <td>NaN</td>\n",
              "      <td>NaN</td>\n",
              "      <td>[]</td>\n",
              "      <td>-</td>\n",
              "    </tr>\n",
              "    <tr>\n",
              "      <th>1995</th>\n",
              "      <td>1995</td>\n",
              "      <td>NaN</td>\n",
              "      <td>NaN</td>\n",
              "      <td>NaN</td>\n",
              "      <td>[]</td>\n",
              "      <td>-</td>\n",
              "    </tr>\n",
              "  </tbody>\n",
              "</table>\n",
              "<p>2000 rows × 6 columns</p>\n",
              "</div>"
            ],
            "text/plain": [
              "      Unnamed: 0  ...                                                스토리\n",
              "779          779  ...  내 생애 가장 행복한 날들  -  평범한 고등학생 민아. 자신이 보기에도 유난히 철...\n",
              "749          749  ...     -  어렸을 적부터 함께 자라고, IT 회사도 공동 운영,\\r 사는 집도 아랫...\n",
              "870          870  ...  '출근’이 인생의 목표인 당신에게 바친다!. 93분간 펼쳐지는 스릴 넘치는 직장생활...\n",
              "853          853  ...     -  서기 2035년 미래의 인류는 바이러스 감염으로 인해 99%가 멸망하고 ...\n",
              "1969        1969  ...  살고자 하는 의지보다 더 강한 것은 없다!  -  남은 건 오직… 로프, 칼 그리고...\n",
              "...          ...  ...                                                ...\n",
              "1573        1573  ...                                               -   \n",
              "1596        1596  ...                                               -   \n",
              "1621        1621  ...                                               -   \n",
              "1681        1681  ...                                               -   \n",
              "1995        1995  ...                                               -   \n",
              "\n",
              "[2000 rows x 6 columns]"
            ]
          },
          "metadata": {},
          "execution_count": 116
        }
      ]
    },
    {
      "cell_type": "code",
      "metadata": {
        "colab": {
          "base_uri": "https://localhost:8080/"
        },
        "id": "IlgTFZzqoLk8",
        "outputId": "500188cd-fd2c-4ad8-db60-6e959ff54d74"
      },
      "source": [
        "## 25개 크롤링 실패"
      ],
      "execution_count": 82,
      "outputs": [
        {
          "output_type": "execute_result",
          "data": {
            "text/plain": [
              "Unnamed: 0     0\n",
              "영화명           25\n",
              "감독            25\n",
              "등급            46\n",
              "관람객평점         26\n",
              "네티즌평점         26\n",
              "장르            27\n",
              "국적            25\n",
              "영화시간          25\n",
              "개봉일           36\n",
              "추천            26\n",
              "10대 비율         0\n",
              "20대 비율         0\n",
              "30대 비율         0\n",
              "40대 비율         0\n",
              "50대 비율         0\n",
              "남성 만족도         0\n",
              "여성 만족도         0\n",
              "스토리            0\n",
              "관객평점인원         0\n",
              "네티즌평점인원        0\n",
              "배우             0\n",
              "블로그            0\n",
              "dtype: int64"
            ]
          },
          "metadata": {},
          "execution_count": 82
        }
      ]
    },
    {
      "cell_type": "code",
      "metadata": {
        "id": "NOPo9DF5ft_M"
      },
      "source": [
        "df = df.sort_values(['영화명'])"
      ],
      "execution_count": null,
      "outputs": []
    },
    {
      "cell_type": "code",
      "metadata": {
        "colab": {
          "base_uri": "https://localhost:8080/"
        },
        "id": "fqlAk64hf_Q1",
        "outputId": "30e3a2ae-0f00-4b01-cd17-939e5b929016"
      },
      "source": [
        "set(df['영화명'].unique()) - set(df2['영화명'].unique())"
      ],
      "execution_count": 106,
      "outputs": [
        {
          "output_type": "execute_result",
          "data": {
            "text/plain": [
              "{'킥 애스 2: 겁 없는 녀석들'}"
            ]
          },
          "metadata": {},
          "execution_count": 106
        }
      ]
    },
    {
      "cell_type": "code",
      "metadata": {
        "colab": {
          "base_uri": "https://localhost:8080/"
        },
        "id": "VXchTK1GikVQ",
        "outputId": "a2ff71e2-d1b0-44b1-804b-0c38f15d9967"
      },
      "source": [
        "df[df['영화명']=='킥 애스 2: 겁 없는 녀석들'].index"
      ],
      "execution_count": 50,
      "outputs": [
        {
          "output_type": "execute_result",
          "data": {
            "text/plain": [
              "Int64Index([], dtype='int64')"
            ]
          },
          "metadata": {},
          "execution_count": 50
        }
      ]
    },
    {
      "cell_type": "code",
      "metadata": {
        "id": "EYhG2OOVjZBC"
      },
      "source": [
        "df = df.drop(index=1999)"
      ],
      "execution_count": 107,
      "outputs": []
    },
    {
      "cell_type": "code",
      "metadata": {
        "colab": {
          "base_uri": "https://localhost:8080/"
        },
        "id": "LV14CBHYf_zs",
        "outputId": "a458fde2-6db9-4489-97e0-6a3b650b18d5"
      },
      "source": [
        "set(df2['영화명'].unique()) - set(df['영화명'].unique())"
      ],
      "execution_count": 49,
      "outputs": [
        {
          "output_type": "execute_result",
          "data": {
            "text/plain": [
              "set()"
            ]
          },
          "metadata": {},
          "execution_count": 49
        }
      ]
    },
    {
      "cell_type": "code",
      "metadata": {
        "colab": {
          "base_uri": "https://localhost:8080/"
        },
        "id": "hpyZ6iVKjTfs",
        "outputId": "54e552ca-5b65-4511-e9a3-9d7fa5d074ab"
      },
      "source": [
        "df2[df2['영화명']=='짱구는 못말려 극장판 : 태풍을 부르는 황금 스파이 대작전'].index"
      ],
      "execution_count": 43,
      "outputs": [
        {
          "output_type": "execute_result",
          "data": {
            "text/plain": [
              "Int64Index([1987], dtype='int64')"
            ]
          },
          "metadata": {},
          "execution_count": 43
        }
      ]
    },
    {
      "cell_type": "code",
      "metadata": {
        "id": "4Q0Xf2Izjttq"
      },
      "source": [
        "# 한쪽에 없는 데이터를 삭제\n",
        "df2 = df2.drop(index=1987)"
      ],
      "execution_count": 117,
      "outputs": []
    },
    {
      "cell_type": "code",
      "metadata": {
        "id": "wTJtgQgIj2aI"
      },
      "source": [
        "df = df.reset_index()\n",
        "df2 = df2.reset_index()"
      ],
      "execution_count": 159,
      "outputs": []
    },
    {
      "cell_type": "code",
      "metadata": {
        "colab": {
          "base_uri": "https://localhost:8080/"
        },
        "id": "diRMyWsvhUOX",
        "outputId": "e648ad88-04f6-442d-faaa-290a81ed6e45"
      },
      "source": [
        "df3 = pd.merge(df,df2)\n",
        "df3.shape"
      ],
      "execution_count": 167,
      "outputs": [
        {
          "output_type": "execute_result",
          "data": {
            "text/plain": [
              "(1999, 23)"
            ]
          },
          "metadata": {},
          "execution_count": 167
        }
      ]
    },
    {
      "cell_type": "code",
      "metadata": {
        "colab": {
          "base_uri": "https://localhost:8080/"
        },
        "id": "U4Ayx4X0hVsE",
        "outputId": "240d7d1a-034a-4dea-f0e8-0d6106dd8032"
      },
      "source": [
        "# 영화명순으로 sort한 결과 일치하는지 확인\n",
        "a=[]\n",
        "for i in range(len(df['영화명'])):\n",
        "  if df.iloc[i,2] == df2.iloc[i,2]:\n",
        "    pass\n",
        "  else:\n",
        "    a.append(i)\n",
        "a"
      ],
      "execution_count": 140,
      "outputs": [
        {
          "output_type": "execute_result",
          "data": {
            "text/plain": [
              "[1974,\n",
              " 1975,\n",
              " 1976,\n",
              " 1977,\n",
              " 1978,\n",
              " 1979,\n",
              " 1980,\n",
              " 1981,\n",
              " 1982,\n",
              " 1983,\n",
              " 1984,\n",
              " 1985,\n",
              " 1986,\n",
              " 1987,\n",
              " 1988,\n",
              " 1989,\n",
              " 1990,\n",
              " 1991,\n",
              " 1992,\n",
              " 1993,\n",
              " 1994,\n",
              " 1995,\n",
              " 1996,\n",
              " 1997,\n",
              " 1998]"
            ]
          },
          "metadata": {},
          "execution_count": 140
        }
      ]
    },
    {
      "cell_type": "code",
      "metadata": {
        "id": "utxvX9aUqTxL"
      },
      "source": [
        "df4 = df3.sort_values(['네티즌평점'],ascending=False)"
      ],
      "execution_count": 174,
      "outputs": []
    },
    {
      "cell_type": "code",
      "metadata": {
        "id": "kuA6oLmksZZL"
      },
      "source": [
        "df4 = df4.reset_index()"
      ],
      "execution_count": 176,
      "outputs": []
    },
    {
      "cell_type": "code",
      "metadata": {
        "id": "wqyxUQees5Py"
      },
      "source": [
        "df4.to_csv('10월3일 자료통합')"
      ],
      "execution_count": 182,
      "outputs": []
    },
    {
      "cell_type": "code",
      "metadata": {
        "colab": {
          "base_uri": "https://localhost:8080/"
        },
        "id": "E0VEqPQPtGZD",
        "outputId": "e1d56d7a-ee86-47a0-ebe5-475b33b5dae7"
      },
      "source": [
        "df4.iloc[1958]"
      ],
      "execution_count": 185,
      "outputs": [
        {
          "output_type": "execute_result",
          "data": {
            "text/plain": [
              "영화명                                                  언어의 정원\n",
              "감독                                                  신카이 마코토\n",
              "등급                                                  12세 관람가\n",
              "관람객평점                                          관람객 평점 8.95점\n",
              "네티즌평점                                                  8.16\n",
              "장르                                                    애니메이션\n",
              "국적                                                       일본\n",
              "영화시간                                                   46분 \n",
              "개봉일                  20200422 재개봉 20160707 재개봉  20130814 개봉\n",
              "추천                       이 영화는 20대 남성이 좋아하는 영상미가 뛰어난 영화입니다.\n",
              "10대 비율                                                  12%\n",
              "20대 비율                                                  62%\n",
              "30대 비율                                                  17%\n",
              "40대 비율                                                   8%\n",
              "50대 비율                                                   1%\n",
              "남성 만족도                                                 8.35\n",
              "여성 만족도                                                 7.69\n",
              "블로그       요즘엔 왜이리 싫은거야 뜬금 없지만 눈뜨자마자 갑자기 ‘<b>언어의 정원</b>’ ...\n",
              "관람객참여                                               참여 154명\n",
              "네티즌참여                                              참여 2489명\n",
              "배우               ['이리노 미유', '하나자와 카나', '히라노 후미', '테라사키 유카']\n",
              "스토리       사랑보다 훨씬 더 이전의 고독한 사랑의 이야기!\\r.   -  구두 디자이너를 꿈꾸...\n",
              "Name: 1958, dtype: object"
            ]
          },
          "metadata": {},
          "execution_count": 185
        }
      ]
    },
    {
      "cell_type": "code",
      "metadata": {
        "id": "eWckW4FXuatT"
      },
      "source": [
        "#\n",
        "# set(df2['영화명'].unique()) - set(df['영화명'].unique()) 을 이용해 한쪽에만 있는 영화를 찾아낸후 제거\n",
        "# 영화명 순으로 sorting\n",
        "# 서로 순서가 맞는지 확인\n",
        "##############\n",
        "#a=[]\n",
        "#for i in range(len(df['영화명'])):\n",
        "#  if df.iloc[i,2] == df2.iloc[i,2]:\n",
        "#    pass\n",
        "#  else:\n",
        "#    a.append(i)\n",
        "#a\n",
        "############\n",
        "# 순서가 맞다면 merge\n",
        "# df3 = pd.merge(df,df2)\n",
        "# df4 = df3.sort_values(['네티즌평점'],ascending=False)\n",
        "# 순위 재조정\n",
        "# df4 = df4.reset_index() 인덱스 재조정"
      ],
      "execution_count": null,
      "outputs": []
    }
  ]
}