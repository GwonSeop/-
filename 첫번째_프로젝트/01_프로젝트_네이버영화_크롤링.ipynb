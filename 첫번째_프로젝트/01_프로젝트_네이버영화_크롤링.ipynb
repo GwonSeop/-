{
  "nbformat": 4,
  "nbformat_minor": 0,
  "metadata": {
    "colab": {
      "name": "01.프로젝트_네이버영화_크롤링.ipynb",
      "provenance": [],
      "collapsed_sections": []
    },
    "kernelspec": {
      "name": "python3",
      "display_name": "Python 3"
    },
    "language_info": {
      "name": "python"
    }
  },
  "cells": [
    {
      "cell_type": "code",
      "metadata": {
        "id": "iBfi45c2uIRg"
      },
      "source": [
        "import requests\n",
        "import pandas as pd\n",
        "from urllib.parse import quote\n",
        "from bs4 import BeautifulSoup\n",
        "import re"
      ],
      "execution_count": 4,
      "outputs": []
    },
    {
      "cell_type": "code",
      "metadata": {
        "id": "IBuCp5qXK-Ij"
      },
      "source": [
        "### 한글 숫자 필터링 함수\n",
        "def test(s):\n",
        "  hangul = re.compile('[^ ㄱ-ㅣ가-힣0-9+]') # 한글과 띄어쓰기를 제외한 모든 글자 # hangul = re.compile('[^ \\u3131-\\u3163\\uac00-\\ud7a3]+') # 위와 동일 \n",
        "  result = hangul.sub('', s) # 한글과 띄어쓰기를 제외한 모든 부분을 제거 \n",
        "  return (result)\n"
      ],
      "execution_count": 5,
      "outputs": []
    },
    {
      "cell_type": "code",
      "metadata": {
        "id": "CNRAQkviuCLr"
      },
      "source": [
        "name = '명량'\n",
        "url = f'https://movie.naver.com/movie/search/result.naver?query={name}&section=all'      # point 사이트 내에서 평점 , point 부분이 바뀌면 그 밖에 리뷰, 주요정보 등 다른 정보가 화면내 표시\n",
        "req = requests.get(url)\n",
        "html = req.text\n",
        "#html"
      ],
      "execution_count": 63,
      "outputs": []
    },
    {
      "cell_type": "code",
      "metadata": {
        "id": "BjxY0kIBu4TJ"
      },
      "source": [
        "soup =BeautifulSoup(html, 'html.parser')"
      ],
      "execution_count": 64,
      "outputs": []
    },
    {
      "cell_type": "code",
      "metadata": {
        "id": "PvlkTB2wvJTQ",
        "colab": {
          "base_uri": "https://localhost:8080/",
          "height": 214
        },
        "outputId": "76fe4902-9809-4309-ce49-b691d1aa98b1"
      },
      "source": [
        "inf_m = soup.select_one(\"#netizen_point_graph > div > strong\")\n",
        "inf = inf_m.text       ### 네이버 영화측에서 분석한 성별 연령층 정보 + 영화의 특징\n",
        "inf"
      ],
      "execution_count": 65,
      "outputs": [
        {
          "output_type": "error",
          "ename": "AttributeError",
          "evalue": "ignored",
          "traceback": [
            "\u001b[0;31m---------------------------------------------------------------------------\u001b[0m",
            "\u001b[0;31mAttributeError\u001b[0m                            Traceback (most recent call last)",
            "\u001b[0;32m<ipython-input-65-e989e19d661e>\u001b[0m in \u001b[0;36m<module>\u001b[0;34m()\u001b[0m\n\u001b[1;32m      1\u001b[0m \u001b[0minf_m\u001b[0m \u001b[0;34m=\u001b[0m \u001b[0msoup\u001b[0m\u001b[0;34m.\u001b[0m\u001b[0mselect_one\u001b[0m\u001b[0;34m(\u001b[0m\u001b[0;34m\"#netizen_point_graph > div > strong\"\u001b[0m\u001b[0;34m)\u001b[0m\u001b[0;34m\u001b[0m\u001b[0;34m\u001b[0m\u001b[0m\n\u001b[0;32m----> 2\u001b[0;31m \u001b[0minf\u001b[0m \u001b[0;34m=\u001b[0m \u001b[0minf_m\u001b[0m\u001b[0;34m.\u001b[0m\u001b[0mtext\u001b[0m       \u001b[0;31m### 네이버 영화측에서 분석한 성별 연령층 정보 + 영화의 특징\u001b[0m\u001b[0;34m\u001b[0m\u001b[0;34m\u001b[0m\u001b[0m\n\u001b[0m\u001b[1;32m      3\u001b[0m \u001b[0minf\u001b[0m\u001b[0;34m\u001b[0m\u001b[0;34m\u001b[0m\u001b[0m\n",
            "\u001b[0;31mAttributeError\u001b[0m: 'NoneType' object has no attribute 'text'"
          ]
        }
      ]
    },
    {
      "cell_type": "code",
      "metadata": {
        "colab": {
          "base_uri": "https://localhost:8080/",
          "height": 35
        },
        "id": "mK2wgBKuAOXg",
        "outputId": "a0a2a2b6-a1b1-4258-be4f-05db6800b9b9"
      },
      "source": [
        "star = soup.select_one(\"div.main_score div.score a div.star_score span.st_off span.st_on\")\n",
        "star.text       ### 관람객 평점"
      ],
      "execution_count": 95,
      "outputs": [
        {
          "output_type": "execute_result",
          "data": {
            "application/vnd.google.colaboratory.intrinsic+json": {
              "type": "string"
            },
            "text/plain": [
              "'관람객 평점 없음'"
            ]
          },
          "metadata": {},
          "execution_count": 95
        }
      ]
    },
    {
      "cell_type": "code",
      "metadata": {
        "colab": {
          "base_uri": "https://localhost:8080/"
        },
        "id": "yQBQD17FFpMF",
        "outputId": "559b6591-5dfe-4276-fd5c-e2feb95c5bb8"
      },
      "source": [
        "date = soup.select_one('#content > div.article > div.mv_info_area > div.mv_info > dl > dd > p')\n",
        "date = date.text\n",
        "m = date.split('\\n\\n') ## \\n\\n으로 구분 돼 장르, 나라, 시간, 개봉일이 표시되는 것 같습니다.\n",
        "jangru = test(m[1])\n",
        "contry = test(m[2])\n",
        "time = test(m[3])\n",
        "date = test(m[4])\n",
        "print(jangru,contry,time,date)"
      ],
      "execution_count": 96,
      "outputs": [
        {
          "output_type": "stream",
          "name": "stdout",
          "text": [
            "멜로로맨스 코미디 가족 미국 103분   19950513 개봉\n"
          ]
        }
      ]
    },
    {
      "cell_type": "code",
      "metadata": {
        "id": "194-vztkPvmt"
      },
      "source": [
        "name = '명량'\n",
        "url = f'https://movie.naver.com/movie/search/result.naver?query={name}&section=all'"
      ],
      "execution_count": 1,
      "outputs": []
    },
    {
      "cell_type": "code",
      "metadata": {
        "colab": {
          "base_uri": "https://localhost:8080/"
        },
        "id": "fxfm1lYL02GF",
        "outputId": "49c0f43f-9c61-44a0-81e0-58d435f92643"
      },
      "source": [
        "##### 영화 제목\n",
        "name = '명량' #### 영화제목입력\n",
        "url = f'https://movie.naver.com/movie/search/result.naver?query={name}&section=all'\n",
        "req = requests.get(url)\n",
        "html = req.text\n",
        "soup =BeautifulSoup(html, 'html.parser') ## 영화제목 검색된 창\n",
        "title_list =[]\n",
        "star_list = []\n",
        "jangru_list = []\n",
        "country_list = []\n",
        "time_list =[]\n",
        "date_list = []\n",
        "info_list = []\n",
        "for i in range(1,5):\n",
        "  site_num = soup.select_one(f'#old_content > ul.search_list_1 > li:nth-of-type({i}) > dl > dt > a')      ### 중복되는 영화들 중 순서대로 4개만 크롤링\n",
        "  ######### 영화 정보 사이트로 이동\n",
        "  if site_num != None:\n",
        "    new_name = site_num['href']     # 영화 사이트 주소 가져오기\n",
        "    new_url = f'https://movie.naver.com/{new_name}'\n",
        "    new_url = new_url.replace('basic','point')      # 사이트에서 평점을 클릭 해야함\n",
        "    new_req = requests.get(new_url)\n",
        "    new_html = new_req.text\n",
        "    s =BeautifulSoup(new_html, 'html.parser')\n",
        "    ##### 정보 가져오기 ########\n",
        "    title = s.select_one('#content > div.article > div.mv_info_area > div.mv_info > h3 > a')\n",
        "    title = title.text     ### 영화 제목\n",
        "    inf_m = s.select_one(\"#netizen_point_graph > div > strong\")\n",
        "    inf = inf_m.text       ### 네이버 영화측에서 분석한 성별 연령층 정보 + 영화의 특징\n",
        "    star = s.select_one(\"div.main_score div.score a div.star_score span.st_off span.st_on\")\n",
        "    star = star.text       ### 관람객 평점\n",
        "    date = s.select_one('#content > div.article > div.mv_info_area > div.mv_info > dl > dd > p')\n",
        "    date = date.text\n",
        "    m = date.split('\\n\\n') ## \\n\\n으로 구분 돼 장르, 나라, 시간, 개봉일이 표시되는 것 같습니다.\n",
        "    jangru = test(m[1])\n",
        "    country = test(m[2])\n",
        "    time = test(m[3])\n",
        "    date = test(m[4])\n",
        "    title_list.append(title)\n",
        "    star_list.append(star)\n",
        "    jangru_list.append(jangru)\n",
        "    country_list.append(country)\n",
        "    time_list.append(time)\n",
        "    date_list.append(date)\n",
        "    info_list.append(inf)\n",
        "  else:\n",
        "    pass\n",
        "\n",
        "title_list"
      ],
      "execution_count": 88,
      "outputs": [
        {
          "output_type": "execute_result",
          "data": {
            "text/plain": [
              "['명량: 회오리 바다를 향하여', '명량']"
            ]
          },
          "metadata": {},
          "execution_count": 88
        }
      ]
    },
    {
      "cell_type": "code",
      "metadata": {
        "colab": {
          "base_uri": "https://localhost:8080/"
        },
        "id": "kighEfJp2G5e",
        "outputId": "7345a557-615b-4bc8-ea2a-54670e4e4067"
      },
      "source": [
        "##### 영화 제목\n",
        "name = '명량' #### 영화제목입력\n",
        "url = f'https://movie.naver.com/movie/search/result.naver?query={name}&section=all'\n",
        "req = requests.get(url)\n",
        "html = req.text\n",
        "soup =BeautifulSoup(html, 'html.parser') ## 영화제목 검색된 창\n",
        "title_list =[]\n",
        "star_list = []\n",
        "jangru_list = []\n",
        "country_list = []\n",
        "time_list =[]\n",
        "date_list = []\n",
        "info_list = []\n",
        "i= 3\n",
        "site_num = soup.select_one(f'#old_content > ul.search_list_1 > li:nth-of-type({i}) > dl > dt > a')      ### 중복되는 영화들 중 순서대로 4개만 크롤링\n",
        "  ######### 영화 정보 사이트로 이동\n",
        "site_num != None"
      ],
      "execution_count": 84,
      "outputs": [
        {
          "output_type": "execute_result",
          "data": {
            "text/plain": [
              "False"
            ]
          },
          "metadata": {},
          "execution_count": 84
        }
      ]
    },
    {
      "cell_type": "code",
      "metadata": {
        "colab": {
          "base_uri": "https://localhost:8080/",
          "height": 35
        },
        "id": "tNOYpPcM4bCw",
        "outputId": "be997b0d-ea64-4b34-8885-838bef89b472"
      },
      "source": [
        "title = soup.select_one('#content > div.article > div.mv_info_area > div.mv_info > h3 > a')\n",
        "title = title.text"
      ],
      "execution_count": 60,
      "outputs": [
        {
          "output_type": "execute_result",
          "data": {
            "application/vnd.google.colaboratory.intrinsic+json": {
              "type": "string"
            },
            "text/plain": [
              "'명량: 회오리 바다를 향하여'"
            ]
          },
          "metadata": {},
          "execution_count": 60
        }
      ]
    },
    {
      "cell_type": "code",
      "metadata": {
        "colab": {
          "base_uri": "https://localhost:8080/"
        },
        "id": "rFFAaGZUy12d",
        "outputId": "28fe91d5-c042-4c18-ef20-4a8832843485"
      },
      "source": [
        "i =1\n",
        "site_num = soup.select(f'#old_content > ul.search_list_1 > li:nth-of-type({i}) > dl > dt > a')\n",
        "site_num != []"
      ],
      "execution_count": 72,
      "outputs": [
        {
          "output_type": "execute_result",
          "data": {
            "text/plain": [
              "True"
            ]
          },
          "metadata": {},
          "execution_count": 72
        }
      ]
    },
    {
      "cell_type": "code",
      "metadata": {
        "id": "2SSWHTjiz8xV"
      },
      "source": [
        ""
      ],
      "execution_count": null,
      "outputs": []
    }
  ]
}