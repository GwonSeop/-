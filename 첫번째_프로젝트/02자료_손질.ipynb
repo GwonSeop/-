{
  "nbformat": 4,
  "nbformat_minor": 0,
  "metadata": {
    "colab": {
      "name": "02자료_손질.ipynb",
      "provenance": []
    },
    "kernelspec": {
      "name": "python3",
      "display_name": "Python 3"
    },
    "language_info": {
      "name": "python"
    }
  },
  "cells": [
    {
      "cell_type": "code",
      "metadata": {
        "colab": {
          "base_uri": "https://localhost:8080/"
        },
        "id": "dsRK9JUg8UEm",
        "outputId": "4fd9cc33-9972-4e25-ba11-6d10f87e997a"
      },
      "source": [
        "#### 한글 깨짐이 이방법으로는 해결이 안됐음\n",
        "!sudo apt-get install -y fonts-nanum\n",
        "!sudo fc-cache -fv\n",
        "!rm ~/.cache/matplotlib -rf"
      ],
      "execution_count": 111,
      "outputs": [
        {
          "output_type": "stream",
          "name": "stdout",
          "text": [
            "Reading package lists... Done\n",
            "Building dependency tree       \n",
            "Reading state information... Done\n",
            "The following NEW packages will be installed:\n",
            "  fonts-nanum\n",
            "0 upgraded, 1 newly installed, 0 to remove and 37 not upgraded.\n",
            "Need to get 9,604 kB of archives.\n",
            "After this operation, 29.5 MB of additional disk space will be used.\n",
            "Get:1 http://archive.ubuntu.com/ubuntu bionic/universe amd64 fonts-nanum all 20170925-1 [9,604 kB]\n",
            "Fetched 9,604 kB in 1s (8,369 kB/s)\n",
            "debconf: unable to initialize frontend: Dialog\n",
            "debconf: (No usable dialog-like program is installed, so the dialog based frontend cannot be used. at /usr/share/perl5/Debconf/FrontEnd/Dialog.pm line 76, <> line 1.)\n",
            "debconf: falling back to frontend: Readline\n",
            "debconf: unable to initialize frontend: Readline\n",
            "debconf: (This frontend requires a controlling tty.)\n",
            "debconf: falling back to frontend: Teletype\n",
            "dpkg-preconfigure: unable to re-open stdin: \n",
            "Selecting previously unselected package fonts-nanum.\n",
            "(Reading database ... 155013 files and directories currently installed.)\n",
            "Preparing to unpack .../fonts-nanum_20170925-1_all.deb ...\n",
            "Unpacking fonts-nanum (20170925-1) ...\n",
            "Setting up fonts-nanum (20170925-1) ...\n",
            "Processing triggers for fontconfig (2.12.6-0ubuntu2) ...\n",
            "/usr/share/fonts: caching, new cache contents: 0 fonts, 1 dirs\n",
            "/usr/share/fonts/truetype: caching, new cache contents: 0 fonts, 3 dirs\n",
            "/usr/share/fonts/truetype/humor-sans: caching, new cache contents: 1 fonts, 0 dirs\n",
            "/usr/share/fonts/truetype/liberation: caching, new cache contents: 16 fonts, 0 dirs\n",
            "/usr/share/fonts/truetype/nanum: caching, new cache contents: 10 fonts, 0 dirs\n",
            "/usr/local/share/fonts: caching, new cache contents: 0 fonts, 0 dirs\n",
            "/root/.local/share/fonts: skipping, no such directory\n",
            "/root/.fonts: skipping, no such directory\n",
            "/var/cache/fontconfig: cleaning cache directory\n",
            "/root/.cache/fontconfig: not cleaning non-existent cache directory\n",
            "/root/.fontconfig: not cleaning non-existent cache directory\n",
            "fc-cache: succeeded\n"
          ]
        }
      ]
    },
    {
      "cell_type": "code",
      "metadata": {
        "colab": {
          "base_uri": "https://localhost:8080/"
        },
        "id": "cZQrJpgh8vJc",
        "outputId": "d04de981-61c1-4cbb-d469-52a359899f62"
      },
      "source": [
        "### 한글 깨짐 해결 코드\n",
        "import matplotlib as mpl \n",
        "import matplotlib.pyplot as plt \n",
        "import matplotlib.font_manager as fm  \n",
        "\n",
        "!apt-get update -qq\n",
        "!apt-get install fonts-nanum* -qq\n",
        "\n",
        "path = '/usr/share/fonts/truetype/nanum/NanumBarunGothic.ttf' \n",
        "font_name = fm.FontProperties(fname=path, size=10).get_name()\n",
        "print(font_name)\n",
        "plt.rc('font', family=font_name)\n",
        "\n",
        "fm._rebuild()\n",
        "mpl.rcParams['axes.unicode_minus'] = False"
      ],
      "execution_count": 8,
      "outputs": [
        {
          "output_type": "stream",
          "name": "stdout",
          "text": [
            "Selecting previously unselected package fonts-nanum-eco.\n",
            "(Reading database ... \r(Reading database ... 5%\r(Reading database ... 10%\r(Reading database ... 15%\r(Reading database ... 20%\r(Reading database ... 25%\r(Reading database ... 30%\r(Reading database ... 35%\r(Reading database ... 40%\r(Reading database ... 45%\r(Reading database ... 50%\r(Reading database ... 55%\r(Reading database ... 60%\r(Reading database ... 65%\r(Reading database ... 70%\r(Reading database ... 75%\r(Reading database ... 80%\r(Reading database ... 85%\r(Reading database ... 90%\r(Reading database ... 95%\r(Reading database ... 100%\r(Reading database ... 155031 files and directories currently installed.)\n",
            "Preparing to unpack .../fonts-nanum-eco_1.000-6_all.deb ...\n",
            "Unpacking fonts-nanum-eco (1.000-6) ...\n",
            "Selecting previously unselected package fonts-nanum-extra.\n",
            "Preparing to unpack .../fonts-nanum-extra_20170925-1_all.deb ...\n",
            "Unpacking fonts-nanum-extra (20170925-1) ...\n",
            "Selecting previously unselected package fonts-nanum-coding.\n",
            "Preparing to unpack .../fonts-nanum-coding_2.5-1_all.deb ...\n",
            "Unpacking fonts-nanum-coding (2.5-1) ...\n",
            "Setting up fonts-nanum-extra (20170925-1) ...\n",
            "Setting up fonts-nanum-coding (2.5-1) ...\n",
            "Setting up fonts-nanum-eco (1.000-6) ...\n",
            "Processing triggers for fontconfig (2.12.6-0ubuntu2) ...\n",
            "NanumBarunGothic\n"
          ]
        }
      ]
    },
    {
      "cell_type": "code",
      "metadata": {
        "id": "SGJSOfdk7JLF"
      },
      "source": [
        "import pandas as pd\n",
        "import numpy as np\n",
        "import matplotlib.pyplot as plt\n",
        "import seaborn as sns"
      ],
      "execution_count": 1,
      "outputs": []
    },
    {
      "cell_type": "code",
      "metadata": {
        "id": "Spewn7hHBxN_"
      },
      "source": [
        "### 김한용님께서 보내주신 merge된 자료에서 크롤링과정중 중복돼 들어온 영화들을 제거 했습니다\n",
        "df = pd.read_csv('movie_5cn.csv')\n",
        "df = df[df['역대순위'].notna()]\n",
        "\n",
        "#### 크롤링 과정에서 시리즈 영화나 비슷한 제목은 중복돼 입력된 것들이 많이 중복제거를 해주고 index를 다시 설정했습니다\n",
        "df = df.drop_duplicates(['역대순위']).reset_index()\n",
        "\n",
        "### 불필요한 열 제거\n",
        "del df['index']\n",
        "\n",
        "\n",
        "###### 개봉일 날짜에서 월에 해당하는 부분만 꺼내 type을 정수로 변환시키고 계절로 분류시켰습니다\n",
        "##### 나중에 더미변수로 활용 기대\n",
        "month_list=[]\n",
        "for i in range(len(df.개봉일)):\n",
        "  if 3<=int(df.개봉일[i][-7:-5])<6:\n",
        "    month_list.append('봄')\n",
        "  elif 6<=int(df.개봉일[i][-7:-5])<9:\n",
        "    month_list.append('여름')\n",
        "  elif 9<=int(df.개봉일[i][-7:-5])<12:\n",
        "    month_list.append('가을')\n",
        "  else:\n",
        "    month_list.append('겨울')\n",
        "\n",
        "df['계절']=month_list\n",
        "\n",
        "### 개봉년도를 column에 추가해 보겠습니다\n",
        "year_list=[]\n",
        "for i in range(len(df.개봉일)):\n",
        "  x = df.개봉일[i][-11:-7]\n",
        "  year_list.append(int(x))\n",
        "\n",
        "df['개봉연도']=year_list\n",
        "####\n",
        "##### 추천 열에 해당하는 텍스트중에 필요한 정보들만 뽑아 새로운 column으로 만들겠습니다.\n",
        "### 추천 텍스트에서 연령층\n",
        "per_list=[]\n",
        "for i in range(len(df.개봉일)):\n",
        "  x = df['추천'][i][6:8]\n",
        "  per_list.append(int(x))\n",
        "\n",
        "df['추천_연령대']=per_list\n",
        "\n",
        "### 추천 텍스트에서 성별\n",
        "sex_list=[]\n",
        "for i in range(len(df.개봉일)):\n",
        "  x = df['추천'][i][10:12]\n",
        "  sex_list.append(x)\n",
        "\n",
        "df['추천_성별']=sex_list\n",
        "\n",
        "### 추천 텍스트에서 특징\n",
        "spe_list=[]\n",
        "for i in range(len(df.개봉일)):\n",
        "  x = df['추천'][i][19:-12]\n",
        "  spe_list.append(x)\n",
        "\n",
        "df['영화_특징']=spe_list\n",
        "\n",
        "###### 보기 편하게 하기위해 추천 열을 삭제했습니다.\n",
        "del df['추천']\n",
        "\n",
        "\n",
        "####### 작업중 크롤링 과정에서 같은 패턴의 코드를 복붙후 \n",
        "####### 숫자를 바꿔주지 않아 누락된 30대 40대 50대 정보를 추가해 주기위해 merge를 이용했습니다.\n",
        "df2=pd.read_csv('네이버_영화+비율_및_성별만족도.csv')\n",
        "### 그 과정에서 (10대 20대)와 (30대 40대 50대)가 분리돼 있는 것이 자료를 보는데 불편함이 있어 \n",
        "### 10대 20대를 제거후 다시 merge 시켰습니다\n",
        "del df['10대 비율']\n",
        "del df['20대 비율']\n",
        "df3 = pd.merge(df,df2,how='left')\n",
        "#### 불필요한 \n",
        "del df3['Unnamed: 0']\n",
        "del df3['추천']\n",
        "df = df3\n",
        "### 매출액과 관객수의 숫자가 너무 커 만원단위 만명단위로 숫자의 크기를 줄였습니다\n",
        "df['관객수(단위:만명)']=round(df['관객수']/10000,0)\n",
        "df['매출액(단위:만원)']=round(df['매출액']/10000,0)\n",
        "### 필요없는 열 제거\n",
        "del df['매출액']\n",
        "del df['관객수']\n",
        "### 영화리뷰 열의 정보가 부족해 이 자료에서는 없애겠습니다\n",
        "del df['영화리뷰']"
      ],
      "execution_count": 11,
      "outputs": []
    },
    {
      "cell_type": "code",
      "metadata": {
        "colab": {
          "base_uri": "https://localhost:8080/"
        },
        "id": "16eIl8QE1hS8",
        "outputId": "a111fb84-ad90-4ed8-9963-c4bf431991c5"
      },
      "source": [
        "df.info()"
      ],
      "execution_count": 12,
      "outputs": [
        {
          "output_type": "stream",
          "name": "stdout",
          "text": [
            "<class 'pandas.core.frame.DataFrame'>\n",
            "Int64Index: 468 entries, 0 to 467\n",
            "Data columns (total 27 columns):\n",
            " #   Column      Non-Null Count  Dtype  \n",
            "---  ------      --------------  -----  \n",
            " 0   영화제목        468 non-null    object \n",
            " 1   역대순위        468 non-null    float64\n",
            " 2   개봉일         468 non-null    object \n",
            " 3   장르          467 non-null    object \n",
            " 4   영화시간        468 non-null    object \n",
            " 5   국적          468 non-null    object \n",
            " 6   감독          325 non-null    object \n",
            " 7   주연배우        295 non-null    object \n",
            " 8   스크린수        468 non-null    float64\n",
            " 9   관람객평점       468 non-null    object \n",
            " 10  네티즌평점       468 non-null    float64\n",
            " 11  비평가평점       129 non-null    object \n",
            " 12  남성 만족도      468 non-null    float64\n",
            " 13  여성 만족도      468 non-null    float64\n",
            " 14  배급사         467 non-null    object \n",
            " 15  계절          468 non-null    object \n",
            " 16  개봉연도        468 non-null    int64  \n",
            " 17  추천_연령대      468 non-null    int64  \n",
            " 18  추천_성별       468 non-null    object \n",
            " 19  영화_특징       468 non-null    object \n",
            " 20  10대 비율      459 non-null    object \n",
            " 21  20대 비율      459 non-null    object \n",
            " 22  30대 비율      459 non-null    object \n",
            " 23  40대 비율      459 non-null    object \n",
            " 24  50대 비율      459 non-null    object \n",
            " 25  관객수(단위:만명)  468 non-null    float64\n",
            " 26  매출액(단위:만원)  462 non-null    float64\n",
            "dtypes: float64(7), int64(2), object(18)\n",
            "memory usage: 102.4+ KB\n"
          ]
        }
      ]
    },
    {
      "cell_type": "code",
      "metadata": {
        "colab": {
          "base_uri": "https://localhost:8080/",
          "height": 294
        },
        "id": "K6rClLyd5b7k",
        "outputId": "b814ff96-378d-416c-bf9e-e8c826218ba1"
      },
      "source": [
        "df.describe()"
      ],
      "execution_count": 13,
      "outputs": [
        {
          "output_type": "execute_result",
          "data": {
            "text/html": [
              "<div>\n",
              "<style scoped>\n",
              "    .dataframe tbody tr th:only-of-type {\n",
              "        vertical-align: middle;\n",
              "    }\n",
              "\n",
              "    .dataframe tbody tr th {\n",
              "        vertical-align: top;\n",
              "    }\n",
              "\n",
              "    .dataframe thead th {\n",
              "        text-align: right;\n",
              "    }\n",
              "</style>\n",
              "<table border=\"1\" class=\"dataframe\">\n",
              "  <thead>\n",
              "    <tr style=\"text-align: right;\">\n",
              "      <th></th>\n",
              "      <th>역대순위</th>\n",
              "      <th>스크린수</th>\n",
              "      <th>네티즌평점</th>\n",
              "      <th>남성 만족도</th>\n",
              "      <th>여성 만족도</th>\n",
              "      <th>개봉연도</th>\n",
              "      <th>추천_연령대</th>\n",
              "      <th>관객수(단위:만명)</th>\n",
              "      <th>매출액(단위:만원)</th>\n",
              "    </tr>\n",
              "  </thead>\n",
              "  <tbody>\n",
              "    <tr>\n",
              "      <th>count</th>\n",
              "      <td>468.000000</td>\n",
              "      <td>468.000000</td>\n",
              "      <td>468.000000</td>\n",
              "      <td>468.000000</td>\n",
              "      <td>468.000000</td>\n",
              "      <td>468.000000</td>\n",
              "      <td>468.000000</td>\n",
              "      <td>468.000000</td>\n",
              "      <td>4.620000e+02</td>\n",
              "    </tr>\n",
              "    <tr>\n",
              "      <th>mean</th>\n",
              "      <td>246.581197</td>\n",
              "      <td>842.668803</td>\n",
              "      <td>8.067585</td>\n",
              "      <td>7.589444</td>\n",
              "      <td>8.470150</td>\n",
              "      <td>2012.700855</td>\n",
              "      <td>18.525641</td>\n",
              "      <td>420.722222</td>\n",
              "      <td>2.853402e+06</td>\n",
              "    </tr>\n",
              "    <tr>\n",
              "      <th>std</th>\n",
              "      <td>146.957174</td>\n",
              "      <td>593.980605</td>\n",
              "      <td>0.944953</td>\n",
              "      <td>1.166609</td>\n",
              "      <td>0.902775</td>\n",
              "      <td>4.969310</td>\n",
              "      <td>6.654955</td>\n",
              "      <td>289.090569</td>\n",
              "      <td>2.610442e+06</td>\n",
              "    </tr>\n",
              "    <tr>\n",
              "      <th>min</th>\n",
              "      <td>1.000000</td>\n",
              "      <td>0.000000</td>\n",
              "      <td>3.340000</td>\n",
              "      <td>2.810000</td>\n",
              "      <td>1.900000</td>\n",
              "      <td>1998.000000</td>\n",
              "      <td>10.000000</td>\n",
              "      <td>179.000000</td>\n",
              "      <td>0.000000e+00</td>\n",
              "    </tr>\n",
              "    <tr>\n",
              "      <th>25%</th>\n",
              "      <td>118.750000</td>\n",
              "      <td>462.000000</td>\n",
              "      <td>7.590000</td>\n",
              "      <td>6.957500</td>\n",
              "      <td>8.090000</td>\n",
              "      <td>2009.000000</td>\n",
              "      <td>10.000000</td>\n",
              "      <td>229.000000</td>\n",
              "      <td>1.476932e+06</td>\n",
              "    </tr>\n",
              "    <tr>\n",
              "      <th>50%</th>\n",
              "      <td>247.500000</td>\n",
              "      <td>781.000000</td>\n",
              "      <td>8.235000</td>\n",
              "      <td>7.770000</td>\n",
              "      <td>8.655000</td>\n",
              "      <td>2014.000000</td>\n",
              "      <td>20.000000</td>\n",
              "      <td>305.000000</td>\n",
              "      <td>2.150666e+06</td>\n",
              "    </tr>\n",
              "    <tr>\n",
              "      <th>75%</th>\n",
              "      <td>372.250000</td>\n",
              "      <td>1177.750000</td>\n",
              "      <td>8.792500</td>\n",
              "      <td>8.445000</td>\n",
              "      <td>9.090000</td>\n",
              "      <td>2017.000000</td>\n",
              "      <td>20.000000</td>\n",
              "      <td>494.250000</td>\n",
              "      <td>3.728582e+06</td>\n",
              "    </tr>\n",
              "    <tr>\n",
              "      <th>max</th>\n",
              "      <td>500.000000</td>\n",
              "      <td>2835.000000</td>\n",
              "      <td>9.420000</td>\n",
              "      <td>9.410000</td>\n",
              "      <td>10.000000</td>\n",
              "      <td>2021.000000</td>\n",
              "      <td>40.000000</td>\n",
              "      <td>1761.000000</td>\n",
              "      <td>1.396480e+07</td>\n",
              "    </tr>\n",
              "  </tbody>\n",
              "</table>\n",
              "</div>"
            ],
            "text/plain": [
              "             역대순위         스크린수  ...   관객수(단위:만명)    매출액(단위:만원)\n",
              "count  468.000000   468.000000  ...   468.000000  4.620000e+02\n",
              "mean   246.581197   842.668803  ...   420.722222  2.853402e+06\n",
              "std    146.957174   593.980605  ...   289.090569  2.610442e+06\n",
              "min      1.000000     0.000000  ...   179.000000  0.000000e+00\n",
              "25%    118.750000   462.000000  ...   229.000000  1.476932e+06\n",
              "50%    247.500000   781.000000  ...   305.000000  2.150666e+06\n",
              "75%    372.250000  1177.750000  ...   494.250000  3.728582e+06\n",
              "max    500.000000  2835.000000  ...  1761.000000  1.396480e+07\n",
              "\n",
              "[8 rows x 9 columns]"
            ]
          },
          "metadata": {},
          "execution_count": 13
        }
      ]
    },
    {
      "cell_type": "code",
      "metadata": {
        "colab": {
          "base_uri": "https://localhost:8080/",
          "height": 324
        },
        "id": "nm-7muiE6S8c",
        "outputId": "10c0d97c-d4fa-4cc9-d725-62dcc07e48db"
      },
      "source": [
        "### 상관 관계를 보겠습니다\n",
        "df.corr()"
      ],
      "execution_count": 14,
      "outputs": [
        {
          "output_type": "execute_result",
          "data": {
            "text/html": [
              "<div>\n",
              "<style scoped>\n",
              "    .dataframe tbody tr th:only-of-type {\n",
              "        vertical-align: middle;\n",
              "    }\n",
              "\n",
              "    .dataframe tbody tr th {\n",
              "        vertical-align: top;\n",
              "    }\n",
              "\n",
              "    .dataframe thead th {\n",
              "        text-align: right;\n",
              "    }\n",
              "</style>\n",
              "<table border=\"1\" class=\"dataframe\">\n",
              "  <thead>\n",
              "    <tr style=\"text-align: right;\">\n",
              "      <th></th>\n",
              "      <th>역대순위</th>\n",
              "      <th>스크린수</th>\n",
              "      <th>네티즌평점</th>\n",
              "      <th>남성 만족도</th>\n",
              "      <th>여성 만족도</th>\n",
              "      <th>개봉연도</th>\n",
              "      <th>추천_연령대</th>\n",
              "      <th>관객수(단위:만명)</th>\n",
              "      <th>매출액(단위:만원)</th>\n",
              "    </tr>\n",
              "  </thead>\n",
              "  <tbody>\n",
              "    <tr>\n",
              "      <th>역대순위</th>\n",
              "      <td>1.000000</td>\n",
              "      <td>-0.373631</td>\n",
              "      <td>-0.288123</td>\n",
              "      <td>-0.203314</td>\n",
              "      <td>-0.247781</td>\n",
              "      <td>-0.154298</td>\n",
              "      <td>0.083882</td>\n",
              "      <td>-0.827523</td>\n",
              "      <td>-0.702439</td>\n",
              "    </tr>\n",
              "    <tr>\n",
              "      <th>스크린수</th>\n",
              "      <td>-0.373631</td>\n",
              "      <td>1.000000</td>\n",
              "      <td>-0.031337</td>\n",
              "      <td>-0.147852</td>\n",
              "      <td>0.001816</td>\n",
              "      <td>0.814956</td>\n",
              "      <td>0.345107</td>\n",
              "      <td>0.428081</td>\n",
              "      <td>0.681356</td>\n",
              "    </tr>\n",
              "    <tr>\n",
              "      <th>네티즌평점</th>\n",
              "      <td>-0.288123</td>\n",
              "      <td>-0.031337</td>\n",
              "      <td>1.000000</td>\n",
              "      <td>0.927638</td>\n",
              "      <td>0.883524</td>\n",
              "      <td>-0.018272</td>\n",
              "      <td>-0.087056</td>\n",
              "      <td>0.271184</td>\n",
              "      <td>0.232618</td>\n",
              "    </tr>\n",
              "    <tr>\n",
              "      <th>남성 만족도</th>\n",
              "      <td>-0.203314</td>\n",
              "      <td>-0.147852</td>\n",
              "      <td>0.927638</td>\n",
              "      <td>1.000000</td>\n",
              "      <td>0.715404</td>\n",
              "      <td>-0.141191</td>\n",
              "      <td>-0.073168</td>\n",
              "      <td>0.184199</td>\n",
              "      <td>0.122594</td>\n",
              "    </tr>\n",
              "    <tr>\n",
              "      <th>여성 만족도</th>\n",
              "      <td>-0.247781</td>\n",
              "      <td>0.001816</td>\n",
              "      <td>0.883524</td>\n",
              "      <td>0.715404</td>\n",
              "      <td>1.000000</td>\n",
              "      <td>0.030912</td>\n",
              "      <td>-0.099475</td>\n",
              "      <td>0.242474</td>\n",
              "      <td>0.222745</td>\n",
              "    </tr>\n",
              "    <tr>\n",
              "      <th>개봉연도</th>\n",
              "      <td>-0.154298</td>\n",
              "      <td>0.814956</td>\n",
              "      <td>-0.018272</td>\n",
              "      <td>-0.141191</td>\n",
              "      <td>0.030912</td>\n",
              "      <td>1.000000</td>\n",
              "      <td>0.480680</td>\n",
              "      <td>0.155941</td>\n",
              "      <td>0.480275</td>\n",
              "    </tr>\n",
              "    <tr>\n",
              "      <th>추천_연령대</th>\n",
              "      <td>0.083882</td>\n",
              "      <td>0.345107</td>\n",
              "      <td>-0.087056</td>\n",
              "      <td>-0.073168</td>\n",
              "      <td>-0.099475</td>\n",
              "      <td>0.480680</td>\n",
              "      <td>1.000000</td>\n",
              "      <td>-0.069911</td>\n",
              "      <td>0.063572</td>\n",
              "    </tr>\n",
              "    <tr>\n",
              "      <th>관객수(단위:만명)</th>\n",
              "      <td>-0.827523</td>\n",
              "      <td>0.428081</td>\n",
              "      <td>0.271184</td>\n",
              "      <td>0.184199</td>\n",
              "      <td>0.242474</td>\n",
              "      <td>0.155941</td>\n",
              "      <td>-0.069911</td>\n",
              "      <td>1.000000</td>\n",
              "      <td>0.864708</td>\n",
              "    </tr>\n",
              "    <tr>\n",
              "      <th>매출액(단위:만원)</th>\n",
              "      <td>-0.702439</td>\n",
              "      <td>0.681356</td>\n",
              "      <td>0.232618</td>\n",
              "      <td>0.122594</td>\n",
              "      <td>0.222745</td>\n",
              "      <td>0.480275</td>\n",
              "      <td>0.063572</td>\n",
              "      <td>0.864708</td>\n",
              "      <td>1.000000</td>\n",
              "    </tr>\n",
              "  </tbody>\n",
              "</table>\n",
              "</div>"
            ],
            "text/plain": [
              "                역대순위      스크린수     네티즌평점  ...    추천_연령대  관객수(단위:만명)  매출액(단위:만원)\n",
              "역대순위        1.000000 -0.373631 -0.288123  ...  0.083882   -0.827523   -0.702439\n",
              "스크린수       -0.373631  1.000000 -0.031337  ...  0.345107    0.428081    0.681356\n",
              "네티즌평점      -0.288123 -0.031337  1.000000  ... -0.087056    0.271184    0.232618\n",
              "남성 만족도     -0.203314 -0.147852  0.927638  ... -0.073168    0.184199    0.122594\n",
              "여성 만족도     -0.247781  0.001816  0.883524  ... -0.099475    0.242474    0.222745\n",
              "개봉연도       -0.154298  0.814956 -0.018272  ...  0.480680    0.155941    0.480275\n",
              "추천_연령대      0.083882  0.345107 -0.087056  ...  1.000000   -0.069911    0.063572\n",
              "관객수(단위:만명) -0.827523  0.428081  0.271184  ... -0.069911    1.000000    0.864708\n",
              "매출액(단위:만원) -0.702439  0.681356  0.232618  ...  0.063572    0.864708    1.000000\n",
              "\n",
              "[9 rows x 9 columns]"
            ]
          },
          "metadata": {},
          "execution_count": 14
        }
      ]
    },
    {
      "cell_type": "code",
      "metadata": {
        "colab": {
          "base_uri": "https://localhost:8080/",
          "height": 747
        },
        "id": "wHF4FvqD6qdL",
        "outputId": "e3a299c4-9ef9-45e7-c8c0-fd70c075c5b3"
      },
      "source": [
        "sns.clustermap(df.corr())"
      ],
      "execution_count": 15,
      "outputs": [
        {
          "output_type": "execute_result",
          "data": {
            "text/plain": [
              "<seaborn.matrix.ClusterGrid at 0x7efe7068fd90>"
            ]
          },
          "metadata": {},
          "execution_count": 15
        },
        {
          "output_type": "display_data",
          "data": {
            "image/png": "[encoded data removed]",
            "text/plain": [
              "<Figure size 720x720 with 4 Axes>"
            ]
          },
          "metadata": {
            "needs_background": "light"
          }
        }
      ]
    },
    {
      "cell_type": "code",
      "metadata": {
        "colab": {
          "base_uri": "https://localhost:8080/",
          "height": 176
        },
        "id": "f7BTnP2D7VAt",
        "outputId": "14534a48-5b3a-4030-e814-b0ef7521113d"
      },
      "source": [
        "df.groupby['개봉연도']"
      ],
      "execution_count": 19,
      "outputs": [
        {
          "output_type": "error",
          "ename": "TypeError",
          "evalue": "ignored",
          "traceback": [
            "\u001b[0;31m---------------------------------------------------------------------------\u001b[0m",
            "\u001b[0;31mTypeError\u001b[0m                                 Traceback (most recent call last)",
            "\u001b[0;32m<ipython-input-19-4b1a2edf1c4c>\u001b[0m in \u001b[0;36m<module>\u001b[0;34m()\u001b[0m\n\u001b[0;32m----> 1\u001b[0;31m \u001b[0mdf\u001b[0m\u001b[0;34m.\u001b[0m\u001b[0mgroupby\u001b[0m\u001b[0;34m[\u001b[0m\u001b[0;34m'개봉연도'\u001b[0m\u001b[0;34m]\u001b[0m\u001b[0;34m\u001b[0m\u001b[0;34m\u001b[0m\u001b[0m\n\u001b[0m",
            "\u001b[0;31mTypeError\u001b[0m: 'method' object is not subscriptable"
          ]
        }
      ]
    },
    {
      "cell_type": "code",
      "metadata": {
        "id": "1BS37KS9FRvt"
      },
      "source": [
        ""
      ],
      "execution_count": null,
      "outputs": []
    }
  ]
}