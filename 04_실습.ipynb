{
  "nbformat": 4,
  "nbformat_minor": 0,
  "metadata": {
    "colab": {
      "name": "실습.ipynb",
      "provenance": []
    },
    "kernelspec": {
      "name": "python3",
      "display_name": "Python 3"
    },
    "language_info": {
      "name": "python"
    }
  },
  "cells": [
    {
      "cell_type": "code",
      "metadata": {
        "id": "mzboLKWhM5nB"
      },
      "source": [
        "########################################\n",
        "###  코드작성 [메모리 변수 모두 제거\n",
        "#######################################\n",
        "all = [var for var in globals() if var[0] != \"_\"]\n",
        "for var in all:\n",
        "    del globals()[var]"
      ],
      "execution_count": 1,
      "outputs": []
    },
    {
      "cell_type": "code",
      "metadata": {
        "id": "0YcInAA5QrqZ"
      },
      "source": [
        "# 필요 라이브러리 로드\n",
        "from matplotlib import font_manager, rc\n",
        "import matplotlib\n",
        "import matplotlib.pyplot as plt\n",
        "import seaborn as sns\n",
        "import pandas as pd\n",
        "import numpy as np\n",
        "import platform"
      ],
      "execution_count": 2,
      "outputs": []
    },
    {
      "cell_type": "markdown",
      "metadata": {
        "id": "q2hO_H6dNTZV"
      },
      "source": [
        "##[미션] wine의 데이터셋이해\n",
        "- 레드와인(껍질 O)과 화이트 와인(껍질 x)의 alcohol, sugar, PHP의 관계 조사\n",
        "- 이 자료의 class가 1이면 화이트 화인/0이면 레드와인임\n",
        " - alcohol: 도수\n",
        " - sugar: 당류\n",
        " - PH: 수소 이온 농도(pH)는 물질의 산성과 알칼리성 정도를 나타내는 수치이다."
      ]
    },
    {
      "cell_type": "code",
      "metadata": {
        "id": "9u1ddXwRNS-Y"
      },
      "source": [
        "########################################\n",
        "###  wine1=wine1.csv  \n",
        "###  wine2=wine2.csv\n",
        "#######################################\n",
        "wine1 = pd.read_csv('wine1.csv',sep = '\\t')\n",
        "wine2 = pd.read_csv('wine2.csv',sep = '\\t')"
      ],
      "execution_count": 10,
      "outputs": []
    },
    {
      "cell_type": "code",
      "metadata": {
        "colab": {
          "base_uri": "https://localhost:8080/",
          "height": 414
        },
        "id": "Kn4bT0OYRK1A",
        "outputId": "3ea5c195-3bf2-4e21-dbc0-5210d730d4e7"
      },
      "source": [
        "## 다른 방법\n",
        "from glob import glob\n",
        "pd.read_csv(glob('w*')[1],sep='\\t')"
      ],
      "execution_count": 8,
      "outputs": [
        {
          "output_type": "execute_result",
          "data": {
            "text/html": [
              "<div>\n",
              "<style scoped>\n",
              "    .dataframe tbody tr th:only-of-type {\n",
              "        vertical-align: middle;\n",
              "    }\n",
              "\n",
              "    .dataframe tbody tr th {\n",
              "        vertical-align: top;\n",
              "    }\n",
              "\n",
              "    .dataframe thead th {\n",
              "        text-align: right;\n",
              "    }\n",
              "</style>\n",
              "<table border=\"1\" class=\"dataframe\">\n",
              "  <thead>\n",
              "    <tr style=\"text-align: right;\">\n",
              "      <th></th>\n",
              "      <th>index</th>\n",
              "      <th>alcohol</th>\n",
              "      <th>class</th>\n",
              "    </tr>\n",
              "  </thead>\n",
              "  <tbody>\n",
              "    <tr>\n",
              "      <th>0</th>\n",
              "      <td>7001</td>\n",
              "      <td>9.90</td>\n",
              "      <td>999.0</td>\n",
              "    </tr>\n",
              "    <tr>\n",
              "      <th>1</th>\n",
              "      <td>1</td>\n",
              "      <td>9.40</td>\n",
              "      <td>0.0</td>\n",
              "    </tr>\n",
              "    <tr>\n",
              "      <th>2</th>\n",
              "      <td>2</td>\n",
              "      <td>9.80</td>\n",
              "      <td>0.0</td>\n",
              "    </tr>\n",
              "    <tr>\n",
              "      <th>3</th>\n",
              "      <td>3</td>\n",
              "      <td>9.99</td>\n",
              "      <td>999.0</td>\n",
              "    </tr>\n",
              "    <tr>\n",
              "      <th>4</th>\n",
              "      <td>6498</td>\n",
              "      <td>9.80</td>\n",
              "      <td>0.0</td>\n",
              "    </tr>\n",
              "    <tr>\n",
              "      <th>...</th>\n",
              "      <td>...</td>\n",
              "      <td>...</td>\n",
              "      <td>...</td>\n",
              "    </tr>\n",
              "    <tr>\n",
              "      <th>6495</th>\n",
              "      <td>6493</td>\n",
              "      <td>11.20</td>\n",
              "      <td>1.0</td>\n",
              "    </tr>\n",
              "    <tr>\n",
              "      <th>6496</th>\n",
              "      <td>6494</td>\n",
              "      <td>9.60</td>\n",
              "      <td>1.0</td>\n",
              "    </tr>\n",
              "    <tr>\n",
              "      <th>6497</th>\n",
              "      <td>6495</td>\n",
              "      <td>9.40</td>\n",
              "      <td>1.0</td>\n",
              "    </tr>\n",
              "    <tr>\n",
              "      <th>6498</th>\n",
              "      <td>6496</td>\n",
              "      <td>12.80</td>\n",
              "      <td>1.0</td>\n",
              "    </tr>\n",
              "    <tr>\n",
              "      <th>6499</th>\n",
              "      <td>6497</td>\n",
              "      <td>11.80</td>\n",
              "      <td>1.0</td>\n",
              "    </tr>\n",
              "  </tbody>\n",
              "</table>\n",
              "<p>6500 rows × 3 columns</p>\n",
              "</div>"
            ],
            "text/plain": [
              "      index  alcohol  class\n",
              "0      7001     9.90  999.0\n",
              "1         1     9.40    0.0\n",
              "2         2     9.80    0.0\n",
              "3         3     9.99  999.0\n",
              "4      6498     9.80    0.0\n",
              "...     ...      ...    ...\n",
              "6495   6493    11.20    1.0\n",
              "6496   6494     9.60    1.0\n",
              "6497   6495     9.40    1.0\n",
              "6498   6496    12.80    1.0\n",
              "6499   6497    11.80    1.0\n",
              "\n",
              "[6500 rows x 3 columns]"
            ]
          },
          "metadata": {},
          "execution_count": 8
        }
      ]
    },
    {
      "cell_type": "code",
      "metadata": {
        "id": "JRQiXFcTQ2bj"
      },
      "source": [
        "########################################\n",
        "### [두자료의 교집합 자료만 보기] 데이콘 경진대회 교재 P16 참조\n",
        "###  wine1과 wine2의 index 필드값이 같은 자료만 가져오기\n",
        "### 최종 wine 변수에 할당\n",
        "wine = pd.merge(wine1,wine2, left_on='index', right_on='index')\n",
        "\n",
        "# index별로 정렬\n",
        "wine = wine.sort_values(by = 'index').reset_index(drop=True)\n",
        "### wine자료와 wine2 자료를  연결하여서\n",
        "### wine의 index번호에 해당하는\n",
        "### wine2자료의 sugar_PH값 가져와  df 데이터셋 제작 -----까지 해결"
      ],
      "execution_count": 16,
      "outputs": []
    },
    {
      "cell_type": "code",
      "metadata": {
        "id": "Z3DV1NtQS5Cp"
      },
      "source": [
        "## 강사님 코드 ##\n",
        "# 새로운 인덱스의 교집합\n",
        "\n",
        "intersection_idx = list(set(wine1['index']).intersection(wine2['index']))\n",
        "\n",
        "\n",
        "# 교집합에 존재하는 데이터만 불러오기\n",
        "wine = wine1.loc[\n",
        "    wine1['index'].apply(lambda x: x in intersection_idx)].copy()\n",
        "\n",
        "wine = wine.sort_values(by = 'index').reset_index(drop=True) \n",
        "wine['class'].min(), wine['class'].max()\n",
        "\n",
        "print(wine.info())\n",
        "print(wine.head(20))\n"
      ],
      "execution_count": null,
      "outputs": []
    },
    {
      "cell_type": "code",
      "metadata": {
        "colab": {
          "base_uri": "https://localhost:8080/"
        },
        "id": "QRMX6zVDSLyZ",
        "outputId": "b98e8df1-8613-48dc-9b60-2d1734ae3076"
      },
      "source": [
        "### wine['class']의 최대값1, 최소값 0 확인 (max, min 함수로 출력)\n",
        "wine['class'].max(),wine['class'].min()"
      ],
      "execution_count": 17,
      "outputs": [
        {
          "output_type": "execute_result",
          "data": {
            "text/plain": [
              "(1.0, 0.0)"
            ]
          },
          "metadata": {},
          "execution_count": 17
        }
      ]
    },
    {
      "cell_type": "code",
      "metadata": {
        "id": "TyAY5-aUat-m"
      },
      "source": [
        "### df 데이터셋의 sugar_PH의  값 분리하여\n",
        "### df['sugar']   df['PH'] 변수로 작성\n",
        "df = wine\n",
        "df['sugar'] = df['sugar_PH'].str.split('/').str[0]\n",
        "df['PH'] = df['sugar_PH'].str.split('/').str[1]"
      ],
      "execution_count": 18,
      "outputs": []
    },
    {
      "cell_type": "code",
      "metadata": {
        "id": "iZA0djdwTdJa"
      },
      "source": [
        "## 강사님 ##\n",
        "# ★★★★★★★ [미션] ★★★★★★★\n",
        "########################################\n",
        "### wine자료와 wine2 자료를  연결하여서\n",
        "### wine의 index번호에 해당하는\n",
        "### wine2자료의 sugar_PH값 가져와  df 데이터셋 제작\n",
        "### df 데이터셋의 sugar_PH의  값 분리하여\n",
        "### df['sugar']   df['PH'] 변수로 작성\n",
        "#######################################\n",
        "\n",
        "\n",
        "## merge 로 두데이터 조인\n",
        "df=pd.merge(wine, wine2)\n",
        "\n",
        "##### 방법 3\n",
        "# 파이썬 컴프리헨션(압축기법)\n",
        "df['sugar']=[x.split('/')[0] if pd.notnull(x) else x for x in tmp['sugar_PH']]\n",
        "\n",
        "df['sugar'] = df['sugar_PH'].apply(\n",
        "    lambda x: x.split('/')[0] if pd.notnull(x) else x)\n",
        "\n",
        "df['PH'] = df['sugar_PH'].apply(\n",
        "    lambda x: x.split('/')[1] if pd.notnull(x) else x)\n",
        "\n",
        "dfTmp=pd.merge(wine1,wine2)\n",
        "dataList=[]; mainList=[]\n",
        "\n",
        "for i in dfTmp['sugar_PH']:\n",
        "  List=[]\n",
        "  for j in i.split('/'):\n",
        "    List.append(j)\n",
        "  mainList.append(List)\n",
        "print(mainList[:10])\n"
      ],
      "execution_count": null,
      "outputs": []
    },
    {
      "cell_type": "code",
      "metadata": {
        "colab": {
          "base_uri": "https://localhost:8080/",
          "height": 414
        },
        "id": "221tPbC8UExy",
        "outputId": "2b2e0b4d-14e9-4c7f-f05b-0e912578bdf0"
      },
      "source": [
        "df"
      ],
      "execution_count": 15,
      "outputs": [
        {
          "output_type": "execute_result",
          "data": {
            "text/html": [
              "<div>\n",
              "<style scoped>\n",
              "    .dataframe tbody tr th:only-of-type {\n",
              "        vertical-align: middle;\n",
              "    }\n",
              "\n",
              "    .dataframe tbody tr th {\n",
              "        vertical-align: top;\n",
              "    }\n",
              "\n",
              "    .dataframe thead th {\n",
              "        text-align: right;\n",
              "    }\n",
              "</style>\n",
              "<table border=\"1\" class=\"dataframe\">\n",
              "  <thead>\n",
              "    <tr style=\"text-align: right;\">\n",
              "      <th></th>\n",
              "      <th>index</th>\n",
              "      <th>alcohol</th>\n",
              "      <th>class</th>\n",
              "      <th>sugar_PH</th>\n",
              "      <th>sugar</th>\n",
              "      <th>PH</th>\n",
              "    </tr>\n",
              "  </thead>\n",
              "  <tbody>\n",
              "    <tr>\n",
              "      <th>0</th>\n",
              "      <td>1</td>\n",
              "      <td>9.4</td>\n",
              "      <td>0.0</td>\n",
              "      <td>1.9/3.51</td>\n",
              "      <td>1.9</td>\n",
              "      <td>3.51</td>\n",
              "    </tr>\n",
              "    <tr>\n",
              "      <th>1</th>\n",
              "      <td>2</td>\n",
              "      <td>9.8</td>\n",
              "      <td>0.0</td>\n",
              "      <td>2.6/3.2</td>\n",
              "      <td>2.6</td>\n",
              "      <td>3.2</td>\n",
              "    </tr>\n",
              "    <tr>\n",
              "      <th>2</th>\n",
              "      <td>6498</td>\n",
              "      <td>9.8</td>\n",
              "      <td>0.0</td>\n",
              "      <td>2.3/3.26</td>\n",
              "      <td>2.3</td>\n",
              "      <td>3.26</td>\n",
              "    </tr>\n",
              "    <tr>\n",
              "      <th>3</th>\n",
              "      <td>4</td>\n",
              "      <td>9.8</td>\n",
              "      <td>0.0</td>\n",
              "      <td>1.9/3.16</td>\n",
              "      <td>1.9</td>\n",
              "      <td>3.16</td>\n",
              "    </tr>\n",
              "    <tr>\n",
              "      <th>4</th>\n",
              "      <td>5</td>\n",
              "      <td>9.4</td>\n",
              "      <td>0.0</td>\n",
              "      <td>1.9/3.51</td>\n",
              "      <td>1.9</td>\n",
              "      <td>3.51</td>\n",
              "    </tr>\n",
              "    <tr>\n",
              "      <th>...</th>\n",
              "      <td>...</td>\n",
              "      <td>...</td>\n",
              "      <td>...</td>\n",
              "      <td>...</td>\n",
              "      <td>...</td>\n",
              "      <td>...</td>\n",
              "    </tr>\n",
              "    <tr>\n",
              "      <th>6492</th>\n",
              "      <td>6493</td>\n",
              "      <td>11.2</td>\n",
              "      <td>1.0</td>\n",
              "      <td>1.6/3.27</td>\n",
              "      <td>1.6</td>\n",
              "      <td>3.27</td>\n",
              "    </tr>\n",
              "    <tr>\n",
              "      <th>6493</th>\n",
              "      <td>6494</td>\n",
              "      <td>9.6</td>\n",
              "      <td>1.0</td>\n",
              "      <td>8/3.15</td>\n",
              "      <td>8</td>\n",
              "      <td>3.15</td>\n",
              "    </tr>\n",
              "    <tr>\n",
              "      <th>6494</th>\n",
              "      <td>6495</td>\n",
              "      <td>9.4</td>\n",
              "      <td>1.0</td>\n",
              "      <td>1.2/2.99</td>\n",
              "      <td>1.2</td>\n",
              "      <td>2.99</td>\n",
              "    </tr>\n",
              "    <tr>\n",
              "      <th>6495</th>\n",
              "      <td>6496</td>\n",
              "      <td>12.8</td>\n",
              "      <td>1.0</td>\n",
              "      <td>1.1/3.34</td>\n",
              "      <td>1.1</td>\n",
              "      <td>3.34</td>\n",
              "    </tr>\n",
              "    <tr>\n",
              "      <th>6496</th>\n",
              "      <td>6497</td>\n",
              "      <td>11.8</td>\n",
              "      <td>1.0</td>\n",
              "      <td>0.8/3.26</td>\n",
              "      <td>0.8</td>\n",
              "      <td>3.26</td>\n",
              "    </tr>\n",
              "  </tbody>\n",
              "</table>\n",
              "<p>6497 rows × 6 columns</p>\n",
              "</div>"
            ],
            "text/plain": [
              "      index  alcohol  class  sugar_PH sugar    PH\n",
              "0         1      9.4    0.0  1.9/3.51   1.9  3.51\n",
              "1         2      9.8    0.0   2.6/3.2   2.6   3.2\n",
              "2      6498      9.8    0.0  2.3/3.26   2.3  3.26\n",
              "3         4      9.8    0.0  1.9/3.16   1.9  3.16\n",
              "4         5      9.4    0.0  1.9/3.51   1.9  3.51\n",
              "...     ...      ...    ...       ...   ...   ...\n",
              "6492   6493     11.2    1.0  1.6/3.27   1.6  3.27\n",
              "6493   6494      9.6    1.0    8/3.15     8  3.15\n",
              "6494   6495      9.4    1.0  1.2/2.99   1.2  2.99\n",
              "6495   6496     12.8    1.0  1.1/3.34   1.1  3.34\n",
              "6496   6497     11.8    1.0  0.8/3.26   0.8  3.26\n",
              "\n",
              "[6497 rows x 6 columns]"
            ]
          },
          "metadata": {},
          "execution_count": 15
        }
      ]
    },
    {
      "cell_type": "code",
      "metadata": {
        "colab": {
          "base_uri": "https://localhost:8080/"
        },
        "id": "WJawvePAbZ6S",
        "outputId": "d3437fec-830a-469d-ab47-28fe6bda15d3"
      },
      "source": [
        "########################################\n",
        "### df의 각 필드 타입 확인 및 데이터 갯수 확인\n",
        "########################################\n",
        "df.isna().sum()\n"
      ],
      "execution_count": 22,
      "outputs": [
        {
          "output_type": "execute_result",
          "data": {
            "text/plain": [
              "index       0\n",
              "alcohol     0\n",
              "class       4\n",
              "sugar_PH    0\n",
              "sugar       0\n",
              "PH          0\n",
              "dtype: int64"
            ]
          },
          "metadata": {},
          "execution_count": 22
        }
      ]
    },
    {
      "cell_type": "code",
      "metadata": {
        "colab": {
          "base_uri": "https://localhost:8080/",
          "height": 352
        },
        "id": "3KpICGSJdFO0",
        "outputId": "c3e0dc4c-3aa4-4ebd-9c52-8be3efe20ad9"
      },
      "source": [
        "df = df.drop(['sugar_PH'],axis=1)"
      ],
      "execution_count": 51,
      "outputs": [
        {
          "output_type": "error",
          "ename": "KeyError",
          "evalue": "ignored",
          "traceback": [
            "\u001b[0;31m---------------------------------------------------------------------------\u001b[0m",
            "\u001b[0;31mKeyError\u001b[0m                                  Traceback (most recent call last)",
            "\u001b[0;32m<ipython-input-51-9e736a77e72d>\u001b[0m in \u001b[0;36m<module>\u001b[0;34m()\u001b[0m\n\u001b[0;32m----> 1\u001b[0;31m \u001b[0mdf\u001b[0m \u001b[0;34m=\u001b[0m \u001b[0mdf\u001b[0m\u001b[0;34m.\u001b[0m\u001b[0mdrop\u001b[0m\u001b[0;34m(\u001b[0m\u001b[0;34m[\u001b[0m\u001b[0;34m'sugar_PH'\u001b[0m\u001b[0;34m]\u001b[0m\u001b[0;34m,\u001b[0m\u001b[0maxis\u001b[0m\u001b[0;34m=\u001b[0m\u001b[0;36m1\u001b[0m\u001b[0;34m)\u001b[0m\u001b[0;34m\u001b[0m\u001b[0;34m\u001b[0m\u001b[0m\n\u001b[0m\u001b[1;32m      2\u001b[0m \u001b[0mdf\u001b[0m \u001b[0;34m=\u001b[0m \u001b[0mdf\u001b[0m\u001b[0;34m.\u001b[0m\u001b[0mdrop\u001b[0m\u001b[0;34m(\u001b[0m\u001b[0;34m[\u001b[0m\u001b[0;34m'index'\u001b[0m\u001b[0;34m]\u001b[0m\u001b[0;34m,\u001b[0m\u001b[0maxis\u001b[0m\u001b[0;34m=\u001b[0m\u001b[0;36m1\u001b[0m\u001b[0;34m)\u001b[0m\u001b[0;34m\u001b[0m\u001b[0;34m\u001b[0m\u001b[0m\n",
            "\u001b[0;32m/usr/local/lib/python3.7/dist-packages/pandas/core/frame.py\u001b[0m in \u001b[0;36mdrop\u001b[0;34m(self, labels, axis, index, columns, level, inplace, errors)\u001b[0m\n\u001b[1;32m   4172\u001b[0m             \u001b[0mlevel\u001b[0m\u001b[0;34m=\u001b[0m\u001b[0mlevel\u001b[0m\u001b[0;34m,\u001b[0m\u001b[0;34m\u001b[0m\u001b[0;34m\u001b[0m\u001b[0m\n\u001b[1;32m   4173\u001b[0m             \u001b[0minplace\u001b[0m\u001b[0;34m=\u001b[0m\u001b[0minplace\u001b[0m\u001b[0;34m,\u001b[0m\u001b[0;34m\u001b[0m\u001b[0;34m\u001b[0m\u001b[0m\n\u001b[0;32m-> 4174\u001b[0;31m             \u001b[0merrors\u001b[0m\u001b[0;34m=\u001b[0m\u001b[0merrors\u001b[0m\u001b[0;34m,\u001b[0m\u001b[0;34m\u001b[0m\u001b[0;34m\u001b[0m\u001b[0m\n\u001b[0m\u001b[1;32m   4175\u001b[0m         )\n\u001b[1;32m   4176\u001b[0m \u001b[0;34m\u001b[0m\u001b[0m\n",
            "\u001b[0;32m/usr/local/lib/python3.7/dist-packages/pandas/core/generic.py\u001b[0m in \u001b[0;36mdrop\u001b[0;34m(self, labels, axis, index, columns, level, inplace, errors)\u001b[0m\n\u001b[1;32m   3887\u001b[0m         \u001b[0;32mfor\u001b[0m \u001b[0maxis\u001b[0m\u001b[0;34m,\u001b[0m \u001b[0mlabels\u001b[0m \u001b[0;32min\u001b[0m \u001b[0maxes\u001b[0m\u001b[0;34m.\u001b[0m\u001b[0mitems\u001b[0m\u001b[0;34m(\u001b[0m\u001b[0;34m)\u001b[0m\u001b[0;34m:\u001b[0m\u001b[0;34m\u001b[0m\u001b[0;34m\u001b[0m\u001b[0m\n\u001b[1;32m   3888\u001b[0m             \u001b[0;32mif\u001b[0m \u001b[0mlabels\u001b[0m \u001b[0;32mis\u001b[0m \u001b[0;32mnot\u001b[0m \u001b[0;32mNone\u001b[0m\u001b[0;34m:\u001b[0m\u001b[0;34m\u001b[0m\u001b[0;34m\u001b[0m\u001b[0m\n\u001b[0;32m-> 3889\u001b[0;31m                 \u001b[0mobj\u001b[0m \u001b[0;34m=\u001b[0m \u001b[0mobj\u001b[0m\u001b[0;34m.\u001b[0m\u001b[0m_drop_axis\u001b[0m\u001b[0;34m(\u001b[0m\u001b[0mlabels\u001b[0m\u001b[0;34m,\u001b[0m \u001b[0maxis\u001b[0m\u001b[0;34m,\u001b[0m \u001b[0mlevel\u001b[0m\u001b[0;34m=\u001b[0m\u001b[0mlevel\u001b[0m\u001b[0;34m,\u001b[0m \u001b[0merrors\u001b[0m\u001b[0;34m=\u001b[0m\u001b[0merrors\u001b[0m\u001b[0;34m)\u001b[0m\u001b[0;34m\u001b[0m\u001b[0;34m\u001b[0m\u001b[0m\n\u001b[0m\u001b[1;32m   3890\u001b[0m \u001b[0;34m\u001b[0m\u001b[0m\n\u001b[1;32m   3891\u001b[0m         \u001b[0;32mif\u001b[0m \u001b[0minplace\u001b[0m\u001b[0;34m:\u001b[0m\u001b[0;34m\u001b[0m\u001b[0;34m\u001b[0m\u001b[0m\n",
            "\u001b[0;32m/usr/local/lib/python3.7/dist-packages/pandas/core/generic.py\u001b[0m in \u001b[0;36m_drop_axis\u001b[0;34m(self, labels, axis, level, errors)\u001b[0m\n\u001b[1;32m   3921\u001b[0m                 \u001b[0mnew_axis\u001b[0m \u001b[0;34m=\u001b[0m \u001b[0maxis\u001b[0m\u001b[0;34m.\u001b[0m\u001b[0mdrop\u001b[0m\u001b[0;34m(\u001b[0m\u001b[0mlabels\u001b[0m\u001b[0;34m,\u001b[0m \u001b[0mlevel\u001b[0m\u001b[0;34m=\u001b[0m\u001b[0mlevel\u001b[0m\u001b[0;34m,\u001b[0m \u001b[0merrors\u001b[0m\u001b[0;34m=\u001b[0m\u001b[0merrors\u001b[0m\u001b[0;34m)\u001b[0m\u001b[0;34m\u001b[0m\u001b[0;34m\u001b[0m\u001b[0m\n\u001b[1;32m   3922\u001b[0m             \u001b[0;32melse\u001b[0m\u001b[0;34m:\u001b[0m\u001b[0;34m\u001b[0m\u001b[0;34m\u001b[0m\u001b[0m\n\u001b[0;32m-> 3923\u001b[0;31m                 \u001b[0mnew_axis\u001b[0m \u001b[0;34m=\u001b[0m \u001b[0maxis\u001b[0m\u001b[0;34m.\u001b[0m\u001b[0mdrop\u001b[0m\u001b[0;34m(\u001b[0m\u001b[0mlabels\u001b[0m\u001b[0;34m,\u001b[0m \u001b[0merrors\u001b[0m\u001b[0;34m=\u001b[0m\u001b[0merrors\u001b[0m\u001b[0;34m)\u001b[0m\u001b[0;34m\u001b[0m\u001b[0;34m\u001b[0m\u001b[0m\n\u001b[0m\u001b[1;32m   3924\u001b[0m             \u001b[0mresult\u001b[0m \u001b[0;34m=\u001b[0m \u001b[0mself\u001b[0m\u001b[0;34m.\u001b[0m\u001b[0mreindex\u001b[0m\u001b[0;34m(\u001b[0m\u001b[0;34m**\u001b[0m\u001b[0;34m{\u001b[0m\u001b[0maxis_name\u001b[0m\u001b[0;34m:\u001b[0m \u001b[0mnew_axis\u001b[0m\u001b[0;34m}\u001b[0m\u001b[0;34m)\u001b[0m\u001b[0;34m\u001b[0m\u001b[0;34m\u001b[0m\u001b[0m\n\u001b[1;32m   3925\u001b[0m \u001b[0;34m\u001b[0m\u001b[0m\n",
            "\u001b[0;32m/usr/local/lib/python3.7/dist-packages/pandas/core/indexes/base.py\u001b[0m in \u001b[0;36mdrop\u001b[0;34m(self, labels, errors)\u001b[0m\n\u001b[1;32m   5285\u001b[0m         \u001b[0;32mif\u001b[0m \u001b[0mmask\u001b[0m\u001b[0;34m.\u001b[0m\u001b[0many\u001b[0m\u001b[0;34m(\u001b[0m\u001b[0;34m)\u001b[0m\u001b[0;34m:\u001b[0m\u001b[0;34m\u001b[0m\u001b[0;34m\u001b[0m\u001b[0m\n\u001b[1;32m   5286\u001b[0m             \u001b[0;32mif\u001b[0m \u001b[0merrors\u001b[0m \u001b[0;34m!=\u001b[0m \u001b[0;34m\"ignore\"\u001b[0m\u001b[0;34m:\u001b[0m\u001b[0;34m\u001b[0m\u001b[0;34m\u001b[0m\u001b[0m\n\u001b[0;32m-> 5287\u001b[0;31m                 \u001b[0;32mraise\u001b[0m \u001b[0mKeyError\u001b[0m\u001b[0;34m(\u001b[0m\u001b[0;34mf\"{labels[mask]} not found in axis\"\u001b[0m\u001b[0;34m)\u001b[0m\u001b[0;34m\u001b[0m\u001b[0;34m\u001b[0m\u001b[0m\n\u001b[0m\u001b[1;32m   5288\u001b[0m             \u001b[0mindexer\u001b[0m \u001b[0;34m=\u001b[0m \u001b[0mindexer\u001b[0m\u001b[0;34m[\u001b[0m\u001b[0;34m~\u001b[0m\u001b[0mmask\u001b[0m\u001b[0;34m]\u001b[0m\u001b[0;34m\u001b[0m\u001b[0;34m\u001b[0m\u001b[0m\n\u001b[1;32m   5289\u001b[0m         \u001b[0;32mreturn\u001b[0m \u001b[0mself\u001b[0m\u001b[0;34m.\u001b[0m\u001b[0mdelete\u001b[0m\u001b[0;34m(\u001b[0m\u001b[0mindexer\u001b[0m\u001b[0;34m)\u001b[0m\u001b[0;34m\u001b[0m\u001b[0;34m\u001b[0m\u001b[0m\n",
            "\u001b[0;31mKeyError\u001b[0m: \"['sugar_PH'] not found in axis\""
          ]
        }
      ]
    },
    {
      "cell_type": "code",
      "metadata": {
        "colab": {
          "base_uri": "https://localhost:8080/"
        },
        "id": "JXnTOUxwb05x",
        "outputId": "7b9ef5b8-c007-4c69-cc82-48ea1ad61e85"
      },
      "source": [
        "########################################\n",
        "### sugar, PH의 필드형식 float64로 변환\n",
        "#######################################\n",
        "df = df.astype({'sugar': 'float64'})\n",
        "df = df.astype({'PH': 'float64'})\n",
        "df.info()"
      ],
      "execution_count": 73,
      "outputs": [
        {
          "output_type": "stream",
          "name": "stdout",
          "text": [
            "<class 'pandas.core.frame.DataFrame'>\n",
            "RangeIndex: 6497 entries, 0 to 6496\n",
            "Data columns (total 6 columns):\n",
            " #   Column    Non-Null Count  Dtype  \n",
            "---  ------    --------------  -----  \n",
            " 0   index     6497 non-null   int64  \n",
            " 1   alcohol   6497 non-null   float64\n",
            " 2   class     6493 non-null   float64\n",
            " 3   sugar_PH  6497 non-null   object \n",
            " 4   sugar     6497 non-null   float64\n",
            " 5   PH        6497 non-null   float64\n",
            "dtypes: float64(4), int64(1), object(1)\n",
            "memory usage: 304.7+ KB\n"
          ]
        }
      ]
    },
    {
      "cell_type": "code",
      "metadata": {
        "id": "7MM2hOymZ2kC"
      },
      "source": [
        "## 다른 방법\n",
        "for x in df.columns:\n",
        "  if df[x].dtype == 'object':\n",
        "    df[x]= df[x].astype('float64')"
      ],
      "execution_count": 45,
      "outputs": []
    },
    {
      "cell_type": "code",
      "metadata": {
        "colab": {
          "base_uri": "https://localhost:8080/"
        },
        "id": "bzk919qUhXV7",
        "outputId": "d9e1fbde-26a4-4049-f8e9-3fc3e73d6d9a"
      },
      "source": [
        "## 다른방법\n",
        "[df[x].astype('float64') if df[x].dtype == 'object' else x for x in df.columns]\n",
        "## else를 쓰지않으려면\n",
        "[df[x].astype('float64') for x in df.columns if df[x].dtype == 'object']"
      ],
      "execution_count": 27,
      "outputs": [
        {
          "output_type": "execute_result",
          "data": {
            "text/plain": [
              "['index', 'alcohol', 'class', 0       1.9\n",
              " 1       2.6\n",
              " 2       1.9\n",
              " 3       1.9\n",
              " 4       1.8\n",
              "        ... \n",
              " 6492    1.2\n",
              " 6493    1.1\n",
              " 6494    0.8\n",
              " 6495    2.3\n",
              " 6496    6.1\n",
              " Name: sugar, Length: 6497, dtype: float64, 0       3.51\n",
              " 1       3.20\n",
              " 2       3.16\n",
              " 3       3.51\n",
              " 4       3.51\n",
              "         ... \n",
              " 6492    2.99\n",
              " 6493    3.34\n",
              " 6494    3.26\n",
              " 6495    3.26\n",
              " 6496    3.35\n",
              " Name: PH, Length: 6497, dtype: float64]"
            ]
          },
          "metadata": {},
          "execution_count": 27
        }
      ]
    },
    {
      "cell_type": "code",
      "metadata": {
        "colab": {
          "base_uri": "https://localhost:8080/"
        },
        "id": "lCTQJlSyb8Hz",
        "outputId": "d1e5764b-487a-4801-d146-7289aab3ad3b"
      },
      "source": [
        "########################################\n",
        "### [두자료의 교집합 자료만 보기] 데이콘 경진대회 교재 P37 참조\n",
        "### 숫자값 필드 결측치 0으로 치환\n",
        "#######################################\n",
        "df = df.fillna(0)\n",
        "numerics = ['int16', 'int32', 'int64', 'float16', 'float32', 'float64']\n",
        "\n",
        "#  결측치를 0으로 채우기\n",
        "df[df.select_dtypes(include=numerics).columns] =df[df.select_dtypes(include=numerics).columns].fillna(0)\n",
        "df.info()\n",
        "\n",
        "# for문 이용\n",
        "for x in df.columns:\n",
        "  if df[x].dtype in ['int16', 'int32', 'int64', 'float16', 'float32', 'float64']:\n",
        "    df[x].fillna(0)\n",
        "#\n",
        "# df[x].fillna(0) for x in df.columns if df[x].dtype in ['int16', 'int32', 'int64', 'float16', 'float32', 'float64'] ]\n",
        " "
      ],
      "execution_count": 44,
      "outputs": [
        {
          "output_type": "stream",
          "name": "stdout",
          "text": [
            "<class 'pandas.core.frame.DataFrame'>\n",
            "RangeIndex: 6497 entries, 0 to 6496\n",
            "Data columns (total 5 columns):\n",
            " #   Column   Non-Null Count  Dtype  \n",
            "---  ------   --------------  -----  \n",
            " 0   index    6497 non-null   int64  \n",
            " 1   alcohol  6497 non-null   float64\n",
            " 2   class    6497 non-null   float64\n",
            " 3   sugar    6497 non-null   object \n",
            " 4   PH       6497 non-null   object \n",
            "dtypes: float64(2), int64(1), object(2)\n",
            "memory usage: 253.9+ KB\n"
          ]
        }
      ]
    },
    {
      "cell_type": "code",
      "metadata": {
        "colab": {
          "base_uri": "https://localhost:8080/"
        },
        "id": "-Ep3bFPehZNp",
        "outputId": "df70a21b-708b-4e94-bb87-65d71d03041a"
      },
      "source": [
        "[df[x].fillna(0) for x in df.columns if df[x].dtype in ['int16', 'int32', 'int64', 'float16', 'float32', 'float64']]"
      ],
      "execution_count": 31,
      "outputs": [
        {
          "output_type": "execute_result",
          "data": {
            "text/plain": [
              "[0          1\n",
              " 1          2\n",
              " 2          4\n",
              " 3          5\n",
              " 4          6\n",
              "         ... \n",
              " 6492    6495\n",
              " 6493    6496\n",
              " 6494    6497\n",
              " 6495    6498\n",
              " 6496    6499\n",
              " Name: index, Length: 6497, dtype: int64, 0        9.4\n",
              " 1        9.8\n",
              " 2        9.8\n",
              " 3        9.4\n",
              " 4        9.4\n",
              "         ... \n",
              " 6492     9.4\n",
              " 6493    12.8\n",
              " 6494    11.8\n",
              " 6495     9.8\n",
              " 6496    10.5\n",
              " Name: alcohol, Length: 6497, dtype: float64, 0       0.0\n",
              " 1       0.0\n",
              " 2       0.0\n",
              " 3       0.0\n",
              " 4       0.0\n",
              "        ... \n",
              " 6492    1.0\n",
              " 6493    1.0\n",
              " 6494    1.0\n",
              " 6495    0.0\n",
              " 6496    0.0\n",
              " Name: class, Length: 6497, dtype: float64]"
            ]
          },
          "metadata": {},
          "execution_count": 31
        }
      ]
    },
    {
      "cell_type": "code",
      "metadata": {
        "id": "ibq7WW7u7lH9"
      },
      "source": [
        "df = df.drop(['index'],axis=1)"
      ],
      "execution_count": 52,
      "outputs": []
    },
    {
      "cell_type": "code",
      "metadata": {
        "colab": {
          "base_uri": "https://localhost:8080/",
          "height": 202
        },
        "id": "TO4_xDWPgx5l",
        "outputId": "38ef6f9e-dcd4-4889-cf8c-aa1654234c04"
      },
      "source": [
        "# x,y 데이터 분할\n",
        "y_data = df['class']\n",
        "X_data = df.drop(['class'],axis=1)\n",
        "X_data\n",
        "X_data.head()"
      ],
      "execution_count": 53,
      "outputs": [
        {
          "output_type": "execute_result",
          "data": {
            "text/html": [
              "<div>\n",
              "<style scoped>\n",
              "    .dataframe tbody tr th:only-of-type {\n",
              "        vertical-align: middle;\n",
              "    }\n",
              "\n",
              "    .dataframe tbody tr th {\n",
              "        vertical-align: top;\n",
              "    }\n",
              "\n",
              "    .dataframe thead th {\n",
              "        text-align: right;\n",
              "    }\n",
              "</style>\n",
              "<table border=\"1\" class=\"dataframe\">\n",
              "  <thead>\n",
              "    <tr style=\"text-align: right;\">\n",
              "      <th></th>\n",
              "      <th>alcohol</th>\n",
              "      <th>sugar</th>\n",
              "      <th>PH</th>\n",
              "    </tr>\n",
              "  </thead>\n",
              "  <tbody>\n",
              "    <tr>\n",
              "      <th>0</th>\n",
              "      <td>9.4</td>\n",
              "      <td>1.9</td>\n",
              "      <td>3.51</td>\n",
              "    </tr>\n",
              "    <tr>\n",
              "      <th>1</th>\n",
              "      <td>9.8</td>\n",
              "      <td>2.6</td>\n",
              "      <td>3.20</td>\n",
              "    </tr>\n",
              "    <tr>\n",
              "      <th>2</th>\n",
              "      <td>9.8</td>\n",
              "      <td>1.9</td>\n",
              "      <td>3.16</td>\n",
              "    </tr>\n",
              "    <tr>\n",
              "      <th>3</th>\n",
              "      <td>9.4</td>\n",
              "      <td>1.9</td>\n",
              "      <td>3.51</td>\n",
              "    </tr>\n",
              "    <tr>\n",
              "      <th>4</th>\n",
              "      <td>9.4</td>\n",
              "      <td>1.8</td>\n",
              "      <td>3.51</td>\n",
              "    </tr>\n",
              "  </tbody>\n",
              "</table>\n",
              "</div>"
            ],
            "text/plain": [
              "   alcohol  sugar    PH\n",
              "0      9.4    1.9  3.51\n",
              "1      9.8    2.6  3.20\n",
              "2      9.8    1.9  3.16\n",
              "3      9.4    1.9  3.51\n",
              "4      9.4    1.8  3.51"
            ]
          },
          "metadata": {},
          "execution_count": 53
        }
      ]
    },
    {
      "cell_type": "code",
      "metadata": {
        "colab": {
          "base_uri": "https://localhost:8080/"
        },
        "id": "3bkCu7ta4V92",
        "outputId": "6e3ac2d5-e1d8-491b-a008-26ef543638ba"
      },
      "source": [
        "#사이킷런 제공 트레이닝 테스트 자료 본할기 사용\n",
        "from sklearn.linear_model import LogisticRegression\n",
        "from sklearn.model_selection import train_test_split\n",
        "from sklearn.metrics import confusion_matrix\n",
        "from sklearn.preprocessing import StandardScaler\n",
        "from sklearn.metrics import accuracy_score,precision_score,recall_score,roc_auc_score, roc_curve\n",
        "\n",
        "\n",
        "train_x, test_x ,train_y, test_y = train_test_split(X_data, y_data, test_size=0.3,random_state=1)\n",
        "print(train_x.shape, test_x.shape, train_y.shape, test_y.shape)\n"
      ],
      "execution_count": 54,
      "outputs": [
        {
          "output_type": "stream",
          "name": "stdout",
          "text": [
            "(4547, 3) (1950, 3) (4547,) (1950,)\n"
          ]
        }
      ]
    },
    {
      "cell_type": "code",
      "metadata": {
        "id": "uuzAI67J48g7"
      },
      "source": [
        "## 사이킷런의 standardscaler를 이용하여서 train,test 의 x자료 스케일링\n",
        "# 스케일링된 변수 train_scaled / test_scaled 생성\n",
        "\n",
        "scaler = StandardScaler()\n",
        "scaler.fit(train_x)\n",
        "\n",
        "train_scaled = scaler.transform(train_x)\n",
        "test_scaled = scaler.transform(test_x)"
      ],
      "execution_count": 55,
      "outputs": []
    },
    {
      "cell_type": "code",
      "metadata": {
        "colab": {
          "base_uri": "https://localhost:8080/",
          "height": 414
        },
        "id": "YzJbXuQL6slc",
        "outputId": "260c2635-1704-44ba-ee87-cd5cf5ce919f"
      },
      "source": [
        "train_x"
      ],
      "execution_count": 56,
      "outputs": [
        {
          "output_type": "execute_result",
          "data": {
            "text/html": [
              "<div>\n",
              "<style scoped>\n",
              "    .dataframe tbody tr th:only-of-type {\n",
              "        vertical-align: middle;\n",
              "    }\n",
              "\n",
              "    .dataframe tbody tr th {\n",
              "        vertical-align: top;\n",
              "    }\n",
              "\n",
              "    .dataframe thead th {\n",
              "        text-align: right;\n",
              "    }\n",
              "</style>\n",
              "<table border=\"1\" class=\"dataframe\">\n",
              "  <thead>\n",
              "    <tr style=\"text-align: right;\">\n",
              "      <th></th>\n",
              "      <th>alcohol</th>\n",
              "      <th>sugar</th>\n",
              "      <th>PH</th>\n",
              "    </tr>\n",
              "  </thead>\n",
              "  <tbody>\n",
              "    <tr>\n",
              "      <th>863</th>\n",
              "      <td>9.7</td>\n",
              "      <td>2.6</td>\n",
              "      <td>3.51</td>\n",
              "    </tr>\n",
              "    <tr>\n",
              "      <th>104</th>\n",
              "      <td>9.3</td>\n",
              "      <td>1.7</td>\n",
              "      <td>3.08</td>\n",
              "    </tr>\n",
              "    <tr>\n",
              "      <th>1764</th>\n",
              "      <td>12.6</td>\n",
              "      <td>2.4</td>\n",
              "      <td>3.08</td>\n",
              "    </tr>\n",
              "    <tr>\n",
              "      <th>1691</th>\n",
              "      <td>11.5</td>\n",
              "      <td>1.7</td>\n",
              "      <td>3.21</td>\n",
              "    </tr>\n",
              "    <tr>\n",
              "      <th>1344</th>\n",
              "      <td>11.4</td>\n",
              "      <td>2.1</td>\n",
              "      <td>3.52</td>\n",
              "    </tr>\n",
              "    <tr>\n",
              "      <th>...</th>\n",
              "      <td>...</td>\n",
              "      <td>...</td>\n",
              "      <td>...</td>\n",
              "    </tr>\n",
              "    <tr>\n",
              "      <th>905</th>\n",
              "      <td>11.5</td>\n",
              "      <td>2.2</td>\n",
              "      <td>3.59</td>\n",
              "    </tr>\n",
              "    <tr>\n",
              "      <th>5192</th>\n",
              "      <td>12.1</td>\n",
              "      <td>1.0</td>\n",
              "      <td>3.12</td>\n",
              "    </tr>\n",
              "    <tr>\n",
              "      <th>3980</th>\n",
              "      <td>11.0</td>\n",
              "      <td>5.8</td>\n",
              "      <td>3.28</td>\n",
              "    </tr>\n",
              "    <tr>\n",
              "      <th>235</th>\n",
              "      <td>9.2</td>\n",
              "      <td>1.9</td>\n",
              "      <td>3.37</td>\n",
              "    </tr>\n",
              "    <tr>\n",
              "      <th>5157</th>\n",
              "      <td>12.9</td>\n",
              "      <td>4.4</td>\n",
              "      <td>3.11</td>\n",
              "    </tr>\n",
              "  </tbody>\n",
              "</table>\n",
              "<p>4547 rows × 3 columns</p>\n",
              "</div>"
            ],
            "text/plain": [
              "      alcohol  sugar    PH\n",
              "863       9.7    2.6  3.51\n",
              "104       9.3    1.7  3.08\n",
              "1764     12.6    2.4  3.08\n",
              "1691     11.5    1.7  3.21\n",
              "1344     11.4    2.1  3.52\n",
              "...       ...    ...   ...\n",
              "905      11.5    2.2  3.59\n",
              "5192     12.1    1.0  3.12\n",
              "3980     11.0    5.8  3.28\n",
              "235       9.2    1.9  3.37\n",
              "5157     12.9    4.4  3.11\n",
              "\n",
              "[4547 rows x 3 columns]"
            ]
          },
          "metadata": {},
          "execution_count": 56
        }
      ]
    },
    {
      "cell_type": "code",
      "metadata": {
        "colab": {
          "base_uri": "https://localhost:8080/"
        },
        "id": "_eEFf7Hw5hqt",
        "outputId": "6e881ddb-8221-439a-9c5c-e599c525d240"
      },
      "source": [
        "## 우리는 y결과값이 3과1의 두가지 값만 표시되는 이항분류를 진행하고자 함\n",
        "## 로지스틱 회귀 분석 실시\n",
        "### 트레이닝, 테스트 스코어 값\n",
        "\n",
        "lr = LogisticRegression()\n",
        "lr.fit(train_scaled, train_y)\n",
        "\n",
        "print(lr.score(train_scaled,train_y))\n",
        "print(lr.score(test_scaled,test_y))"
      ],
      "execution_count": 57,
      "outputs": [
        {
          "output_type": "stream",
          "name": "stdout",
          "text": [
            "0.7849131295359578\n",
            "0.782051282051282\n"
          ]
        }
      ]
    },
    {
      "cell_type": "code",
      "metadata": {
        "colab": {
          "base_uri": "https://localhost:8080/"
        },
        "id": "6jB2bSeI543y",
        "outputId": "b988edf7-862a-42e5-da96-64a71d744b20"
      },
      "source": [
        "pred = lr.predict(test_scaled)\n",
        "print('acc 정확도 %2.3f'%accuracy_score(test_y,pred))\n",
        "print('acc 정밀도 %2.3f'%precision_score(test_y,pred))\n",
        "print('rec 재현율 %2.3f'%recall_score(test_y,pred))"
      ],
      "execution_count": 68,
      "outputs": [
        {
          "output_type": "stream",
          "name": "stdout",
          "text": [
            "acc 정확도 0.782\n",
            "acc 정밀도 0.823\n",
            "rec 재현율 0.909\n"
          ]
        }
      ]
    },
    {
      "cell_type": "code",
      "metadata": {
        "colab": {
          "base_uri": "https://localhost:8080/"
        },
        "id": "GIR4Fv2w86Bp",
        "outputId": "bcdac153-47ae-4c70-fa96-017f3ea97808"
      },
      "source": [
        "# pred - test_y 값이 0이면 맞음, 아니면 틀림\n",
        "cnt=0\n",
        "for i,j in zip(pred, test_y):\n",
        "  if i == j:\n",
        "    cnt+=1\n",
        "print(cnt/len(pred),1-cnt/len(pred))\n",
        "# 정확도 (성공률): 맞음갯수/전체갯수\n",
        "\n",
        "#----------------------------------\n",
        "cnt1 = 0\n",
        "for x in pred-test_y:\n",
        "  if x==0:\n",
        "    cnt1+=1\n",
        "print(cnt1/len(pred))\n",
        "\n",
        "\n",
        "#----------------------------------\n",
        "tmp=[]\n",
        "for x in pred-test_y:\n",
        "  tmp.append(x)\n",
        "print(tmp.count(0)/len(tmp))\n",
        "\n",
        "\n",
        "#----------------------------------\n",
        "tmp=[x for x in pred-test_y]\n",
        "print(tmp.count(0)/len(tmp))"
      ],
      "execution_count": 74,
      "outputs": [
        {
          "output_type": "stream",
          "name": "stdout",
          "text": [
            "0.782051282051282 0.21794871794871795\n",
            "0.782051282051282\n",
            "0.782051282051282\n",
            "0.782051282051282\n"
          ]
        }
      ]
    },
    {
      "cell_type": "code",
      "metadata": {
        "colab": {
          "base_uri": "https://localhost:8080/",
          "height": 54
        },
        "id": "HN7UDiTj_Uqd",
        "outputId": "f5aebcad-dc69-4251-f84c-bff581ac7478"
      },
      "source": [
        "## 참고 예측\n",
        "# 새로운 new_X값도 스케일링 하고 예측해야함.\n",
        "# alcohol,sugar, PH값이\n",
        "\n",
        "# new_X는 사용자가 웹에서 직접 입력할 수도 있고, 크롤링으로 얻어온 자료일 수 있고\n",
        "# 또는 이미지 또는 사운드의 내용일 수 있음.\n",
        "\n",
        "# 이 작업은 보통, 위에 있는 작업을 모두 피클링 또는 dump해서 객체화 시켜서 갖고 있게 됨.\n",
        "\n",
        "# 또는 머신러닝에서도 모델값만 갖고 있게 됨.\n",
        "# 또는 딥러닝 같은 경우는 모델 값만 갖고 있게 됨\n",
        "new_X=np.array([[15,30,1.08]])\n",
        "# from sklearn.preprocessing import StandardScaler\n",
        "# scaler = StandardScaler()\n",
        "#scaler.fit(new_X)\n",
        "newX_scaled = scaler.transform(new_X)\n",
        "y_hat = lr.predict(newX_scaled)\n",
        "# 이 자료의 class 가 1 이면 화이트와인 /0이면 레드와인\n",
        "classLabel=['red wine','white wine']\n",
        "print(classLabel[int(y_hat[0])])\n",
        "\n",
        "# \n",
        "확률 = lr.predict_proba(new_X)    # 출력물이 [0.,1.] 1이 될 확률이 1이다.\n",
        "classLabel[np.argmax(확률)] # 큰 값을 출력하게함 "
      ],
      "execution_count": 78,
      "outputs": [
        {
          "output_type": "stream",
          "name": "stdout",
          "text": [
            "white wine\n"
          ]
        },
        {
          "output_type": "execute_result",
          "data": {
            "application/vnd.google.colaboratory.intrinsic+json": {
              "type": "string"
            },
            "text/plain": [
              "'white wine'"
            ]
          },
          "metadata": {},
          "execution_count": 78
        }
      ]
    },
    {
      "cell_type": "code",
      "metadata": {
        "id": "Hjj4gKVLJ-ES"
      },
      "source": [
        "## [미션]  p_value 값이 0.05보다 크면 정규분포가 아니라서 귀무가설이 맞음을 의미함.\n",
        "## 즉 그 자료의 분포는 일정하여서 y값에 영향을 미치지 않음.\n",
        "## p_value값이 0.05보다 작으면 귀무가설을 기각할 수 있음을 뜻함."
      ],
      "execution_count": null,
      "outputs": []
    },
    {
      "cell_type": "code",
      "metadata": {
        "colab": {
          "base_uri": "https://localhost:8080/",
          "height": 347
        },
        "id": "APjDRjPeD9wI",
        "outputId": "abb9d63c-1718-45a2-ddac-9731e92382cc"
      },
      "source": [
        "########################################\n",
        "### 관측치 값들의 관여 민감도\n",
        "### P>\\z\\ 값의 크기를 확인하여서 x1,x2,x3(넘파이로 변환해서 이렇게 나옴. 판다스형태에서 작업하면 변수명 출력됨)\n",
        "###  x1(alcohol), x2(sugar), x3(PH) 값이 모두 특징값으로 참여해도 됨을 확인하는 작업임.\n",
        "## import statsmodels.api as sm 를 이용하여서 \n",
        "#######################################\n",
        "\n",
        "# (p- 값 <0.05, 5 % 유의 수준). 계수는 양수이며 로그 승산 조건임\n",
        "\n",
        "import statsmodels.api as sm\n",
        "\n",
        "logitreg = sm.Logit(train_y, train_scaled)\n",
        "logitreg_fit = logitreg.fit()\n",
        "\n",
        "results=logitreg_fit.summary()\n",
        "results"
      ],
      "execution_count": 79,
      "outputs": [
        {
          "output_type": "stream",
          "name": "stderr",
          "text": [
            "/usr/local/lib/python3.7/dist-packages/statsmodels/tools/_testing.py:19: FutureWarning: pandas.util.testing is deprecated. Use the functions in the public API at pandas.testing instead.\n",
            "  import pandas.util.testing as tm\n"
          ]
        },
        {
          "output_type": "stream",
          "name": "stdout",
          "text": [
            "Optimization terminated successfully.\n",
            "         Current function value: 0.600723\n",
            "         Iterations 5\n"
          ]
        },
        {
          "output_type": "execute_result",
          "data": {
            "text/html": [
              "<table class=\"simpletable\">\n",
              "<caption>Logit Regression Results</caption>\n",
              "<tr>\n",
              "  <th>Dep. Variable:</th>         <td>class</td>      <th>  No. Observations:  </th>  <td>  4547</td> \n",
              "</tr>\n",
              "<tr>\n",
              "  <th>Model:</th>                 <td>Logit</td>      <th>  Df Residuals:      </th>  <td>  4544</td> \n",
              "</tr>\n",
              "<tr>\n",
              "  <th>Method:</th>                 <td>MLE</td>       <th>  Df Model:          </th>  <td>     2</td> \n",
              "</tr>\n",
              "<tr>\n",
              "  <th>Date:</th>            <td>Thu, 23 Sep 2021</td> <th>  Pseudo R-squ.:     </th> <td>-0.06815</td>\n",
              "</tr>\n",
              "<tr>\n",
              "  <th>Time:</th>                <td>05:38:46</td>     <th>  Log-Likelihood:    </th> <td> -2731.5</td>\n",
              "</tr>\n",
              "<tr>\n",
              "  <th>converged:</th>             <td>True</td>       <th>  LL-Null:           </th> <td> -2557.2</td>\n",
              "</tr>\n",
              "<tr>\n",
              "  <th>Covariance Type:</th>     <td>nonrobust</td>    <th>  LLR p-value:       </th>  <td> 1.000</td> \n",
              "</tr>\n",
              "</table>\n",
              "<table class=\"simpletable\">\n",
              "<tr>\n",
              "   <td></td>     <th>coef</th>     <th>std err</th>      <th>z</th>      <th>P>|z|</th>  <th>[0.025</th>    <th>0.975]</th>  \n",
              "</tr>\n",
              "<tr>\n",
              "  <th>x1</th> <td>    0.4129</td> <td>    0.036</td> <td>   11.585</td> <td> 0.000</td> <td>    0.343</td> <td>    0.483</td>\n",
              "</tr>\n",
              "<tr>\n",
              "  <th>x2</th> <td>    0.7253</td> <td>    0.039</td> <td>   18.625</td> <td> 0.000</td> <td>    0.649</td> <td>    0.802</td>\n",
              "</tr>\n",
              "<tr>\n",
              "  <th>x3</th> <td>   -0.5588</td> <td>    0.036</td> <td>  -15.487</td> <td> 0.000</td> <td>   -0.629</td> <td>   -0.488</td>\n",
              "</tr>\n",
              "</table>"
            ],
            "text/plain": [
              "<class 'statsmodels.iolib.summary.Summary'>\n",
              "\"\"\"\n",
              "                           Logit Regression Results                           \n",
              "==============================================================================\n",
              "Dep. Variable:                  class   No. Observations:                 4547\n",
              "Model:                          Logit   Df Residuals:                     4544\n",
              "Method:                           MLE   Df Model:                            2\n",
              "Date:                Thu, 23 Sep 2021   Pseudo R-squ.:                -0.06815\n",
              "Time:                        05:38:46   Log-Likelihood:                -2731.5\n",
              "converged:                       True   LL-Null:                       -2557.2\n",
              "Covariance Type:            nonrobust   LLR p-value:                     1.000\n",
              "==============================================================================\n",
              "                 coef    std err          z      P>|z|      [0.025      0.975]\n",
              "------------------------------------------------------------------------------\n",
              "x1             0.4129      0.036     11.585      0.000       0.343       0.483\n",
              "x2             0.7253      0.039     18.625      0.000       0.649       0.802\n",
              "x3            -0.5588      0.036    -15.487      0.000      -0.629      -0.488\n",
              "==============================================================================\n",
              "\"\"\""
            ]
          },
          "metadata": {},
          "execution_count": 79
        }
      ]
    },
    {
      "cell_type": "code",
      "metadata": {
        "colab": {
          "base_uri": "https://localhost:8080/"
        },
        "id": "Fvouz4C1KckK",
        "outputId": "01861541-ef78-4215-a98b-315910901c3f"
      },
      "source": [
        "# 해석 : alcohol값이 1 증가할때마다 class가 1이 될 확률이 1.8배 증가함\n",
        "np.exp(logitreg_fit.params)"
      ],
      "execution_count": 80,
      "outputs": [
        {
          "output_type": "execute_result",
          "data": {
            "text/plain": [
              "x1    1.511203\n",
              "x2    2.065313\n",
              "x3    0.571909\n",
              "dtype: float64"
            ]
          },
          "metadata": {},
          "execution_count": 80
        }
      ]
    },
    {
      "cell_type": "code",
      "metadata": {
        "colab": {
          "base_uri": "https://localhost:8080/"
        },
        "id": "BChSD2BVK7cq",
        "outputId": "b2c92547-94bf-4e7b-f033-29972e67452c"
      },
      "source": [
        "### 로지스틱회귀를 다시 실행\n",
        "from sklearn.linear_model import LogisticRegression\n",
        "\n",
        "lr = LogisticRegression()\n",
        "lr.fit(train_scaled,train_y)"
      ],
      "execution_count": 81,
      "outputs": [
        {
          "output_type": "execute_result",
          "data": {
            "text/plain": [
              "LogisticRegression(C=1.0, class_weight=None, dual=False, fit_intercept=True,\n",
              "                   intercept_scaling=1, l1_ratio=None, max_iter=100,\n",
              "                   multi_class='auto', n_jobs=None, penalty='l2',\n",
              "                   random_state=None, solver='lbfgs', tol=0.0001, verbose=0,\n",
              "                   warm_start=False)"
            ]
          },
          "metadata": {},
          "execution_count": 81
        }
      ]
    },
    {
      "cell_type": "code",
      "metadata": {
        "colab": {
          "base_uri": "https://localhost:8080/"
        },
        "id": "QCMyDBw4Qy6w",
        "outputId": "33920828-d49e-45be-dea6-40ecfcf6c490"
      },
      "source": [
        "from sklearn.metrics import confusion_matrix\n",
        "cm=confusion_matrix(test_y, lr.predict(test_scaled))\n",
        "cm\n"
      ],
      "execution_count": 83,
      "outputs": [
        {
          "output_type": "execute_result",
          "data": {
            "text/plain": [
              "array([[ 172,  290],\n",
              "       [ 135, 1353]])"
            ]
          },
          "metadata": {},
          "execution_count": 83
        }
      ]
    },
    {
      "cell_type": "code",
      "metadata": {
        "colab": {
          "base_uri": "https://localhost:8080/",
          "height": 278
        },
        "id": "xSpNqI1gQoQx",
        "outputId": "b55e150f-9e21-4846-8473-7736c29da738"
      },
      "source": [
        "import warnings\n",
        "warnings.filterwarnings(action='ignore')\n",
        "\n",
        "\n",
        "import matplotlib.pyplot as plt\n",
        "sns.heatmap(cm, annot = True, fmt = 'd',cmap = 'Reds')\n",
        "plt.xlabel('예측값')\n",
        "plt.ylabel('실제값')\n",
        "plt.xticks([0.5,1.5],['0(N)', '1(P)'])\n",
        "plt.yticks([0.5,1.5],['0(N)', '1(P)'])\n",
        "plt.show()\n"
      ],
      "execution_count": 87,
      "outputs": [
        {
          "output_type": "display_data",
          "data": {
            "image/png": "[encoded data removed]",
            "text/plain": [
              "<Figure size 432x288 with 2 Axes>"
            ]
          },
          "metadata": {
            "needs_background": "light"
          }
        }
      ]
    },
    {
      "cell_type": "code",
      "metadata": {
        "colab": {
          "base_uri": "https://localhost:8080/",
          "height": 110
        },
        "id": "4Im-DYeiQoyp",
        "outputId": "36c6dce1-ef5a-4bf6-ddec-10eb286173cc"
      },
      "source": [
        "pd.DataFrame(cm, index=['실제값(N:0)','실제값(P:1)'],columns=['예측값(N:0)','예측값(P:1)'])\n"
      ],
      "execution_count": 88,
      "outputs": [
        {
          "output_type": "execute_result",
          "data": {
            "text/html": [
              "<div>\n",
              "<style scoped>\n",
              "    .dataframe tbody tr th:only-of-type {\n",
              "        vertical-align: middle;\n",
              "    }\n",
              "\n",
              "    .dataframe tbody tr th {\n",
              "        vertical-align: top;\n",
              "    }\n",
              "\n",
              "    .dataframe thead th {\n",
              "        text-align: right;\n",
              "    }\n",
              "</style>\n",
              "<table border=\"1\" class=\"dataframe\">\n",
              "  <thead>\n",
              "    <tr style=\"text-align: right;\">\n",
              "      <th></th>\n",
              "      <th>예측값(N:0)</th>\n",
              "      <th>예측값(P:1)</th>\n",
              "    </tr>\n",
              "  </thead>\n",
              "  <tbody>\n",
              "    <tr>\n",
              "      <th>실제값(N:0)</th>\n",
              "      <td>172</td>\n",
              "      <td>290</td>\n",
              "    </tr>\n",
              "    <tr>\n",
              "      <th>실제값(P:1)</th>\n",
              "      <td>135</td>\n",
              "      <td>1353</td>\n",
              "    </tr>\n",
              "  </tbody>\n",
              "</table>\n",
              "</div>"
            ],
            "text/plain": [
              "          예측값(N:0)  예측값(P:1)\n",
              "실제값(N:0)       172       290\n",
              "실제값(P:1)       135      1353"
            ]
          },
          "metadata": {},
          "execution_count": 88
        }
      ]
    },
    {
      "cell_type": "code",
      "metadata": {
        "colab": {
          "base_uri": "https://localhost:8080/",
          "height": 202
        },
        "id": "OXtAle69RIeN",
        "outputId": "b5df2291-b0a4-4127-ab43-d7d14ea2482f"
      },
      "source": [
        "## 직접 작성\n",
        "tmp = []\n",
        "pred = lr.predict(test_scaled)\n",
        "for i,j in zip(test_y, pred):\n",
        "  tmp.append(str(int(i))+str(int(j)))\n",
        "tmpdf=pd.DataFrame({'y':test_y,'y_hat':pred,'실제값/예측값':tmp})\n",
        "tmpdf.groupby(['실제값/예측값']).count()\n",
        "#tmpdf.to_csv('re.csv')"
      ],
      "execution_count": 86,
      "outputs": [
        {
          "output_type": "execute_result",
          "data": {
            "text/html": [
              "<div>\n",
              "<style scoped>\n",
              "    .dataframe tbody tr th:only-of-type {\n",
              "        vertical-align: middle;\n",
              "    }\n",
              "\n",
              "    .dataframe tbody tr th {\n",
              "        vertical-align: top;\n",
              "    }\n",
              "\n",
              "    .dataframe thead th {\n",
              "        text-align: right;\n",
              "    }\n",
              "</style>\n",
              "<table border=\"1\" class=\"dataframe\">\n",
              "  <thead>\n",
              "    <tr style=\"text-align: right;\">\n",
              "      <th></th>\n",
              "      <th>y</th>\n",
              "      <th>y_hat</th>\n",
              "    </tr>\n",
              "    <tr>\n",
              "      <th>실제값/예측값</th>\n",
              "      <th></th>\n",
              "      <th></th>\n",
              "    </tr>\n",
              "  </thead>\n",
              "  <tbody>\n",
              "    <tr>\n",
              "      <th>00</th>\n",
              "      <td>172</td>\n",
              "      <td>172</td>\n",
              "    </tr>\n",
              "    <tr>\n",
              "      <th>01</th>\n",
              "      <td>290</td>\n",
              "      <td>290</td>\n",
              "    </tr>\n",
              "    <tr>\n",
              "      <th>10</th>\n",
              "      <td>135</td>\n",
              "      <td>135</td>\n",
              "    </tr>\n",
              "    <tr>\n",
              "      <th>11</th>\n",
              "      <td>1353</td>\n",
              "      <td>1353</td>\n",
              "    </tr>\n",
              "  </tbody>\n",
              "</table>\n",
              "</div>"
            ],
            "text/plain": [
              "            y  y_hat\n",
              "실제값/예측값             \n",
              "00        172    172\n",
              "01        290    290\n",
              "10        135    135\n",
              "11       1353   1353"
            ]
          },
          "metadata": {},
          "execution_count": 86
        }
      ]
    },
    {
      "cell_type": "code",
      "metadata": {
        "colab": {
          "base_uri": "https://localhost:8080/"
        },
        "id": "_UVC8bkeRr0a",
        "outputId": "9341581b-664b-410a-e34f-70c9e6d7792d"
      },
      "source": [
        "## 재현율을 높여봅니다.\n",
        "# predict_proba 분류결정 예측 확률을 반환\n",
        "\n",
        "pred_proba = lr.predict_proba(test_scaled)\n",
        "pred  = lr.predict(test_scaled)\n",
        "print('pred_proba()결과 Shape : {0}'.format(pred_proba.shape))\n",
        "print('pred_proba array에서 앞 3개만 샘플로 추출 \\n:', pred_proba[:3])\n",
        "\n",
        "# 예측 확률 array 와 예측 결과값 array 를 concatenate 하여 예측 확률과 결과값을 한눈에 확인\n",
        "pred_proba_result = np.concatenate([pred_proba , pred.reshape(-1,1)],axis=1)\n",
        "print('두개의 class 중에서 더 큰 확률을 클래스 값으로 예측 \\n',pred_proba_result[:3])\n"
      ],
      "execution_count": 89,
      "outputs": [
        {
          "output_type": "stream",
          "name": "stdout",
          "text": [
            "pred_proba()결과 Shape : (1950, 2)\n",
            "pred_proba array에서 앞 3개만 샘플로 추출 \n",
            ": [[0.01762421 0.98237579]\n",
            " [0.00823836 0.99176164]\n",
            " [0.00322809 0.99677191]]\n",
            "두개의 class 중에서 더 큰 확률을 클래스 값으로 예측 \n",
            " [[0.01762421 0.98237579 1.        ]\n",
            " [0.00823836 0.99176164 1.        ]\n",
            " [0.00322809 0.99677191 1.        ]]\n"
          ]
        }
      ]
    },
    {
      "cell_type": "code",
      "metadata": {
        "id": "em2D6QJpV6dh"
      },
      "source": [
        "### 코드\n",
        "def get_clf_eval(y_test , pred):\n",
        "    confusion = confusion_matrix(y_test, pred)\n",
        "    precision = precision_score(y_test , pred)\n",
        "    recall = recall_score(y_test , pred)\n",
        "    print('오차 행렬')\n",
        "    print(confusion)\n",
        "    print(' 정밀도: {0:.4f}, 재현율: {1:.4f}'.format(precision ,recall))\n",
        "    \n",
        "    # 리포트 출력\n",
        "    #cm=confusion_matrix(test_y, lr.predict(test_scaled))\n"
      ],
      "execution_count": 90,
      "outputs": []
    },
    {
      "cell_type": "code",
      "metadata": {
        "colab": {
          "base_uri": "https://localhost:8080/"
        },
        "id": "C3PjqrSZZ8dZ",
        "outputId": "86a01e3e-d863-4a8e-eb02-b0e6f4688e12"
      },
      "source": [
        "from sklearn.preprocessing import Binarizer\n",
        "\n",
        "#Binarizer의 threshold 설정값. 분류 결정 임곗값임.  \n",
        "custom_threshold_list = [0.3,0.5,0.8]\n",
        "\n",
        "for custom_threshold in custom_threshold_list:\n",
        "    print('------ custom_threshold_list----- %2.1f' % custom_threshold)\n",
        "    # predict_proba( ) 반환값의 두번째 컬럼 , 즉 Positive 클래스 컬럼 하나만 추출하여 Binarizer를 적용\n",
        "    pred_proba = lr.predict_proba(test_scaled)\n",
        "    pred  = lr.predict(test_scaled)\n",
        "\n",
        "    pred_proba_1 = pred_proba[:,1].reshape(-1,1)\n",
        "\n",
        "    binarizer = Binarizer(threshold=custom_threshold).fit(pred_proba_1) \n",
        "    custom_predict = binarizer.transform(pred_proba_1)\n",
        "    custom_predict    \n",
        "    #get_clf_eval(test_y, )\n",
        "\n",
        "    \n",
        "    get_clf_eval(test_y,custom_predict)\n",
        "    \n",
        "    #from sklearn.metrics import confusion_matrix\n"
      ],
      "execution_count": 91,
      "outputs": [
        {
          "output_type": "stream",
          "name": "stdout",
          "text": [
            "------ custom_threshold_list----- 0.3\n",
            "오차 행렬\n",
            "[[  38  424]\n",
            " [  40 1448]]\n",
            " 정밀도: 0.7735, 재현율: 0.9731\n",
            "------ custom_threshold_list----- 0.5\n",
            "오차 행렬\n",
            "[[ 172  290]\n",
            " [ 135 1353]]\n",
            " 정밀도: 0.8235, 재현율: 0.9093\n",
            "------ custom_threshold_list----- 0.8\n",
            "오차 행렬\n",
            "[[412  50]\n",
            " [560 928]]\n",
            " 정밀도: 0.9489, 재현율: 0.6237\n"
          ]
        }
      ]
    },
    {
      "cell_type": "code",
      "metadata": {
        "id": "CjVSGU4yZ_eg"
      },
      "source": [
        "# 릿지 라쏘\n",
        "from sklearn.linear_model import Ridge,Lasso\n",
        "from sklearn.model_selection import GridSearchCV"
      ],
      "execution_count": 92,
      "outputs": []
    },
    {
      "cell_type": "code",
      "metadata": {
        "colab": {
          "base_uri": "https://localhost:8080/"
        },
        "id": "zL1-MA1fdmp_",
        "outputId": "6250a96a-c517-47f4-bb98-802d2a228380"
      },
      "source": [
        "ridge = Ridge(alpha=0.3)\n",
        "ridge.fit(train_scaled,train_y)\n",
        "print(ridge.score(train_scaled,train_y))\n",
        "print(ridge.score(test_scaled,test_y))"
      ],
      "execution_count": 116,
      "outputs": [
        {
          "output_type": "stream",
          "name": "stdout",
          "text": [
            "0.22657755551546033\n",
            "0.17720490788751242\n"
          ]
        }
      ]
    },
    {
      "cell_type": "code",
      "metadata": {
        "colab": {
          "base_uri": "https://localhost:8080/"
        },
        "id": "whuJxi9ld5A0",
        "outputId": "835a92b6-2812-4d20-e07f-3c816913f4ce"
      },
      "source": [
        "ridge.score(train_scaled,train_y), ridge.score(test_sc)"
      ],
      "execution_count": 97,
      "outputs": [
        {
          "output_type": "execute_result",
          "data": {
            "text/plain": [
              "(0.2264459799884292, 0.17850381431753004)"
            ]
          },
          "metadata": {},
          "execution_count": 97
        }
      ]
    },
    {
      "cell_type": "code",
      "metadata": {
        "colab": {
          "base_uri": "https://localhost:8080/"
        },
        "id": "A8QWa6OYeCKV",
        "outputId": "a7727c85-cf5e-48e1-fe85-fdf7a48f9f3f"
      },
      "source": [
        "from sklearn.linear_model import LinearRegression\n",
        "lr_model=LinearRegression().fit(train_scaled, train_y)\n",
        "lr_model.score(train_scaled,train_y)"
      ],
      "execution_count": 109,
      "outputs": [
        {
          "output_type": "execute_result",
          "data": {
            "text/plain": [
              "0.22657755676931224"
            ]
          },
          "metadata": {},
          "execution_count": 109
        }
      ]
    },
    {
      "cell_type": "code",
      "metadata": {
        "colab": {
          "base_uri": "https://localhost:8080/"
        },
        "id": "0Ow8PCABhx9z",
        "outputId": "d82fef9e-cf41-467b-a66b-99f4580ce1bf"
      },
      "source": [
        "new_X=np.array([[15,30,1.08]])\n",
        "newX_scaled = scaler.transform(new_X)\n",
        "y_hat = ridge.predict(newX_scaled)\n",
        "# 이 자료의 class 가 1 이면 화이트와인 /0이면 레드와인\n",
        "classLabel=['red wine','white wine']\n",
        "y_hat"
      ],
      "execution_count": 111,
      "outputs": [
        {
          "output_type": "execute_result",
          "data": {
            "text/plain": [
              "array([3.36541422])"
            ]
          },
          "metadata": {},
          "execution_count": 111
        }
      ]
    },
    {
      "cell_type": "code",
      "metadata": {
        "colab": {
          "base_uri": "https://localhost:8080/"
        },
        "id": "ZWJJFz1AiVJR",
        "outputId": "9a5d1835-5f46-4b5a-c50b-73911bb7690c"
      },
      "source": [
        "lasso = Lasso(alpha=0.3)\n",
        "lasso.fit(train_scaled,train_y)\n",
        "print(lasso.score(train_scaled,train_y))\n",
        "print(lasso.score(test_scaled,test_y))"
      ],
      "execution_count": 115,
      "outputs": [
        {
          "output_type": "stream",
          "name": "stdout",
          "text": [
            "0.0\n",
            "-0.0009538492436778068\n"
          ]
        }
      ]
    },
    {
      "cell_type": "code",
      "metadata": {
        "id": "TFKmYqL-jnaI"
      },
      "source": [
        ""
      ],
      "execution_count": null,
      "outputs": []
    }
  ]
}