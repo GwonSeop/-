{
  "nbformat": 4,
  "nbformat_minor": 0,
  "metadata": {
    "colab": {
      "name": "실습.ipynb",
      "provenance": []
    },
    "kernelspec": {
      "name": "python3",
      "display_name": "Python 3"
    },
    "language_info": {
      "name": "python"
    }
  },
  "cells": [
    {
      "cell_type": "code",
      "metadata": {
        "id": "mzboLKWhM5nB"
      },
      "source": [
        "########################################\n",
        "###  코드작성 [메모리 변수 모두 제거\n",
        "#######################################\n",
        "all = [var for var in globals() if var[0] != \"_\"]\n",
        "for var in all:\n",
        "    del globals()[var]"
      ],
      "execution_count": 1,
      "outputs": []
    },
    {
      "cell_type": "code",
      "metadata": {
        "id": "0YcInAA5QrqZ"
      },
      "source": [
        "# 필요 라이브러리 로드\n",
        "from matplotlib import font_manager, rc\n",
        "import matplotlib\n",
        "import matplotlib.pyplot as plt\n",
        "import seaborn as sns\n",
        "import pandas as pd\n",
        "import numpy as np\n",
        "import platform"
      ],
      "execution_count": 2,
      "outputs": []
    },
    {
      "cell_type": "markdown",
      "metadata": {
        "id": "q2hO_H6dNTZV"
      },
      "source": [
        "##[미션] wine의 데이터셋이해\n",
        "- 레드와인(껍질 O)과 화이트 와인(껍질 x)의 alcohol, sugar, PHP의 관계 조사\n",
        "- 이 자료의 class가 1이면 화이트 화인/0이면 레드와인임\n",
        " - alcohol: 도수\n",
        " - sugar: 당류\n",
        " - PH: 수소 이온 농도(pH)는 물질의 산성과 알칼리성 정도를 나타내는 수치이다."
      ]
    },
    {
      "cell_type": "code",
      "metadata": {
        "id": "9u1ddXwRNS-Y"
      },
      "source": [
        "########################################\n",
        "###  wine1=wine1.csv  \n",
        "###  wine2=wine2.csv\n",
        "#######################################\n",
        "wine1 = pd.read_csv('wine1.csv',sep = '\\t')\n",
        "wine2 = pd.read_csv('wine2.csv',sep = '\\t')"
      ],
      "execution_count": 10,
      "outputs": []
    },
    {
      "cell_type": "code",
      "metadata": {
        "colab": {
          "base_uri": "https://localhost:8080/",
          "height": 414
        },
        "id": "Kn4bT0OYRK1A",
        "outputId": "3ea5c195-3bf2-4e21-dbc0-5210d730d4e7"
      },
      "source": [
        "## 다른 방법\n",
        "from glob import glob\n",
        "pd.read_csv(glob('w*')[1],sep='\\t')"
      ],
      "execution_count": 8,
      "outputs": [
        {
          "output_type": "execute_result",
          "data": {
            "text/html": [
              "<div>\n",
              "<style scoped>\n",
              "    .dataframe tbody tr th:only-of-type {\n",
              "        vertical-align: middle;\n",
              "    }\n",
              "\n",
              "    .dataframe tbody tr th {\n",
              "        vertical-align: top;\n",
              "    }\n",
              "\n",
              "    .dataframe thead th {\n",
              "        text-align: right;\n",
              "    }\n",
              "</style>\n",
              "<table border=\"1\" class=\"dataframe\">\n",
              "  <thead>\n",
              "    <tr style=\"text-align: right;\">\n",
              "      <th></th>\n",
              "      <th>index</th>\n",
              "      <th>alcohol</th>\n",
              "      <th>class</th>\n",
              "    </tr>\n",
              "  </thead>\n",
              "  <tbody>\n",
              "    <tr>\n",
              "      <th>0</th>\n",
              "      <td>7001</td>\n",
              "      <td>9.90</td>\n",
              "      <td>999.0</td>\n",
              "    </tr>\n",
              "    <tr>\n",
              "      <th>1</th>\n",
              "      <td>1</td>\n",
              "      <td>9.40</td>\n",
              "      <td>0.0</td>\n",
              "    </tr>\n",
              "    <tr>\n",
              "      <th>2</th>\n",
              "      <td>2</td>\n",
              "      <td>9.80</td>\n",
              "      <td>0.0</td>\n",
              "    </tr>\n",
              "    <tr>\n",
              "      <th>3</th>\n",
              "      <td>3</td>\n",
              "      <td>9.99</td>\n",
              "      <td>999.0</td>\n",
              "    </tr>\n",
              "    <tr>\n",
              "      <th>4</th>\n",
              "      <td>6498</td>\n",
              "      <td>9.80</td>\n",
              "      <td>0.0</td>\n",
              "    </tr>\n",
              "    <tr>\n",
              "      <th>...</th>\n",
              "      <td>...</td>\n",
              "      <td>...</td>\n",
              "      <td>...</td>\n",
              "    </tr>\n",
              "    <tr>\n",
              "      <th>6495</th>\n",
              "      <td>6493</td>\n",
              "      <td>11.20</td>\n",
              "      <td>1.0</td>\n",
              "    </tr>\n",
              "    <tr>\n",
              "      <th>6496</th>\n",
              "      <td>6494</td>\n",
              "      <td>9.60</td>\n",
              "      <td>1.0</td>\n",
              "    </tr>\n",
              "    <tr>\n",
              "      <th>6497</th>\n",
              "      <td>6495</td>\n",
              "      <td>9.40</td>\n",
              "      <td>1.0</td>\n",
              "    </tr>\n",
              "    <tr>\n",
              "      <th>6498</th>\n",
              "      <td>6496</td>\n",
              "      <td>12.80</td>\n",
              "      <td>1.0</td>\n",
              "    </tr>\n",
              "    <tr>\n",
              "      <th>6499</th>\n",
              "      <td>6497</td>\n",
              "      <td>11.80</td>\n",
              "      <td>1.0</td>\n",
              "    </tr>\n",
              "  </tbody>\n",
              "</table>\n",
              "<p>6500 rows × 3 columns</p>\n",
              "</div>"
            ],
            "text/plain": [
              "      index  alcohol  class\n",
              "0      7001     9.90  999.0\n",
              "1         1     9.40    0.0\n",
              "2         2     9.80    0.0\n",
              "3         3     9.99  999.0\n",
              "4      6498     9.80    0.0\n",
              "...     ...      ...    ...\n",
              "6495   6493    11.20    1.0\n",
              "6496   6494     9.60    1.0\n",
              "6497   6495     9.40    1.0\n",
              "6498   6496    12.80    1.0\n",
              "6499   6497    11.80    1.0\n",
              "\n",
              "[6500 rows x 3 columns]"
            ]
          },
          "metadata": {},
          "execution_count": 8
        }
      ]
    },
    {
      "cell_type": "code",
      "metadata": {
        "id": "JRQiXFcTQ2bj"
      },
      "source": [
        "########################################\n",
        "### [두자료의 교집합 자료만 보기] 데이콘 경진대회 교재 P16 참조\n",
        "###  wine1과 wine2의 index 필드값이 같은 자료만 가져오기\n",
        "### 최종 wine 변수에 할당\n",
        "wine = pd.merge(wine1,wine2, left_on='index', right_on='index')\n",
        "\n",
        "# index별로 정렬\n",
        "wine = wine.sort_values(by = 'index').reset_index(drop=True)\n",
        "### wine자료와 wine2 자료를  연결하여서\n",
        "### wine의 index번호에 해당하는\n",
        "### wine2자료의 sugar_PH값 가져와  df 데이터셋 제작 -----까지 해결"
      ],
      "execution_count": 16,
      "outputs": []
    },
    {
      "cell_type": "code",
      "metadata": {
        "id": "Z3DV1NtQS5Cp"
      },
      "source": [
        "## 강사님 코드 ##\n",
        "# 새로운 인덱스의 교집합\n",
        "\n",
        "intersection_idx = list(set(wine1['index']).intersection(wine2['index']))\n",
        "\n",
        "\n",
        "# 교집합에 존재하는 데이터만 불러오기\n",
        "wine = wine1.loc[\n",
        "    wine1['index'].apply(lambda x: x in intersection_idx)].copy()\n",
        "\n",
        "wine = wine.sort_values(by = 'index').reset_index(drop=True) \n",
        "wine['class'].min(), wine['class'].max()\n",
        "\n",
        "print(wine.info())\n",
        "print(wine.head(20))\n"
      ],
      "execution_count": null,
      "outputs": []
    },
    {
      "cell_type": "code",
      "metadata": {
        "colab": {
          "base_uri": "https://localhost:8080/"
        },
        "id": "QRMX6zVDSLyZ",
        "outputId": "b98e8df1-8613-48dc-9b60-2d1734ae3076"
      },
      "source": [
        "### wine['class']의 최대값1, 최소값 0 확인 (max, min 함수로 출력)\n",
        "wine['class'].max(),wine['class'].min()"
      ],
      "execution_count": 17,
      "outputs": [
        {
          "output_type": "execute_result",
          "data": {
            "text/plain": [
              "(1.0, 0.0)"
            ]
          },
          "metadata": {},
          "execution_count": 17
        }
      ]
    },
    {
      "cell_type": "code",
      "metadata": {
        "id": "TyAY5-aUat-m"
      },
      "source": [
        "### df 데이터셋의 sugar_PH의  값 분리하여\n",
        "### df['sugar']   df['PH'] 변수로 작성\n",
        "df = wine\n",
        "df['sugar'] = df['sugar_PH'].str.split('/').str[0]\n",
        "df['PH'] = df['sugar_PH'].str.split('/').str[1]"
      ],
      "execution_count": 18,
      "outputs": []
    },
    {
      "cell_type": "code",
      "metadata": {
        "id": "iZA0djdwTdJa"
      },
      "source": [
        "## 강사님 ##\n",
        "# ★★★★★★★ [미션] ★★★★★★★\n",
        "########################################\n",
        "### wine자료와 wine2 자료를  연결하여서\n",
        "### wine의 index번호에 해당하는\n",
        "### wine2자료의 sugar_PH값 가져와  df 데이터셋 제작\n",
        "### df 데이터셋의 sugar_PH의  값 분리하여\n",
        "### df['sugar']   df['PH'] 변수로 작성\n",
        "#######################################\n",
        "\n",
        "\n",
        "## merge 로 두데이터 조인\n",
        "df=pd.merge(wine, wine2)\n",
        "\n",
        "##### 방법 3\n",
        "# 파이썬 컴프리헨션(압축기법)\n",
        "df['sugar']=[x.split('/')[0] if pd.notnull(x) else x for x in tmp['sugar_PH']]\n",
        "\n",
        "df['sugar'] = df['sugar_PH'].apply(\n",
        "    lambda x: x.split('/')[0] if pd.notnull(x) else x)\n",
        "\n",
        "df['PH'] = df['sugar_PH'].apply(\n",
        "    lambda x: x.split('/')[1] if pd.notnull(x) else x)\n",
        "\n",
        "dfTmp=pd.merge(wine1,wine2)\n",
        "dataList=[]; mainList=[]\n",
        "\n",
        "for i in dfTmp['sugar_PH']:\n",
        "  List=[]\n",
        "  for j in i.split('/'):\n",
        "    List.append(j)\n",
        "  mainList.append(List)\n",
        "print(mainList[:10])\n"
      ],
      "execution_count": null,
      "outputs": []
    },
    {
      "cell_type": "code",
      "metadata": {
        "colab": {
          "base_uri": "https://localhost:8080/",
          "height": 414
        },
        "id": "221tPbC8UExy",
        "outputId": "2b2e0b4d-14e9-4c7f-f05b-0e912578bdf0"
      },
      "source": [
        "df"
      ],
      "execution_count": 15,
      "outputs": [
        {
          "output_type": "execute_result",
          "data": {
            "text/html": [
              "<div>\n",
              "<style scoped>\n",
              "    .dataframe tbody tr th:only-of-type {\n",
              "        vertical-align: middle;\n",
              "    }\n",
              "\n",
              "    .dataframe tbody tr th {\n",
              "        vertical-align: top;\n",
              "    }\n",
              "\n",
              "    .dataframe thead th {\n",
              "        text-align: right;\n",
              "    }\n",
              "</style>\n",
              "<table border=\"1\" class=\"dataframe\">\n",
              "  <thead>\n",
              "    <tr style=\"text-align: right;\">\n",
              "      <th></th>\n",
              "      <th>index</th>\n",
              "      <th>alcohol</th>\n",
              "      <th>class</th>\n",
              "      <th>sugar_PH</th>\n",
              "      <th>sugar</th>\n",
              "      <th>PH</th>\n",
              "    </tr>\n",
              "  </thead>\n",
              "  <tbody>\n",
              "    <tr>\n",
              "      <th>0</th>\n",
              "      <td>1</td>\n",
              "      <td>9.4</td>\n",
              "      <td>0.0</td>\n",
              "      <td>1.9/3.51</td>\n",
              "      <td>1.9</td>\n",
              "      <td>3.51</td>\n",
              "    </tr>\n",
              "    <tr>\n",
              "      <th>1</th>\n",
              "      <td>2</td>\n",
              "      <td>9.8</td>\n",
              "      <td>0.0</td>\n",
              "      <td>2.6/3.2</td>\n",
              "      <td>2.6</td>\n",
              "      <td>3.2</td>\n",
              "    </tr>\n",
              "    <tr>\n",
              "      <th>2</th>\n",
              "      <td>6498</td>\n",
              "      <td>9.8</td>\n",
              "      <td>0.0</td>\n",
              "      <td>2.3/3.26</td>\n",
              "      <td>2.3</td>\n",
              "      <td>3.26</td>\n",
              "    </tr>\n",
              "    <tr>\n",
              "      <th>3</th>\n",
              "      <td>4</td>\n",
              "      <td>9.8</td>\n",
              "      <td>0.0</td>\n",
              "      <td>1.9/3.16</td>\n",
              "      <td>1.9</td>\n",
              "      <td>3.16</td>\n",
              "    </tr>\n",
              "    <tr>\n",
              "      <th>4</th>\n",
              "      <td>5</td>\n",
              "      <td>9.4</td>\n",
              "      <td>0.0</td>\n",
              "      <td>1.9/3.51</td>\n",
              "      <td>1.9</td>\n",
              "      <td>3.51</td>\n",
              "    </tr>\n",
              "    <tr>\n",
              "      <th>...</th>\n",
              "      <td>...</td>\n",
              "      <td>...</td>\n",
              "      <td>...</td>\n",
              "      <td>...</td>\n",
              "      <td>...</td>\n",
              "      <td>...</td>\n",
              "    </tr>\n",
              "    <tr>\n",
              "      <th>6492</th>\n",
              "      <td>6493</td>\n",
              "      <td>11.2</td>\n",
              "      <td>1.0</td>\n",
              "      <td>1.6/3.27</td>\n",
              "      <td>1.6</td>\n",
              "      <td>3.27</td>\n",
              "    </tr>\n",
              "    <tr>\n",
              "      <th>6493</th>\n",
              "      <td>6494</td>\n",
              "      <td>9.6</td>\n",
              "      <td>1.0</td>\n",
              "      <td>8/3.15</td>\n",
              "      <td>8</td>\n",
              "      <td>3.15</td>\n",
              "    </tr>\n",
              "    <tr>\n",
              "      <th>6494</th>\n",
              "      <td>6495</td>\n",
              "      <td>9.4</td>\n",
              "      <td>1.0</td>\n",
              "      <td>1.2/2.99</td>\n",
              "      <td>1.2</td>\n",
              "      <td>2.99</td>\n",
              "    </tr>\n",
              "    <tr>\n",
              "      <th>6495</th>\n",
              "      <td>6496</td>\n",
              "      <td>12.8</td>\n",
              "      <td>1.0</td>\n",
              "      <td>1.1/3.34</td>\n",
              "      <td>1.1</td>\n",
              "      <td>3.34</td>\n",
              "    </tr>\n",
              "    <tr>\n",
              "      <th>6496</th>\n",
              "      <td>6497</td>\n",
              "      <td>11.8</td>\n",
              "      <td>1.0</td>\n",
              "      <td>0.8/3.26</td>\n",
              "      <td>0.8</td>\n",
              "      <td>3.26</td>\n",
              "    </tr>\n",
              "  </tbody>\n",
              "</table>\n",
              "<p>6497 rows × 6 columns</p>\n",
              "</div>"
            ],
            "text/plain": [
              "      index  alcohol  class  sugar_PH sugar    PH\n",
              "0         1      9.4    0.0  1.9/3.51   1.9  3.51\n",
              "1         2      9.8    0.0   2.6/3.2   2.6   3.2\n",
              "2      6498      9.8    0.0  2.3/3.26   2.3  3.26\n",
              "3         4      9.8    0.0  1.9/3.16   1.9  3.16\n",
              "4         5      9.4    0.0  1.9/3.51   1.9  3.51\n",
              "...     ...      ...    ...       ...   ...   ...\n",
              "6492   6493     11.2    1.0  1.6/3.27   1.6  3.27\n",
              "6493   6494      9.6    1.0    8/3.15     8  3.15\n",
              "6494   6495      9.4    1.0  1.2/2.99   1.2  2.99\n",
              "6495   6496     12.8    1.0  1.1/3.34   1.1  3.34\n",
              "6496   6497     11.8    1.0  0.8/3.26   0.8  3.26\n",
              "\n",
              "[6497 rows x 6 columns]"
            ]
          },
          "metadata": {},
          "execution_count": 15
        }
      ]
    },
    {
      "cell_type": "code",
      "metadata": {
        "colab": {
          "base_uri": "https://localhost:8080/"
        },
        "id": "WJawvePAbZ6S",
        "outputId": "d3437fec-830a-469d-ab47-28fe6bda15d3"
      },
      "source": [
        "########################################\n",
        "### df의 각 필드 타입 확인 및 데이터 갯수 확인\n",
        "########################################\n",
        "df.isna().sum()\n"
      ],
      "execution_count": 22,
      "outputs": [
        {
          "output_type": "execute_result",
          "data": {
            "text/plain": [
              "index       0\n",
              "alcohol     0\n",
              "class       4\n",
              "sugar_PH    0\n",
              "sugar       0\n",
              "PH          0\n",
              "dtype: int64"
            ]
          },
          "metadata": {},
          "execution_count": 22
        }
      ]
    },
    {
      "cell_type": "code",
      "metadata": {
        "id": "3KpICGSJdFO0"
      },
      "source": [
        "df = df.drop(['sugar_PH'],axis=1)"
      ],
      "execution_count": 26,
      "outputs": []
    },
    {
      "cell_type": "code",
      "metadata": {
        "colab": {
          "base_uri": "https://localhost:8080/"
        },
        "id": "JXnTOUxwb05x",
        "outputId": "7b9ef5b8-c007-4c69-cc82-48ea1ad61e85"
      },
      "source": [
        "########################################\n",
        "### sugar, PH의 필드형식 float64로 변환\n",
        "#######################################\n",
        "df = df.astype({'sugar': 'float64'})\n",
        "df = df.astype({'PH': 'float64'})\n",
        "df.info()"
      ],
      "execution_count": 73,
      "outputs": [
        {
          "output_type": "stream",
          "name": "stdout",
          "text": [
            "<class 'pandas.core.frame.DataFrame'>\n",
            "RangeIndex: 6497 entries, 0 to 6496\n",
            "Data columns (total 6 columns):\n",
            " #   Column    Non-Null Count  Dtype  \n",
            "---  ------    --------------  -----  \n",
            " 0   index     6497 non-null   int64  \n",
            " 1   alcohol   6497 non-null   float64\n",
            " 2   class     6493 non-null   float64\n",
            " 3   sugar_PH  6497 non-null   object \n",
            " 4   sugar     6497 non-null   float64\n",
            " 5   PH        6497 non-null   float64\n",
            "dtypes: float64(4), int64(1), object(1)\n",
            "memory usage: 304.7+ KB\n"
          ]
        }
      ]
    },
    {
      "cell_type": "code",
      "metadata": {
        "id": "7MM2hOymZ2kC"
      },
      "source": [
        "## 다른 방법\n",
        "for x in df.columns:\n",
        "  if df[x].dtype == 'object':\n",
        "    df[x]= df[x].astype('float64')"
      ],
      "execution_count": null,
      "outputs": []
    },
    {
      "cell_type": "code",
      "metadata": {
        "colab": {
          "base_uri": "https://localhost:8080/"
        },
        "id": "bzk919qUhXV7",
        "outputId": "d9e1fbde-26a4-4049-f8e9-3fc3e73d6d9a"
      },
      "source": [
        "## 다른방법\n",
        "[df[x].astype('float64') if df[x].dtype == 'object' else x for x in df.columns]\n",
        "## else를 쓰지않으려면\n",
        "[df[x].astype('float64') for x in df.columns if df[x].dtype == 'object']"
      ],
      "execution_count": 27,
      "outputs": [
        {
          "output_type": "execute_result",
          "data": {
            "text/plain": [
              "['index', 'alcohol', 'class', 0       1.9\n",
              " 1       2.6\n",
              " 2       1.9\n",
              " 3       1.9\n",
              " 4       1.8\n",
              "        ... \n",
              " 6492    1.2\n",
              " 6493    1.1\n",
              " 6494    0.8\n",
              " 6495    2.3\n",
              " 6496    6.1\n",
              " Name: sugar, Length: 6497, dtype: float64, 0       3.51\n",
              " 1       3.20\n",
              " 2       3.16\n",
              " 3       3.51\n",
              " 4       3.51\n",
              "         ... \n",
              " 6492    2.99\n",
              " 6493    3.34\n",
              " 6494    3.26\n",
              " 6495    3.26\n",
              " 6496    3.35\n",
              " Name: PH, Length: 6497, dtype: float64]"
            ]
          },
          "metadata": {},
          "execution_count": 27
        }
      ]
    },
    {
      "cell_type": "code",
      "metadata": {
        "id": "lCTQJlSyb8Hz"
      },
      "source": [
        "########################################\n",
        "### [두자료의 교집합 자료만 보기] 데이콘 경진대회 교재 P37 참조\n",
        "### 숫자값 필드 결측치 0으로 치환\n",
        "#######################################\n",
        "df = df.fillna(0)\n",
        "numerics = ['int16', 'int32', 'int64', 'float16', 'float32', 'float64']\n",
        "\n",
        "#  결측치를 0으로 채우기\n",
        "df[df.select_dtypes(include=numerics).columns] =df[df.select_dtypes(include=numerics).columns].fillna(0)\n",
        "df.info()\n",
        "\n",
        "# for문 이용\n",
        "for x in df.columns:\n",
        "  if df[x].dtype in ['int16', 'int32', 'int64', 'float16', 'float32', 'float64']:\n",
        "    df[x].fillna(0)\n",
        "#\n",
        "[df[x].fillna(0) if df[x].dtype in ['int16', 'int32', 'int64', 'float16', 'float32', 'float64'] for x in df.columns]\n",
        " "
      ],
      "execution_count": 77,
      "outputs": []
    },
    {
      "cell_type": "code",
      "metadata": {
        "colab": {
          "base_uri": "https://localhost:8080/"
        },
        "id": "-Ep3bFPehZNp",
        "outputId": "df70a21b-708b-4e94-bb87-65d71d03041a"
      },
      "source": [
        "[df[x].fillna(0) for x in df.columns if df[x].dtype in ['int16', 'int32', 'int64', 'float16', 'float32', 'float64']]"
      ],
      "execution_count": 31,
      "outputs": [
        {
          "output_type": "execute_result",
          "data": {
            "text/plain": [
              "[0          1\n",
              " 1          2\n",
              " 2          4\n",
              " 3          5\n",
              " 4          6\n",
              "         ... \n",
              " 6492    6495\n",
              " 6493    6496\n",
              " 6494    6497\n",
              " 6495    6498\n",
              " 6496    6499\n",
              " Name: index, Length: 6497, dtype: int64, 0        9.4\n",
              " 1        9.8\n",
              " 2        9.8\n",
              " 3        9.4\n",
              " 4        9.4\n",
              "         ... \n",
              " 6492     9.4\n",
              " 6493    12.8\n",
              " 6494    11.8\n",
              " 6495     9.8\n",
              " 6496    10.5\n",
              " Name: alcohol, Length: 6497, dtype: float64, 0       0.0\n",
              " 1       0.0\n",
              " 2       0.0\n",
              " 3       0.0\n",
              " 4       0.0\n",
              "        ... \n",
              " 6492    1.0\n",
              " 6493    1.0\n",
              " 6494    1.0\n",
              " 6495    0.0\n",
              " 6496    0.0\n",
              " Name: class, Length: 6497, dtype: float64]"
            ]
          },
          "metadata": {},
          "execution_count": 31
        }
      ]
    },
    {
      "cell_type": "code",
      "metadata": {
        "id": "TO4_xDWPgx5l"
      },
      "source": [
        ""
      ],
      "execution_count": null,
      "outputs": []
    }
  ]
}