{
  "nbformat": 4,
  "nbformat_minor": 0,
  "metadata": {
    "accelerator": "GPU",
    "colab": {
      "name": "3. [답]실습문제_타이타닉인공신경망.ipynb",
      "provenance": [],
      "collapsed_sections": []
    },
    "kernelspec": {
      "display_name": "Python 3",
      "language": "python",
      "name": "python3"
    },
    "language_info": {
      "codemirror_mode": {
        "name": "ipython",
        "version": 3
      },
      "file_extension": ".py",
      "mimetype": "text/x-python",
      "name": "python",
      "nbconvert_exporter": "python",
      "pygments_lexer": "ipython3",
      "version": "3.8.8"
    }
  },
  "cells": [
    {
      "cell_type": "markdown",
      "metadata": {
        "id": "FR73btk2zeeT"
      },
      "source": [
        "# 텐서플로우를 이용한 분류분석"
      ]
    },
    {
      "cell_type": "code",
      "metadata": {
        "id": "bvtdvoiFzhqI"
      },
      "source": [
        "import tensorflow as tf    # 구글이 제공하는 인공지능 관련 함수가 제공되는 텐서2.0으로 세팅\n",
        "import pandas as pd    #행열로 구성되어 있는 데이터베이스 자료를 처리하는 모듈\n",
        "import matplotlib.pyplot as plt   # 차트제공하는 모듈"
      ],
      "execution_count": null,
      "outputs": []
    },
    {
      "cell_type": "code",
      "metadata": {
        "id": "TuoinyOtctTE"
      },
      "source": [
        "## 코렙 드라이브 마운트합니다.\n"
      ],
      "execution_count": null,
      "outputs": []
    },
    {
      "cell_type": "code",
      "metadata": {
        "colab": {
          "base_uri": "https://localhost:8080/"
        },
        "id": "qCDkN8Oec1d3",
        "outputId": "1fb4a359-fec3-49c0-cd08-80c78bceef16"
      },
      "source": [
        "from google.colab import drive\n",
        "drive.mount('/content/drive')"
      ],
      "execution_count": 1,
      "outputs": [
        {
          "output_type": "stream",
          "name": "stdout",
          "text": [
            "Mounted at /content/drive\n"
          ]
        }
      ]
    },
    {
      "cell_type": "code",
      "metadata": {
        "colab": {
          "base_uri": "https://localhost:8080/"
        },
        "id": "LFwdhgRUd69K",
        "outputId": "669a5077-92bc-457b-d2d0-795d5db64215"
      },
      "source": [
        "cd /content/drive/MyDrive/▶삼성멀티캠퍼스/딥러닝/2121-10-17(정형데이터분석)"
      ],
      "execution_count": 3,
      "outputs": [
        {
          "output_type": "stream",
          "name": "stdout",
          "text": [
            "/content/drive/MyDrive/▶삼성멀티캠퍼스/딥러닝/2121-10-17(정형데이터분석)\n"
          ]
        }
      ]
    },
    {
      "cell_type": "code",
      "metadata": {
        "colab": {
          "base_uri": "https://localhost:8080/",
          "height": 203
        },
        "id": "VW63n_PU0PL3",
        "outputId": "a29a87df-fd6b-49f1-9423-db23e0358c09"
      },
      "source": [
        "import pandas as pd\n",
        "df = pd.read_excel('titanic.xls')\n",
        "df.head()"
      ],
      "execution_count": 5,
      "outputs": [
        {
          "output_type": "execute_result",
          "data": {
            "text/html": [
              "<div>\n",
              "<style scoped>\n",
              "    .dataframe tbody tr th:only-of-type {\n",
              "        vertical-align: middle;\n",
              "    }\n",
              "\n",
              "    .dataframe tbody tr th {\n",
              "        vertical-align: top;\n",
              "    }\n",
              "\n",
              "    .dataframe thead th {\n",
              "        text-align: right;\n",
              "    }\n",
              "</style>\n",
              "<table border=\"1\" class=\"dataframe\">\n",
              "  <thead>\n",
              "    <tr style=\"text-align: right;\">\n",
              "      <th></th>\n",
              "      <th>pclass</th>\n",
              "      <th>survived</th>\n",
              "      <th>name</th>\n",
              "      <th>sex</th>\n",
              "      <th>age</th>\n",
              "      <th>sibsp</th>\n",
              "      <th>parch</th>\n",
              "      <th>ticket</th>\n",
              "      <th>fare</th>\n",
              "      <th>cabin</th>\n",
              "      <th>embarked</th>\n",
              "      <th>boat</th>\n",
              "      <th>body</th>\n",
              "      <th>home.dest</th>\n",
              "    </tr>\n",
              "  </thead>\n",
              "  <tbody>\n",
              "    <tr>\n",
              "      <th>0</th>\n",
              "      <td>1</td>\n",
              "      <td>1</td>\n",
              "      <td>Allen, Miss. Elisabeth Walton</td>\n",
              "      <td>female</td>\n",
              "      <td>29.0000</td>\n",
              "      <td>0</td>\n",
              "      <td>0</td>\n",
              "      <td>24160</td>\n",
              "      <td>211.3375</td>\n",
              "      <td>B5</td>\n",
              "      <td>S</td>\n",
              "      <td>2</td>\n",
              "      <td>NaN</td>\n",
              "      <td>St Louis, MO</td>\n",
              "    </tr>\n",
              "    <tr>\n",
              "      <th>1</th>\n",
              "      <td>1</td>\n",
              "      <td>1</td>\n",
              "      <td>Allison, Master. Hudson Trevor</td>\n",
              "      <td>male</td>\n",
              "      <td>0.9167</td>\n",
              "      <td>1</td>\n",
              "      <td>2</td>\n",
              "      <td>113781</td>\n",
              "      <td>151.5500</td>\n",
              "      <td>C22 C26</td>\n",
              "      <td>S</td>\n",
              "      <td>11</td>\n",
              "      <td>NaN</td>\n",
              "      <td>Montreal, PQ / Chesterville, ON</td>\n",
              "    </tr>\n",
              "    <tr>\n",
              "      <th>2</th>\n",
              "      <td>1</td>\n",
              "      <td>0</td>\n",
              "      <td>Allison, Miss. Helen Loraine</td>\n",
              "      <td>female</td>\n",
              "      <td>2.0000</td>\n",
              "      <td>1</td>\n",
              "      <td>2</td>\n",
              "      <td>113781</td>\n",
              "      <td>151.5500</td>\n",
              "      <td>C22 C26</td>\n",
              "      <td>S</td>\n",
              "      <td>NaN</td>\n",
              "      <td>NaN</td>\n",
              "      <td>Montreal, PQ / Chesterville, ON</td>\n",
              "    </tr>\n",
              "    <tr>\n",
              "      <th>3</th>\n",
              "      <td>1</td>\n",
              "      <td>0</td>\n",
              "      <td>Allison, Mr. Hudson Joshua Creighton</td>\n",
              "      <td>male</td>\n",
              "      <td>30.0000</td>\n",
              "      <td>1</td>\n",
              "      <td>2</td>\n",
              "      <td>113781</td>\n",
              "      <td>151.5500</td>\n",
              "      <td>C22 C26</td>\n",
              "      <td>S</td>\n",
              "      <td>NaN</td>\n",
              "      <td>135.0</td>\n",
              "      <td>Montreal, PQ / Chesterville, ON</td>\n",
              "    </tr>\n",
              "    <tr>\n",
              "      <th>4</th>\n",
              "      <td>1</td>\n",
              "      <td>0</td>\n",
              "      <td>Allison, Mrs. Hudson J C (Bessie Waldo Daniels)</td>\n",
              "      <td>female</td>\n",
              "      <td>25.0000</td>\n",
              "      <td>1</td>\n",
              "      <td>2</td>\n",
              "      <td>113781</td>\n",
              "      <td>151.5500</td>\n",
              "      <td>C22 C26</td>\n",
              "      <td>S</td>\n",
              "      <td>NaN</td>\n",
              "      <td>NaN</td>\n",
              "      <td>Montreal, PQ / Chesterville, ON</td>\n",
              "    </tr>\n",
              "  </tbody>\n",
              "</table>\n",
              "</div>"
            ],
            "text/plain": [
              "   pclass  survived  ...   body                        home.dest\n",
              "0       1         1  ...    NaN                     St Louis, MO\n",
              "1       1         1  ...    NaN  Montreal, PQ / Chesterville, ON\n",
              "2       1         0  ...    NaN  Montreal, PQ / Chesterville, ON\n",
              "3       1         0  ...  135.0  Montreal, PQ / Chesterville, ON\n",
              "4       1         0  ...    NaN  Montreal, PQ / Chesterville, ON\n",
              "\n",
              "[5 rows x 14 columns]"
            ]
          },
          "metadata": {},
          "execution_count": 5
        }
      ]
    },
    {
      "cell_type": "code",
      "metadata": {
        "colab": {
          "base_uri": "https://localhost:8080/"
        },
        "id": "cyGDueA73rRB",
        "outputId": "f4851280-dd75-4cc7-d6db-1dc5e20eef4d"
      },
      "source": [
        "df.info()"
      ],
      "execution_count": 6,
      "outputs": [
        {
          "output_type": "stream",
          "name": "stdout",
          "text": [
            "<class 'pandas.core.frame.DataFrame'>\n",
            "RangeIndex: 1309 entries, 0 to 1308\n",
            "Data columns (total 14 columns):\n",
            " #   Column     Non-Null Count  Dtype  \n",
            "---  ------     --------------  -----  \n",
            " 0   pclass     1309 non-null   int64  \n",
            " 1   survived   1309 non-null   int64  \n",
            " 2   name       1309 non-null   object \n",
            " 3   sex        1309 non-null   object \n",
            " 4   age        1046 non-null   float64\n",
            " 5   sibsp      1309 non-null   int64  \n",
            " 6   parch      1309 non-null   int64  \n",
            " 7   ticket     1309 non-null   object \n",
            " 8   fare       1308 non-null   float64\n",
            " 9   cabin      295 non-null    object \n",
            " 10  embarked   1307 non-null   object \n",
            " 11  boat       486 non-null    object \n",
            " 12  body       121 non-null    float64\n",
            " 13  home.dest  745 non-null    object \n",
            "dtypes: float64(3), int64(4), object(7)\n",
            "memory usage: 143.3+ KB\n"
          ]
        }
      ]
    },
    {
      "cell_type": "markdown",
      "metadata": {
        "id": "WcWlZKCr0z2f"
      },
      "source": [
        "## [문제] 사이킷런 Label Encoding을 이용하여 성별을 0, 1로 변경함\n",
        "![image.png](attachment:image.png)"
      ]
    },
    {
      "cell_type": "code",
      "metadata": {
        "id": "Sc_Agdcn0nOU"
      },
      "source": [
        "## 성별변경\n",
        "from sklearn.preprocessing import LabelEncoder\n",
        "labelen=LabelEncoder()\n",
        "df['sex']=labelen.fit_transform(df['sex'])    # f=0, m=1로 나옴\n",
        "\n",
        "#df['sex']=[0 if x=='female' else 1 for x in df['sex']]"
      ],
      "execution_count": 10,
      "outputs": []
    },
    {
      "cell_type": "markdown",
      "metadata": {
        "id": "bntlN2KectTI"
      },
      "source": [
        "## [문제] 데이터 type float64=> float32로 변경 \n",
        "## [문제]age,sibsp,parch,fare Null값 제거\n"
      ]
    },
    {
      "cell_type": "code",
      "metadata": {
        "id": "yYIlSD5cI9Wo",
        "colab": {
          "base_uri": "https://localhost:8080/"
        },
        "outputId": "0259653c-55a2-42b1-ece6-7e519a581f45"
      },
      "source": [
        "# 데이터 타입 변경\n",
        "df.info()"
      ],
      "execution_count": 11,
      "outputs": [
        {
          "output_type": "stream",
          "name": "stdout",
          "text": [
            "<class 'pandas.core.frame.DataFrame'>\n",
            "RangeIndex: 1309 entries, 0 to 1308\n",
            "Data columns (total 14 columns):\n",
            " #   Column     Non-Null Count  Dtype  \n",
            "---  ------     --------------  -----  \n",
            " 0   pclass     1309 non-null   int64  \n",
            " 1   survived   1309 non-null   int64  \n",
            " 2   name       1309 non-null   object \n",
            " 3   sex        1309 non-null   int64  \n",
            " 4   age        1046 non-null   float64\n",
            " 5   sibsp      1309 non-null   int64  \n",
            " 6   parch      1309 non-null   int64  \n",
            " 7   ticket     1309 non-null   object \n",
            " 8   fare       1308 non-null   float64\n",
            " 9   cabin      295 non-null    object \n",
            " 10  embarked   1307 non-null   object \n",
            " 11  boat       486 non-null    object \n",
            " 12  body       121 non-null    float64\n",
            " 13  home.dest  745 non-null    object \n",
            "dtypes: float64(3), int64(5), object(6)\n",
            "memory usage: 143.3+ KB\n"
          ]
        }
      ]
    },
    {
      "cell_type": "code",
      "metadata": {
        "id": "bt7zaIoxfo5T"
      },
      "source": [
        "# 2019년 이전의 케라스 코드가 이 타입때문에 에러 나는 케이스가 있음. \n",
        "\n",
        "list_=['pclass','survived','sex','sibsp','parch','fare','age']\n",
        "for x in list_:\n",
        "  df[x]=df[x].astype('float32')\n",
        "  df=df[df[x].notnull()]"
      ],
      "execution_count": 17,
      "outputs": []
    },
    {
      "cell_type": "code",
      "metadata": {
        "colab": {
          "base_uri": "https://localhost:8080/"
        },
        "id": "tTEPRSVbgTll",
        "outputId": "5bd0bc83-4b82-40eb-e5f3-c81047b8234b"
      },
      "source": [
        "df.info()"
      ],
      "execution_count": 18,
      "outputs": [
        {
          "output_type": "stream",
          "name": "stdout",
          "text": [
            "<class 'pandas.core.frame.DataFrame'>\n",
            "Int64Index: 1045 entries, 0 to 1308\n",
            "Data columns (total 14 columns):\n",
            " #   Column     Non-Null Count  Dtype  \n",
            "---  ------     --------------  -----  \n",
            " 0   pclass     1045 non-null   float32\n",
            " 1   survived   1045 non-null   float32\n",
            " 2   name       1045 non-null   object \n",
            " 3   sex        1045 non-null   float32\n",
            " 4   age        1045 non-null   float32\n",
            " 5   sibsp      1045 non-null   float32\n",
            " 6   parch      1045 non-null   float32\n",
            " 7   ticket     1045 non-null   object \n",
            " 8   fare       1045 non-null   float32\n",
            " 9   cabin      272 non-null    object \n",
            " 10  embarked   1043 non-null   object \n",
            " 11  boat       417 non-null    object \n",
            " 12  body       119 non-null    float64\n",
            " 13  home.dest  685 non-null    object \n",
            "dtypes: float32(7), float64(1), object(6)\n",
            "memory usage: 93.9+ KB\n"
          ]
        }
      ]
    },
    {
      "cell_type": "code",
      "metadata": {
        "id": "DH5LKroOlyqS"
      },
      "source": [
        ""
      ],
      "execution_count": null,
      "outputs": []
    },
    {
      "cell_type": "markdown",
      "metadata": {
        "id": "bFRpandHctTK"
      },
      "source": [
        "## x,y 데이터 분할"
      ]
    },
    {
      "cell_type": "code",
      "metadata": {
        "colab": {
          "base_uri": "https://localhost:8080/"
        },
        "id": "eygpGUqg03r7",
        "outputId": "a205fba7-172a-4f47-8393-da7e7a0d1498"
      },
      "source": [
        "y = df['survived'].values  \n",
        "x = df.values[:, [0,3,4,5,6,8]]  \n",
        "\n",
        "#x = mushrooms.drop(['class'], axis=1) #axis는 열 드롭, 생략시 행 드롭\n",
        "#x = mushrooms.drop(['class'], axis=1).values로  numpy형식으로 보내도됨\n",
        "print(y[:5])   #class를 y값으로\n",
        "print(x[:5])   #class를 뺀 나머지를 x값으로 잡음. \n"
      ],
      "execution_count": 19,
      "outputs": [
        {
          "output_type": "stream",
          "name": "stdout",
          "text": [
            "[1. 1. 0. 0. 0.]\n",
            "[[1.0 0.0 29.0 0.0 0.0 211.33749389648438]\n",
            " [1.0 1.0 0.916700005531311 1.0 2.0 151.5500030517578]\n",
            " [1.0 0.0 2.0 1.0 2.0 151.5500030517578]\n",
            " [1.0 1.0 30.0 1.0 2.0 151.5500030517578]\n",
            " [1.0 0.0 25.0 1.0 2.0 151.5500030517578]]\n"
          ]
        }
      ]
    },
    {
      "cell_type": "code",
      "metadata": {
        "colab": {
          "base_uri": "https://localhost:8080/",
          "height": 335
        },
        "id": "_c6ff16g2R70",
        "outputId": "7c93f554-26a7-4258-85dc-bed94851103a"
      },
      "source": [
        "import matplotlib.pyplot as plt\n",
        "\n",
        "plt.hist(y)  #데이터의 불균형 확인"
      ],
      "execution_count": 22,
      "outputs": [
        {
          "output_type": "execute_result",
          "data": {
            "text/plain": [
              "(array([618.,   0.,   0.,   0.,   0.,   0.,   0.,   0.,   0., 427.]),\n",
              " array([0. , 0.1, 0.2, 0.3, 0.4, 0.5, 0.6, 0.7, 0.8, 0.9, 1. ],\n",
              "       dtype=float32),\n",
              " <a list of 10 Patch objects>)"
            ]
          },
          "metadata": {},
          "execution_count": 22
        },
        {
          "output_type": "display_data",
          "data": {
            "image/png": "[encoded data removed]",
            "text/plain": [
              "<Figure size 432x288 with 1 Axes>"
            ]
          },
          "metadata": {
            "needs_background": "light"
          }
        }
      ]
    },
    {
      "cell_type": "markdown",
      "metadata": {
        "id": "F-fzYizhkrRS"
      },
      "source": [
        "# x,y값 타입변환\n",
        "- 아래와 같은 에러 대처법\n",
        "- Failed to convert a NumPy array to a Tensor (Unsupported object type float)."
      ]
    },
    {
      "cell_type": "code",
      "metadata": {
        "colab": {
          "base_uri": "https://localhost:8080/"
        },
        "id": "UqD5F_0ZknDS",
        "outputId": "f7a09dea-e12d-4e8b-d9b4-6c9bbc3739d0"
      },
      "source": [
        "x=np.asarray(x).astype(np.float32)\n",
        "y=np.asarray(y).astype(np.float32)\n",
        "x.dtype, y.dtype\n"
      ],
      "execution_count": 32,
      "outputs": [
        {
          "output_type": "execute_result",
          "data": {
            "text/plain": [
              "(dtype('float32'), dtype('float32'))"
            ]
          },
          "metadata": {},
          "execution_count": 32
        }
      ]
    },
    {
      "cell_type": "markdown",
      "metadata": {
        "id": "Yh0_EUbQctTM"
      },
      "source": [
        "## 트레이닝 테스트 데이터 나누기"
      ]
    },
    {
      "cell_type": "code",
      "metadata": {
        "id": "Opz6-4HB2zkP"
      },
      "source": [
        "from sklearn.model_selection import train_test_split\n",
        "import numpy as np\n",
        "x_train , x_test , y_train , y_test = train_test_split(x, y,test_size=0.2,random_state=42)"
      ],
      "execution_count": 33,
      "outputs": []
    },
    {
      "cell_type": "code",
      "metadata": {
        "colab": {
          "base_uri": "https://localhost:8080/"
        },
        "id": "1zoOBjGkiRPj",
        "outputId": "0339f0dd-34a0-4f6b-c3fa-85206a5e727a"
      },
      "source": [
        "type(x_train)"
      ],
      "execution_count": 29,
      "outputs": [
        {
          "output_type": "execute_result",
          "data": {
            "text/plain": [
              "numpy.ndarray"
            ]
          },
          "metadata": {},
          "execution_count": 29
        }
      ]
    },
    {
      "cell_type": "markdown",
      "metadata": {
        "id": "xCRY180N36mo"
      },
      "source": [
        "# 문제_ 모델 제작"
      ]
    },
    {
      "cell_type": "code",
      "metadata": {
        "id": "A8y_oJqThM4v"
      },
      "source": [
        "## 타이타닉 데이터의 x값은 (첫 layer의 input_shape임.\n",
        "\n",
        "### 타이타닉 데이터의 y값은 (최종 layer)\n",
        "# 선형회귀, 출력값1, 활성화함수 없음\n",
        "# 이항분류, 출력값1, 활성화함수 sigmoid\n",
        "# 이항분류를 원핫인코딩시키면 출력값2, 활성화함수 softmax\n",
        "# 다항분류는 원핫인코딩해서 해야함. 출력값은 다항분류갯수, 활성화함수 softmax"
      ],
      "execution_count": null,
      "outputs": []
    },
    {
      "cell_type": "code",
      "metadata": {
        "id": "xfZGG9853-vj"
      },
      "source": [
        "import tensorflow as tf\n",
        "model=tf.keras.Sequential([\n",
        "                           tf.keras.layers.Dense(units=40, activation=\"relu\", input_shape=(6,)),\n",
        "                           tf.keras.layers. Dense(units=5, activation=\"relu\"),\n",
        "                           tf.keras.layers. Dense(units=1, activation=\"sigmoid\")\n",
        "])"
      ],
      "execution_count": 34,
      "outputs": []
    },
    {
      "cell_type": "code",
      "metadata": {
        "id": "fkPL46lq4QM1",
        "colab": {
          "base_uri": "https://localhost:8080/"
        },
        "outputId": "d4a7b8fa-83c1-4610-9732-6ac5b3224d48"
      },
      "source": [
        "model.compile(optimizer=tf.keras.optimizers.Adam(lr=0.07),\n",
        "              loss='mse', metrics=['acc'])"
      ],
      "execution_count": 38,
      "outputs": [
        {
          "output_type": "stream",
          "name": "stderr",
          "text": [
            "/usr/local/lib/python3.7/dist-packages/keras/optimizer_v2/optimizer_v2.py:356: UserWarning: The `lr` argument is deprecated, use `learning_rate` instead.\n",
            "  \"The `lr` argument is deprecated, use `learning_rate` instead.\")\n"
          ]
        }
      ]
    },
    {
      "cell_type": "code",
      "metadata": {
        "colab": {
          "base_uri": "https://localhost:8080/"
        },
        "id": "mGXXp9Y75NDJ",
        "outputId": "3fb5470f-06e8-4245-9463-a9facb65b779"
      },
      "source": [
        "model.summary() # \n",
        "\n",
        "#문제 Param의 출력된 갯수를 계산하여 보세요\n",
        "#layer1= 6*40+40 =>280개     (6개의w+1개의b=> 한세트에 7개의 param * 40개 =>280개)\n",
        "#layer2=40(layer1의 dense units수)*5+5 =>205개   (40개의w와 1개의b => 한세트에 41개의 param * 5개=>205)\n",
        "#layer3=5(layer2의 dense units수)*1+1 => 6개     (5개의w와 1개의 b =>한세트에 6개 param *1개)"
      ],
      "execution_count": 39,
      "outputs": [
        {
          "output_type": "stream",
          "name": "stdout",
          "text": [
            "Model: \"sequential_1\"\n",
            "_________________________________________________________________\n",
            "Layer (type)                 Output Shape              Param #   \n",
            "=================================================================\n",
            "dense_3 (Dense)              (None, 40)                280       \n",
            "_________________________________________________________________\n",
            "dense_4 (Dense)              (None, 5)                 205       \n",
            "_________________________________________________________________\n",
            "dense_5 (Dense)              (None, 1)                 6         \n",
            "=================================================================\n",
            "Total params: 491\n",
            "Trainable params: 491\n",
            "Non-trainable params: 0\n",
            "_________________________________________________________________\n"
          ]
        }
      ]
    },
    {
      "cell_type": "code",
      "metadata": {
        "colab": {
          "base_uri": "https://localhost:8080/"
        },
        "id": "3dLLUgY55u8q",
        "outputId": "ae1de4c4-3210-4322-ae4f-9bcb89e00a12"
      },
      "source": [
        "#다른 신경망 네트워크들과 비슷하게 훈련은 fit메소드를 통해 실행하며, \n",
        "# EarlyStopping이라는 callback 함수를 사용하여 val_loss가 3번 이상 연속으로 증가한다면 멈추고 \n",
        "# 최저의 loss를 사용하도록 선언함\n",
        "\n",
        "history = model.fit(x_train, y_train, epochs=25, batch_size=1, validation_split=0.25, \n",
        "                    callbacks=[tf.keras.callbacks.EarlyStopping(patience=3, monitor='val_loss')]) # 지정한 횟수만큼 에러율이 줄어들지 않으면 그만\n"
      ],
      "execution_count": 42,
      "outputs": [
        {
          "output_type": "stream",
          "name": "stdout",
          "text": [
            "Epoch 1/25\n",
            "627/627 [==============================] - 1s 2ms/step - loss: 0.2427 - acc: 0.5901 - val_loss: 0.2442 - val_acc: 0.5885\n",
            "Epoch 2/25\n",
            "627/627 [==============================] - 1s 2ms/step - loss: 0.2466 - acc: 0.5837 - val_loss: 0.2443 - val_acc: 0.5885\n",
            "Epoch 3/25\n",
            "627/627 [==============================] - 1s 2ms/step - loss: 0.2446 - acc: 0.5630 - val_loss: 0.2466 - val_acc: 0.5885\n",
            "Epoch 4/25\n",
            "627/627 [==============================] - 1s 2ms/step - loss: 0.2443 - acc: 0.5885 - val_loss: 0.2436 - val_acc: 0.5885\n",
            "Epoch 5/25\n",
            "627/627 [==============================] - 1s 2ms/step - loss: 0.2455 - acc: 0.5933 - val_loss: 0.2501 - val_acc: 0.5885\n",
            "Epoch 6/25\n",
            "627/627 [==============================] - 1s 2ms/step - loss: 0.2445 - acc: 0.5885 - val_loss: 0.2467 - val_acc: 0.5885\n",
            "Epoch 7/25\n",
            "627/627 [==============================] - 1s 2ms/step - loss: 0.2438 - acc: 0.5901 - val_loss: 0.2464 - val_acc: 0.5885\n"
          ]
        }
      ]
    },
    {
      "cell_type": "code",
      "metadata": {
        "colab": {
          "base_uri": "https://localhost:8080/",
          "height": 501
        },
        "id": "0L2KBeVYxt8i",
        "outputId": "5fcbc4d9-6fc1-485d-b8fb-35d543a23346"
      },
      "source": [
        "plt.figure(figsize=(12,4))\n",
        "\n",
        "plt.figure(figsize=(12,8))\n",
        "plt.plot(history.history['loss'])\n",
        "plt.plot(history.history['val_loss'])\n",
        "plt.plot(history.history['acc'])\n",
        "plt.plot(history.history['val_acc'])\n",
        "plt.legend(['loss','val_loss', 'accuracy','val_acc'])\n",
        "plt.show()\n"
      ],
      "execution_count": 43,
      "outputs": [
        {
          "output_type": "display_data",
          "data": {
            "text/plain": [
              "<Figure size 864x288 with 0 Axes>"
            ]
          },
          "metadata": {}
        },
        {
          "output_type": "display_data",
          "data": {
            "image/png": "[encoded data removed]",
            "text/plain": [
              "<Figure size 864x576 with 1 Axes>"
            ]
          },
          "metadata": {
            "needs_background": "light"
          }
        }
      ]
    },
    {
      "cell_type": "code",
      "metadata": {
        "colab": {
          "base_uri": "https://localhost:8080/"
        },
        "id": "WmC83xO85_NN",
        "outputId": "3da01f0f-d3eb-4c35-e453-c75c05d904c3"
      },
      "source": [
        "# # 모델 측정\n",
        "# 손실값, 정확도\n",
        "\n",
        "model.evaluate(x_test,y_test)"
      ],
      "execution_count": 44,
      "outputs": [
        {
          "output_type": "stream",
          "name": "stdout",
          "text": [
            "7/7 [==============================] - 0s 3ms/step - loss: 0.2471 - acc: 0.5742\n"
          ]
        },
        {
          "output_type": "execute_result",
          "data": {
            "text/plain": [
              "[0.24710136651992798, 0.5741626620292664]"
            ]
          },
          "metadata": {},
          "execution_count": 44
        }
      ]
    },
    {
      "cell_type": "code",
      "metadata": {
        "colab": {
          "base_uri": "https://localhost:8080/"
        },
        "id": "GxgS_iu46IPV",
        "outputId": "2c96cc9c-b8f1-44e9-883d-9e79b9a195b5"
      },
      "source": [
        "# 모델 예측, 아래의 x0~x8의 데이터를 newX값으로 받아서 예측하여 봅니다.\n",
        "x0_pclass=1\n",
        "x3_sex=1\n",
        "x4_age=20\n",
        "x5_sibsp=3\n",
        "x6_parch=2\n",
        "x8_fare=2\n",
        "newx=[[x0_pclass,x3_sex,x4_age,x5_sibsp,x6_parch,x8_fare]]\n",
        "model.predict(newx)"
      ],
      "execution_count": 50,
      "outputs": [
        {
          "output_type": "execute_result",
          "data": {
            "text/plain": [
              "array([[0.47684187]], dtype=float32)"
            ]
          },
          "metadata": {},
          "execution_count": 50
        }
      ]
    },
    {
      "cell_type": "code",
      "metadata": {
        "id": "224FMlyEnHr_",
        "colab": {
          "base_uri": "https://localhost:8080/"
        },
        "outputId": "9efacd27-8f16-4eb1-a883-b90312df3df3"
      },
      "source": [
        "print(np.shape(x_test[0]))\n",
        "\n",
        "print(np.shape(x_test[0:1]))\n"
      ],
      "execution_count": 52,
      "outputs": [
        {
          "output_type": "stream",
          "name": "stdout",
          "text": [
            "(6,)\n",
            "(1, 6)\n"
          ]
        }
      ]
    },
    {
      "cell_type": "code",
      "metadata": {
        "id": "R2V4asbinG6u",
        "colab": {
          "base_uri": "https://localhost:8080/"
        },
        "outputId": "c7cdf93c-5226-428a-828c-af4573fd8645"
      },
      "source": [
        "model.predict(x_test[0:1])"
      ],
      "execution_count": 51,
      "outputs": [
        {
          "output_type": "execute_result",
          "data": {
            "text/plain": [
              "array([[0.47684187]], dtype=float32)"
            ]
          },
          "metadata": {},
          "execution_count": 51
        }
      ]
    }
  ]
}