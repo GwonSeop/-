{
  "nbformat": 4,
  "nbformat_minor": 0,
  "metadata": {
    "colab": {
      "name": "npz자료_제작.ipynb",
      "provenance": []
    },
    "kernelspec": {
      "name": "python3",
      "display_name": "Python 3"
    },
    "language_info": {
      "name": "python"
    }
  },
  "cells": [
    {
      "cell_type": "code",
      "metadata": {
        "id": "Gk9KoIzy8jZU"
      },
      "source": [
        "from glob import glob\n",
        "from PIL import Image\n",
        "import numpy as np\n",
        "folderList = glob('이미지/*')\n",
        "X=[];y=[]\n",
        "for folder in folderList:\n",
        "  fileList=glob(folder + '/*')\n",
        "  for file in fileList:\n",
        "    img = Image.open(file)\n",
        "    img = img.resize((100,100))\n",
        "    imgarr=np.array(img)\n",
        "    X.append(imgarr)\n",
        "    y.append(folder)"
      ],
      "execution_count": 2,
      "outputs": []
    },
    {
      "cell_type": "code",
      "metadata": {
        "colab": {
          "base_uri": "https://localhost:8080/",
          "height": 176
        },
        "id": "bBZHh5YQ8t1J",
        "outputId": "bc97e0fa-2bea-4be1-d0de-7579e2e33890"
      },
      "source": [
        "# 이렇게 저장된 npz만 갖고 다니면 됨\n",
        "np.savez('./강아지고양이.npz')\n"
      ],
      "execution_count": 3,
      "outputs": [
        {
          "output_type": "error",
          "ename": "IndexError",
          "evalue": "ignored",
          "traceback": [
            "\u001b[0;31m---------------------------------------------------------------------------\u001b[0m",
            "\u001b[0;31mIndexError\u001b[0m                                Traceback (most recent call last)",
            "\u001b[0;32m<ipython-input-3-19c40ecbd036>\u001b[0m in \u001b[0;36m<module>\u001b[0;34m()\u001b[0m\n\u001b[0;32m----> 1\u001b[0;31m \u001b[0mX\u001b[0m\u001b[0;34m[\u001b[0m\u001b[0;36m0\u001b[0m\u001b[0;34m]\u001b[0m\u001b[0;34m\u001b[0m\u001b[0;34m\u001b[0m\u001b[0m\n\u001b[0m",
            "\u001b[0;31mIndexError\u001b[0m: list index out of range"
          ]
        }
      ]
    },
    {
      "cell_type": "code",
      "metadata": {
        "id": "iW1Hch2b9Bnr"
      },
      "source": [
        "loadnpz.load('./강아지고양이.npz')\n",
        "list(loadnpz)"
      ],
      "execution_count": null,
      "outputs": []
    },
    {
      "cell_type": "code",
      "metadata": {
        "id": "O6j0gau1_iVc"
      },
      "source": [
        "X_data=loadnpz['X_data']\n",
        "y_data=loadnpz['y_data']\n",
        "plt.imshow(X_data[3])"
      ],
      "execution_count": null,
      "outputs": []
    }
  ]
}