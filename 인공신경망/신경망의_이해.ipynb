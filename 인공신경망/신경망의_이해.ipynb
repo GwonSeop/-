{
  "nbformat": 4,
  "nbformat_minor": 0,
  "metadata": {
    "colab": {
      "name": "신경망의 이해.ipynb",
      "provenance": []
    },
    "kernelspec": {
      "name": "python3",
      "display_name": "Python 3"
    },
    "language_info": {
      "name": "python"
    }
  },
  "cells": [
    {
      "cell_type": "code",
      "metadata": {
        "id": "lkfKmgn1ZU63"
      },
      "source": [
        "import tensorflow as tf\n",
        "import numpy as np\n",
        "from tensorflow.keras.models import Sequential  # 층 구성\n",
        "from tensorflow.keras.layers import Dense        # 층에대한 노드 갯수\n",
        "from tensorflow.keras.optimizers import SGD        # 최적화 함수에 대해 설정\n",
        "from tensorflow.keras.losses import mse           # 로스 지정"
      ],
      "execution_count": 1,
      "outputs": []
    },
    {
      "cell_type": "code",
      "metadata": {
        "id": "CLaHNdC0ZsBq"
      },
      "source": [
        "tf.random.set_seed(777)"
      ],
      "execution_count": 2,
      "outputs": []
    },
    {
      "cell_type": "code",
      "metadata": {
        "colab": {
          "base_uri": "https://localhost:8080/"
        },
        "id": "0PGXWDlXaDAn",
        "outputId": "496a720f-a7c4-46f6-a19e-877146536a65"
      },
      "source": [
        "#데이터 준비하기\n",
        "data = np.array([[0,0],[1,0],[0,1],[1,1]])\n",
        "label = np.array([[0],[1],[1],[1]])\n",
        "\n",
        "np.shape(data)"
      ],
      "execution_count": 22,
      "outputs": [
        {
          "output_type": "execute_result",
          "data": {
            "text/plain": [
              "(4, 2)"
            ]
          },
          "metadata": {},
          "execution_count": 22
        }
      ]
    },
    {
      "cell_type": "code",
      "metadata": {
        "colab": {
          "base_uri": "https://localhost:8080/"
        },
        "id": "xBNLWLnkhAhO",
        "outputId": "86dbfa78-bd68-4b30-e4f6-587f80745251"
      },
      "source": [
        "#모델 구성하기\n",
        "model = Sequential()\n",
        "model.add(Dense(2,input_shape=(2,),activation='linear')) ##활성화함수 wx+b\n",
        "\n",
        "#모델 준비하기 \n",
        "model.compile(optimizer = SGD(), loss=mse, metrics = ['acc']) #list 형태로 평가지표를 전달합니다\n",
        "\n",
        "#학습시키기\n",
        "model.fit(data,label,epochs=10, batch_size=1)"
      ],
      "execution_count": 23,
      "outputs": [
        {
          "output_type": "stream",
          "name": "stdout",
          "text": [
            "Epoch 1/10\n",
            "4/4 [==============================] - 0s 4ms/step - loss: 2.4744 - acc: 1.0000\n",
            "Epoch 2/10\n",
            "4/4 [==============================] - 0s 3ms/step - loss: 2.2037 - acc: 1.0000\n",
            "Epoch 3/10\n",
            "4/4 [==============================] - 0s 3ms/step - loss: 1.9658 - acc: 1.0000\n",
            "Epoch 4/10\n",
            "4/4 [==============================] - 0s 3ms/step - loss: 1.7560 - acc: 1.0000\n",
            "Epoch 5/10\n",
            "4/4 [==============================] - 0s 4ms/step - loss: 1.5717 - acc: 1.0000\n",
            "Epoch 6/10\n",
            "4/4 [==============================] - 0s 5ms/step - loss: 1.4094 - acc: 1.0000\n",
            "Epoch 7/10\n",
            "4/4 [==============================] - 0s 4ms/step - loss: 1.2661 - acc: 1.0000\n",
            "Epoch 8/10\n",
            "4/4 [==============================] - 0s 3ms/step - loss: 1.1396 - acc: 1.0000\n",
            "Epoch 9/10\n",
            "4/4 [==============================] - 0s 3ms/step - loss: 1.0284 - acc: 1.0000\n",
            "Epoch 10/10\n",
            "4/4 [==============================] - 0s 4ms/step - loss: 0.9302 - acc: 1.0000\n"
          ]
        },
        {
          "output_type": "execute_result",
          "data": {
            "text/plain": [
              "<keras.callbacks.History at 0x7f73c1943490>"
            ]
          },
          "metadata": {},
          "execution_count": 23
        }
      ]
    },
    {
      "cell_type": "code",
      "metadata": {
        "colab": {
          "base_uri": "https://localhost:8080/"
        },
        "id": "fpgfXeMKhVVd",
        "outputId": "ee534d0d-21c2-4403-ca67-5de5ee348c70"
      },
      "source": [
        "model.summary()"
      ],
      "execution_count": 24,
      "outputs": [
        {
          "output_type": "stream",
          "name": "stdout",
          "text": [
            "Model: \"sequential_6\"\n",
            "_________________________________________________________________\n",
            "Layer (type)                 Output Shape              Param #   \n",
            "=================================================================\n",
            "dense_6 (Dense)              (None, 2)                 6         \n",
            "=================================================================\n",
            "Total params: 6\n",
            "Trainable params: 6\n",
            "Non-trainable params: 0\n",
            "_________________________________________________________________\n"
          ]
        }
      ]
    },
    {
      "cell_type": "code",
      "metadata": {
        "colab": {
          "base_uri": "https://localhost:8080/"
        },
        "id": "npnuQNz2hyh7",
        "outputId": "d72b7d87-e25a-41e1-e2e1-bf5ebb1c83d2"
      },
      "source": [
        "model.get_weights()"
      ],
      "execution_count": 25,
      "outputs": [
        {
          "output_type": "execute_result",
          "data": {
            "text/plain": [
              "[array([[-0.5597546 , -0.32501063],\n",
              "        [-0.4527387 ,  0.15946017]], dtype=float32),\n",
              " array([0.46796978, 0.3089672 ], dtype=float32)]"
            ]
          },
          "metadata": {},
          "execution_count": 25
        }
      ]
    },
    {
      "cell_type": "code",
      "metadata": {
        "colab": {
          "base_uri": "https://localhost:8080/"
        },
        "id": "-5cDTxNaasZm",
        "outputId": "ab7ab22f-4d33-47f7-bc86-d194aad8d084"
      },
      "source": [
        "# x1과 x2의 자료를 갖고있으니 x1의 w1 x2의 w2 b한개\n",
        "we = model.get_weights() #모델 가중치 확인하기\n",
        "w1 = we[0][0] # x1의 w1\n",
        "w2 = we[0][1] # x2의 w2\n",
        "b = we[1] # b\n",
        "y_pred=data[:,0]*w1+data[:,1]*w2 + b \n",
        "y_pred"
      ],
      "execution_count": 21,
      "outputs": [
        {
          "output_type": "execute_result",
          "data": {
            "text/plain": [
              "array([ 0.80622661,  0.41262433,  0.27739769, -0.11620459])"
            ]
          },
          "metadata": {},
          "execution_count": 21
        }
      ]
    },
    {
      "cell_type": "code",
      "metadata": {
        "colab": {
          "base_uri": "https://localhost:8080/"
        },
        "id": "hPwPMLjlbUkn",
        "outputId": "394e836a-c8d1-4040-8886-48f9b9097ed8"
      },
      "source": [
        "model.summary()\n",
        "# Param공식 노드에서 나가는 선의 갯수\n",
        "# 현재는 노드가 x1,x2, 1(바이어스항)\n",
        "# 여기에 계산되는 가중치가 Param의 갯수임 w1,w2,b\n",
        "# w는 같은 배열에 넣고\n",
        "# b는 한개의 항으로 제공"
      ],
      "execution_count": 17,
      "outputs": [
        {
          "output_type": "stream",
          "name": "stdout",
          "text": [
            "Model: \"sequential_3\"\n",
            "_________________________________________________________________\n",
            "Layer (type)                 Output Shape              Param #   \n",
            "=================================================================\n",
            "dense_3 (Dense)              (None, 1)                 3         \n",
            "=================================================================\n",
            "Total params: 3\n",
            "Trainable params: 3\n",
            "Non-trainable params: 0\n",
            "_________________________________________________________________\n"
          ]
        }
      ]
    },
    {
      "cell_type": "code",
      "metadata": {
        "id": "6BnLG010cjWW"
      },
      "source": [
        "#활성화 함수 (dense층의 결과를 계산하는 공식)\n",
        "#최종 Dense는 원하는 y값을 의미\n",
        "# 중간 Dense는 다음 Dense에 넘어가기에 적합한 값을 의미 (Relu 라는 함수를 사용)\n",
        "# y값은 무한대의 숫자인 선형회귀 이거나, 결과는 무한대의 숫자중 1개   (활성화함수 기재 안함)\n",
        "# 0또는 1값중 하나인 이항분류이거나, 결과는 0또는 1의 한개의 비트(활성화함수 시그모이드)또는 [1,0],[0,1]의 두개의 비트로 표현하는 원핫 인코딩 (활성화함수 소프트맥스)\n",
        "# 여러개의 다항분류 무조건 분류갯수만큼 원핫인코딩 (활성화함수 소프트맥스)"
      ],
      "execution_count": null,
      "outputs": []
    }
  ]
}