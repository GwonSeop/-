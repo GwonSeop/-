{
  "nbformat": 4,
  "nbformat_minor": 0,
  "metadata": {
    "colab": {
      "name": "교재 작업전  전이학습 기초.ipynb",
      "provenance": [],
      "collapsed_sections": []
    },
    "kernelspec": {
      "name": "python3",
      "display_name": "Python 3"
    },
    "language_info": {
      "name": "python"
    }
  },
  "cells": [
    {
      "cell_type": "code",
      "metadata": {
        "id": "j-Qpnz7cHOJD",
        "outputId": "04dd28ab-f88d-4422-dd37-079c829d3679",
        "colab": {
          "base_uri": "https://localhost:8080/"
        }
      },
      "source": [
        "from google.colab import drive\n",
        "drive.mount('/content/drive')"
      ],
      "execution_count": 2,
      "outputs": [
        {
          "output_type": "stream",
          "name": "stdout",
          "text": [
            "Mounted at /content/drive\n"
          ]
        }
      ]
    },
    {
      "cell_type": "code",
      "metadata": {
        "colab": {
          "base_uri": "https://localhost:8080/"
        },
        "id": "Ua9gx4zBf0Rk",
        "outputId": "fac75ea6-6521-408e-ee36-98e019654290"
      },
      "source": [
        "from tensorflow.keras.preprocessing.image import load_img\n",
        "from tensorflow.keras.preprocessing.image import img_to_array\n",
        "from tensorflow.keras.applications.vgg16 import preprocess_input\n",
        "from tensorflow.keras.applications.vgg16 import decode_predictions\n",
        "from tensorflow.keras.applications.vgg16 import VGG16\n",
        "\n",
        "# 사전 학습된 모델 불러오기\n",
        "#input_tensor = Input(shape=(150,150,3))\n",
        "\n",
        "\n",
        "# include_top : 신경망 FC 층 존재 유무 ( False : 제거 / True : 유지 )\n",
        "# weights : 가중치 모델 지정 ( None : 초기화된 가중치, 'imagenet' : 사전 학습된 가중치 )\n",
        "# input_tensor : 입력 텐서 크기 ( Input(shape = (w, h, ch))\n",
        "\n",
        "#model = VGG16(weights='imagenet', include_top=False, input_tensor = input_tensor)  \n",
        "\n",
        "model = VGG16()\n",
        "\n"
      ],
      "execution_count": 5,
      "outputs": [
        {
          "output_type": "stream",
          "name": "stdout",
          "text": [
            "Downloading data from https://storage.googleapis.com/tensorflow/keras-applications/vgg16/vgg16_weights_tf_dim_ordering_tf_kernels.h5\n",
            "553467904/553467096 [==============================] - 4s 0us/step\n",
            "553476096/553467096 [==============================] - 4s 0us/step\n"
          ]
        }
      ]
    },
    {
      "cell_type": "code",
      "metadata": {
        "id": "rh4gU1pihXOV",
        "outputId": "f240bd7a-a67d-49e5-a66e-385303a337a3",
        "colab": {
          "base_uri": "https://localhost:8080/"
        }
      },
      "source": [
        "#fileName=input image \n",
        "fileName='befe997d-b8bc-418d-a673-6dd6fdf8152f.jpg'\n",
        "image = load_img(fileName, target_size=(224, 224))\n",
        "image = img_to_array(image)\n",
        "image = image.reshape(1, image.shape[0], image.shape[1], image.shape[2])\n",
        "image = preprocess_input(image) # vgg16제공 전처리(예:스케일링, 흑백변경)\n",
        "yhat = model.predict(image)  #yhat 카테고리가 1000개임\n",
        "label = decode_predictions(yhat) # 상위 5개 출력 [코드넘버, class name ,중에서 얼마나 가중치가 있는가]\n",
        "label = label[0][0]\n",
        "print('%s (%.2f%%)'%(label[1], label[2]*100))"
      ],
      "execution_count": 7,
      "outputs": [
        {
          "output_type": "stream",
          "name": "stdout",
          "text": [
            "tusker (53.29%)\n"
          ]
        }
      ]
    },
    {
      "cell_type": "code",
      "metadata": {
        "id": "NoCbCjuKhNN6"
      },
      "source": [
        ""
      ],
      "execution_count": null,
      "outputs": []
    },
    {
      "cell_type": "code",
      "metadata": {
        "id": "NgcPhChwgWCf"
      },
      "source": [
        ""
      ],
      "execution_count": null,
      "outputs": []
    }
  ]
}