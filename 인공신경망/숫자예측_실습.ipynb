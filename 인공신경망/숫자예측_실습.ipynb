{
  "nbformat": 4,
  "nbformat_minor": 0,
  "metadata": {
    "colab": {
      "name": "숫자예측_실습.ipynb",
      "provenance": []
    },
    "kernelspec": {
      "name": "python3",
      "display_name": "Python 3"
    },
    "language_info": {
      "name": "python"
    }
  },
  "cells": [
    {
      "cell_type": "markdown",
      "metadata": {
        "id": "oPTqvYc5K2Jl"
      },
      "source": [
        "## 모델에 사용될 이미지 전처리\n",
        "- h5 모델 제작할때와 같은 상황을 만들어야함.\n",
        "- h5 모델에 들어간 자료는 \n",
        " - 사이즈는 28*28\n",
        " - 그레이스케일(2차원)\n",
        " - 배경이 어둡고 내용이 밝다. \n",
        " - 0~1사이 값 (/255하겠다)\n",
        " - 28*28을 (1,784)로 변경"
      ]
    },
    {
      "cell_type": "code",
      "metadata": {
        "colab": {
          "base_uri": "https://localhost:8080/"
        },
        "id": "FtmlqC3-NOZn",
        "outputId": "57978376-50bd-46ec-ed6f-841196a53cf9"
      },
      "source": [
        "# image를 흑백으로 변환\n",
        "imgGray=img.convert('L')\n",
        "np.shape(imgGray)"
      ],
      "execution_count": null,
      "outputs": [
        {
          "output_type": "execute_result",
          "data": {
            "text/plain": [
              "(431, 166)"
            ]
          },
          "metadata": {},
          "execution_count": 10
        }
      ]
    },
    {
      "cell_type": "code",
      "metadata": {
        "colab": {
          "base_uri": "https://localhost:8080/"
        },
        "id": "Q9GzQGzaKdAR",
        "outputId": "8e48af66-5e3d-4f2c-9952-8d00f199fb5a"
      },
      "source": [
        "# 이미지 관련 모듈은 대표적으로 PIL과 openCV가 있음. openCV는 욜로와함께 다양하게 사용됨. 영상물에서의 이미지 검출도 openCV\n",
        "import numpy as np\n",
        "from PIL import Image\n",
        "import matplotlib.pyplot as plt\n",
        "\n",
        "img = Image.open('number.png')\n",
        "img.size  # PIL은 너비와 높이로 나옴\n",
        "np.shape(img)"
      ],
      "execution_count": null,
      "outputs": [
        {
          "output_type": "execute_result",
          "data": {
            "text/plain": [
              "(431, 166, 3)"
            ]
          },
          "metadata": {},
          "execution_count": 38
        }
      ]
    },
    {
      "cell_type": "code",
      "metadata": {
        "id": "sCG2wkmvLX5e",
        "colab": {
          "base_uri": "https://localhost:8080/",
          "height": 287
        },
        "outputId": "394a7d75-7112-4907-bbd7-1375db510c92"
      },
      "source": [
        "# image crop  'PILLOW에서 그림자르기\n",
        "# image.crop(시작하는 왼쪽위치,시작하는 위쪽위치)\n",
        "img1 = img.crop((0,0,166,100))\n",
        "img2 = img.crop((0,130,140,250))\n",
        "img3 = img.crop((20,320,130,430))\n",
        "plt.imshow(img2)"
      ],
      "execution_count": null,
      "outputs": [
        {
          "output_type": "execute_result",
          "data": {
            "text/plain": [
              "<matplotlib.image.AxesImage at 0x7f31902fae10>"
            ]
          },
          "metadata": {},
          "execution_count": 92
        },
        {
          "output_type": "display_data",
          "data": {
            "image/png": "[encoded data removed]",
            "text/plain": [
              "<Figure size 432x288 with 1 Axes>"
            ]
          },
          "metadata": {
            "needs_background": "light"
          }
        }
      ]
    },
    {
      "cell_type": "code",
      "metadata": {
        "colab": {
          "base_uri": "https://localhost:8080/",
          "height": 284
        },
        "id": "ht9Tjys6OGbW",
        "outputId": "50ed4d85-7cc9-492e-83c1-a77ac7426bc0"
      },
      "source": [
        "# plt.imshow에 들어가는 자료는 반드시 색상숫자값이어야함. 이미지를 숫자로 변경하려면 array로 변경해야함\n",
        "# 사이즈 변경\n",
        "im1_re1=img3.resize((28,28))  # 열 이미지, 행 이미지\n",
        "#그레이스케일 변경\n",
        "img_gr1=im1_re1.convert('L')\n",
        "np.shape(img_gr1)   # 행, 열의 크기가 표시  # 그레이스케일 확인\n",
        "#이미지 변경\n",
        "import PIL.ImageOps\n",
        "img_con_1=PIL.ImageOps.invert(img_gr1)\n",
        "plt.imshow(np.array(img_con_1),cmap='gray')\n",
        "\n",
        "# 0-1사이값이다. 모델링 작업에서한 스케일링과 똑같이 해야함\n",
        "img_sc_1=np.array(img_con_1)/255\n",
        "plt.imshow(img_sc_1,cmap='gray')\n",
        "\n",
        "# 28*28을 (1,784)로 변경\n",
        "img_re_1=img_sc_1.reshape(1,-1)\n",
        "img_re_1.shape"
      ],
      "execution_count": null,
      "outputs": [
        {
          "output_type": "execute_result",
          "data": {
            "text/plain": [
              "(1, 784)"
            ]
          },
          "metadata": {},
          "execution_count": 127
        },
        {
          "output_type": "display_data",
          "data": {
            "image/png": "[encoded data removed]",
            "text/plain": [
              "<Figure size 432x288 with 1 Axes>"
            ]
          },
          "metadata": {
            "needs_background": "light"
          }
        }
      ]
    },
    {
      "cell_type": "markdown",
      "metadata": {
        "id": "zIU3vOM2XTQD"
      },
      "source": [
        "## 숫자인식하는 h5모델을 불러오고 그 모델에 img_re_1을 넣어서 예측을 해보려함"
      ]
    },
    {
      "cell_type": "code",
      "metadata": {
        "colab": {
          "base_uri": "https://localhost:8080/"
        },
        "id": "mXC7WzeUXLo6",
        "outputId": "9ce4b3cf-447a-4df2-e6b3-0724e456d157"
      },
      "source": [
        "import tensorflow as tf\n",
        "load_model=tf.keras.models.load_model('my_mnist.h5')\n",
        "load_model.summary()"
      ],
      "execution_count": null,
      "outputs": [
        {
          "output_type": "stream",
          "name": "stdout",
          "text": [
            "Model: \"sequential\"\n",
            "_________________________________________________________________\n",
            "Layer (type)                 Output Shape              Param #   \n",
            "=================================================================\n",
            "dense (Dense)                (None, 64)                50240     \n",
            "_________________________________________________________________\n",
            "dense_1 (Dense)              (None, 32)                2080      \n",
            "_________________________________________________________________\n",
            "dense_2 (Dense)              (None, 10)                330       \n",
            "=================================================================\n",
            "Total params: 52,650\n",
            "Trainable params: 52,650\n",
            "Non-trainable params: 0\n",
            "_________________________________________________________________\n"
          ]
        }
      ]
    },
    {
      "cell_type": "code",
      "metadata": {
        "colab": {
          "base_uri": "https://localhost:8080/"
        },
        "id": "f9OKoaq-OZqK",
        "outputId": "c92a4a9b-650e-4399-ad07-a8fd583efdb3"
      },
      "source": [
        "result = load_model.predict(img_re_1)\n",
        "print(result)   # 모델작성할때 최종 레이어의 dense의 유닛갯수가 10개 (y_train값의 unique갯수와 같음)여서 그 10개에 각각의 비중이 출력됨\n",
        "print(np.argmax(result))"
      ],
      "execution_count": null,
      "outputs": [
        {
          "output_type": "stream",
          "name": "stdout",
          "text": [
            "[[0.01899907 0.07737101 0.10254265 0.02572637 0.08468637 0.10099469\n",
            "  0.11472031 0.00950799 0.44183627 0.02361532]]\n",
            "8\n"
          ]
        }
      ]
    },
    {
      "cell_type": "code",
      "metadata": {
        "colab": {
          "base_uri": "https://localhost:8080/",
          "height": 284
        },
        "id": "jgzggaHQZy7x",
        "outputId": "811c8227-5649-4999-b956-141d3ef2d355"
      },
      "source": [
        "tmp=img_re_1\n",
        "for cnt in range(len(tmp[0])):\n",
        "  #print(tmp[0][cnt])\n",
        "  if tmp[0][cnt]!=0.0:\n",
        "    tmp[0][cnt]=1.0\n",
        "\n",
        "\n",
        "plt.imshow(tmp.reshape(28,28),cmap='gray')\n"
      ],
      "execution_count": null,
      "outputs": [
        {
          "output_type": "execute_result",
          "data": {
            "text/plain": [
              "<matplotlib.image.AxesImage at 0x7f318fc0e690>"
            ]
          },
          "metadata": {},
          "execution_count": 129
        },
        {
          "output_type": "display_data",
          "data": {
            "image/png": "[encoded data removed]",
            "text/plain": [
              "<Figure size 432x288 with 1 Axes>"
            ]
          },
          "metadata": {
            "needs_background": "light"
          }
        }
      ]
    },
    {
      "cell_type": "code",
      "metadata": {
        "colab": {
          "base_uri": "https://localhost:8080/"
        },
        "id": "y-szGxWKbHOB",
        "outputId": "fcf6b9a2-0c34-46c7-b7b1-f17b5ebe5ed8"
      },
      "source": [
        "result1 = load_model.predict(tmp)\n",
        "print(result1)   # 모델작성할때 최종 레이어의 dense의 유닛갯수가 10개 (y_train값의 unique갯수와 같음)여서 그 10개에 각각의 비중이 출력됨\n",
        "print(np.argmax(result1))"
      ],
      "execution_count": null,
      "outputs": [
        {
          "output_type": "stream",
          "name": "stdout",
          "text": [
            "[[2.1974184e-22 2.2321767e-10 1.8314673e-12 1.1334455e-04 6.5584275e-22\n",
            "  9.9954420e-01 4.6571227e-13 1.0236165e-19 3.4240572e-04 5.8397393e-12]]\n",
            "5\n"
          ]
        }
      ]
    },
    {
      "cell_type": "code",
      "metadata": {
        "id": "H1G-LDAbbO_v"
      },
      "source": [
        ""
      ],
      "execution_count": null,
      "outputs": []
    }
  ]
}