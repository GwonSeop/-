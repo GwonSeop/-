{
  "nbformat": 4,
  "nbformat_minor": 0,
  "metadata": {
    "accelerator": "GPU",
    "colab": {
      "name": "3. 실습문제_타이타닉인공신경망.ipynb",
      "provenance": [],
      "collapsed_sections": []
    },
    "kernelspec": {
      "display_name": "Python 3",
      "language": "python",
      "name": "python3"
    },
    "language_info": {
      "codemirror_mode": {
        "name": "ipython",
        "version": 3
      },
      "file_extension": ".py",
      "mimetype": "text/x-python",
      "name": "python",
      "nbconvert_exporter": "python",
      "pygments_lexer": "ipython3",
      "version": "3.8.8"
    }
  },
  "cells": [
    {
      "cell_type": "markdown",
      "metadata": {
        "id": "FR73btk2zeeT"
      },
      "source": [
        "# 텐서플로우를 이용한 분류분석"
      ]
    },
    {
      "cell_type": "code",
      "metadata": {
        "id": "bvtdvoiFzhqI"
      },
      "source": [
        "import tensorflow as tf    # 구글이 제공하는 인공지능 관련 함수가 제공되는 텐서2.0으로 세팅\n",
        "import pandas as pd    #행열로 구성되어 있는 데이터베이스 자료를 처리하는 모듈\n",
        "import matplotlib.pyplot as plt   # 차트제공하는 모듈"
      ],
      "execution_count": 1,
      "outputs": []
    },
    {
      "cell_type": "code",
      "metadata": {
        "id": "uMBRaJHzc0PK"
      },
      "source": [
        "## 코렙 드라이브 마운트합니다.\n"
      ],
      "execution_count": null,
      "outputs": []
    },
    {
      "cell_type": "code",
      "metadata": {
        "id": "Y__ZlDXlc-la",
        "outputId": "54731025-2306-4b4e-d62c-e58dbea39356",
        "colab": {
          "base_uri": "https://localhost:8080/"
        }
      },
      "source": [
        "from google.colab import drive\n",
        "drive.mount('/content/drive')"
      ],
      "execution_count": 5,
      "outputs": [
        {
          "output_type": "stream",
          "name": "stdout",
          "text": [
            "Drive already mounted at /content/drive; to attempt to forcibly remount, call drive.mount(\"/content/drive\", force_remount=True).\n"
          ]
        }
      ]
    },
    {
      "cell_type": "code",
      "metadata": {
        "colab": {
          "base_uri": "https://localhost:8080/",
          "height": 448
        },
        "id": "VW63n_PU0PL3",
        "outputId": "975ebbd3-4a0c-4cf0-9b43-69676aa8725e"
      },
      "source": [
        "\n",
        "df = pd.read_excel('titanic.xls')\n",
        "df.head()"
      ],
      "execution_count": 7,
      "outputs": [
        {
          "output_type": "execute_result",
          "data": {
            "text/html": [
              "<div>\n",
              "<style scoped>\n",
              "    .dataframe tbody tr th:only-of-type {\n",
              "        vertical-align: middle;\n",
              "    }\n",
              "\n",
              "    .dataframe tbody tr th {\n",
              "        vertical-align: top;\n",
              "    }\n",
              "\n",
              "    .dataframe thead th {\n",
              "        text-align: right;\n",
              "    }\n",
              "</style>\n",
              "<table border=\"1\" class=\"dataframe\">\n",
              "  <thead>\n",
              "    <tr style=\"text-align: right;\">\n",
              "      <th></th>\n",
              "      <th>pclass</th>\n",
              "      <th>survived</th>\n",
              "      <th>name</th>\n",
              "      <th>sex</th>\n",
              "      <th>age</th>\n",
              "      <th>sibsp</th>\n",
              "      <th>parch</th>\n",
              "      <th>ticket</th>\n",
              "      <th>fare</th>\n",
              "      <th>cabin</th>\n",
              "      <th>embarked</th>\n",
              "      <th>boat</th>\n",
              "      <th>body</th>\n",
              "      <th>home.dest</th>\n",
              "    </tr>\n",
              "  </thead>\n",
              "  <tbody>\n",
              "    <tr>\n",
              "      <th>0</th>\n",
              "      <td>1</td>\n",
              "      <td>1</td>\n",
              "      <td>Allen, Miss. Elisabeth Walton</td>\n",
              "      <td>female</td>\n",
              "      <td>29.0000</td>\n",
              "      <td>0</td>\n",
              "      <td>0</td>\n",
              "      <td>24160</td>\n",
              "      <td>211.3375</td>\n",
              "      <td>B5</td>\n",
              "      <td>S</td>\n",
              "      <td>2</td>\n",
              "      <td>NaN</td>\n",
              "      <td>St Louis, MO</td>\n",
              "    </tr>\n",
              "    <tr>\n",
              "      <th>1</th>\n",
              "      <td>1</td>\n",
              "      <td>1</td>\n",
              "      <td>Allison, Master. Hudson Trevor</td>\n",
              "      <td>male</td>\n",
              "      <td>0.9167</td>\n",
              "      <td>1</td>\n",
              "      <td>2</td>\n",
              "      <td>113781</td>\n",
              "      <td>151.5500</td>\n",
              "      <td>C22 C26</td>\n",
              "      <td>S</td>\n",
              "      <td>11</td>\n",
              "      <td>NaN</td>\n",
              "      <td>Montreal, PQ / Chesterville, ON</td>\n",
              "    </tr>\n",
              "    <tr>\n",
              "      <th>2</th>\n",
              "      <td>1</td>\n",
              "      <td>0</td>\n",
              "      <td>Allison, Miss. Helen Loraine</td>\n",
              "      <td>female</td>\n",
              "      <td>2.0000</td>\n",
              "      <td>1</td>\n",
              "      <td>2</td>\n",
              "      <td>113781</td>\n",
              "      <td>151.5500</td>\n",
              "      <td>C22 C26</td>\n",
              "      <td>S</td>\n",
              "      <td>NaN</td>\n",
              "      <td>NaN</td>\n",
              "      <td>Montreal, PQ / Chesterville, ON</td>\n",
              "    </tr>\n",
              "    <tr>\n",
              "      <th>3</th>\n",
              "      <td>1</td>\n",
              "      <td>0</td>\n",
              "      <td>Allison, Mr. Hudson Joshua Creighton</td>\n",
              "      <td>male</td>\n",
              "      <td>30.0000</td>\n",
              "      <td>1</td>\n",
              "      <td>2</td>\n",
              "      <td>113781</td>\n",
              "      <td>151.5500</td>\n",
              "      <td>C22 C26</td>\n",
              "      <td>S</td>\n",
              "      <td>NaN</td>\n",
              "      <td>135.0</td>\n",
              "      <td>Montreal, PQ / Chesterville, ON</td>\n",
              "    </tr>\n",
              "    <tr>\n",
              "      <th>4</th>\n",
              "      <td>1</td>\n",
              "      <td>0</td>\n",
              "      <td>Allison, Mrs. Hudson J C (Bessie Waldo Daniels)</td>\n",
              "      <td>female</td>\n",
              "      <td>25.0000</td>\n",
              "      <td>1</td>\n",
              "      <td>2</td>\n",
              "      <td>113781</td>\n",
              "      <td>151.5500</td>\n",
              "      <td>C22 C26</td>\n",
              "      <td>S</td>\n",
              "      <td>NaN</td>\n",
              "      <td>NaN</td>\n",
              "      <td>Montreal, PQ / Chesterville, ON</td>\n",
              "    </tr>\n",
              "  </tbody>\n",
              "</table>\n",
              "</div>"
            ],
            "text/plain": [
              "   pclass  survived  ...   body                        home.dest\n",
              "0       1         1  ...    NaN                     St Louis, MO\n",
              "1       1         1  ...    NaN  Montreal, PQ / Chesterville, ON\n",
              "2       1         0  ...    NaN  Montreal, PQ / Chesterville, ON\n",
              "3       1         0  ...  135.0  Montreal, PQ / Chesterville, ON\n",
              "4       1         0  ...    NaN  Montreal, PQ / Chesterville, ON\n",
              "\n",
              "[5 rows x 14 columns]"
            ]
          },
          "metadata": {},
          "execution_count": 7
        }
      ]
    },
    {
      "cell_type": "code",
      "metadata": {
        "colab": {
          "base_uri": "https://localhost:8080/"
        },
        "id": "cyGDueA73rRB",
        "outputId": "a50ec3a5-23f6-4d6f-c6fc-57a08fc936ff"
      },
      "source": [
        "df.info()"
      ],
      "execution_count": 8,
      "outputs": [
        {
          "output_type": "stream",
          "name": "stdout",
          "text": [
            "<class 'pandas.core.frame.DataFrame'>\n",
            "RangeIndex: 1309 entries, 0 to 1308\n",
            "Data columns (total 14 columns):\n",
            " #   Column     Non-Null Count  Dtype  \n",
            "---  ------     --------------  -----  \n",
            " 0   pclass     1309 non-null   int64  \n",
            " 1   survived   1309 non-null   int64  \n",
            " 2   name       1309 non-null   object \n",
            " 3   sex        1309 non-null   object \n",
            " 4   age        1046 non-null   float64\n",
            " 5   sibsp      1309 non-null   int64  \n",
            " 6   parch      1309 non-null   int64  \n",
            " 7   ticket     1309 non-null   object \n",
            " 8   fare       1308 non-null   float64\n",
            " 9   cabin      295 non-null    object \n",
            " 10  embarked   1307 non-null   object \n",
            " 11  boat       486 non-null    object \n",
            " 12  body       121 non-null    float64\n",
            " 13  home.dest  745 non-null    object \n",
            "dtypes: float64(3), int64(4), object(7)\n",
            "memory usage: 143.3+ KB\n"
          ]
        }
      ]
    },
    {
      "cell_type": "markdown",
      "metadata": {
        "id": "WcWlZKCr0z2f"
      },
      "source": [
        "## [문제] 사이킷런 Label Encoding을 이용하여 성별을 0, 1로 변경함\n",
        "![image.png](attachment:image.png)"
      ]
    },
    {
      "cell_type": "code",
      "metadata": {
        "id": "Sc_Agdcn0nOU"
      },
      "source": [
        "## 성별변경\n",
        "from sklearn.preprocessing import LabelEncoder\n",
        "labelen=LabelEncoder()\n",
        "df['sex']= labelen.fit_transform(df['sex'])   # f= 0, m =1로\n",
        "#df['sex']=[0 if x=='female' else 1 for x in df['sex']]"
      ],
      "execution_count": 11,
      "outputs": []
    },
    {
      "cell_type": "markdown",
      "metadata": {
        "id": "yWC3zAjic0PQ"
      },
      "source": [
        "## [문제] 데이터 type float64=> float32로 변경 \n",
        "## [문제]age,sibsp,parch,fare Null값 제거\n"
      ]
    },
    {
      "cell_type": "code",
      "metadata": {
        "id": "yYIlSD5cI9Wo",
        "outputId": "ec7fb701-65cb-47d3-e44e-5cc635191b82",
        "colab": {
          "base_uri": "https://localhost:8080/"
        }
      },
      "source": [
        "# 데이터 타입 변경\n",
        "df.info()\n"
      ],
      "execution_count": 12,
      "outputs": [
        {
          "output_type": "stream",
          "name": "stdout",
          "text": [
            "<class 'pandas.core.frame.DataFrame'>\n",
            "RangeIndex: 1309 entries, 0 to 1308\n",
            "Data columns (total 14 columns):\n",
            " #   Column     Non-Null Count  Dtype  \n",
            "---  ------     --------------  -----  \n",
            " 0   pclass     1309 non-null   int64  \n",
            " 1   survived   1309 non-null   int64  \n",
            " 2   name       1309 non-null   object \n",
            " 3   sex        1309 non-null   int64  \n",
            " 4   age        1046 non-null   float64\n",
            " 5   sibsp      1309 non-null   int64  \n",
            " 6   parch      1309 non-null   int64  \n",
            " 7   ticket     1309 non-null   object \n",
            " 8   fare       1308 non-null   float64\n",
            " 9   cabin      295 non-null    object \n",
            " 10  embarked   1307 non-null   object \n",
            " 11  boat       486 non-null    object \n",
            " 12  body       121 non-null    float64\n",
            " 13  home.dest  745 non-null    object \n",
            "dtypes: float64(3), int64(5), object(6)\n",
            "memory usage: 143.3+ KB\n"
          ]
        }
      ]
    },
    {
      "cell_type": "code",
      "metadata": {
        "id": "mxh1kT9BgGeW"
      },
      "source": [
        "# 2019년 이전의 케라스 코드가 이 타입때문에 에러 나는 경우가 있음"
      ],
      "execution_count": null,
      "outputs": []
    },
    {
      "cell_type": "code",
      "metadata": {
        "id": "XLodfwxtfx1r"
      },
      "source": [
        "list_=['pclass','survived','sex','sibsp','parch','fare','age','body']\n",
        "for x in list_:\n",
        "  df[x]=df[x].astype('float32')\n",
        "  df=df[df[x].notna()]"
      ],
      "execution_count": 19,
      "outputs": []
    },
    {
      "cell_type": "code",
      "metadata": {
        "id": "1YFU6gLEgZhz",
        "outputId": "6de1f853-50f8-4300-bdaf-fcd577122952",
        "colab": {
          "base_uri": "https://localhost:8080/"
        }
      },
      "source": [
        "df.info()"
      ],
      "execution_count": 20,
      "outputs": [
        {
          "output_type": "stream",
          "name": "stdout",
          "text": [
            "<class 'pandas.core.frame.DataFrame'>\n",
            "Int64Index: 119 entries, 3 to 1306\n",
            "Data columns (total 14 columns):\n",
            " #   Column     Non-Null Count  Dtype  \n",
            "---  ------     --------------  -----  \n",
            " 0   pclass     119 non-null    float32\n",
            " 1   survived   119 non-null    float32\n",
            " 2   name       119 non-null    object \n",
            " 3   sex        119 non-null    float32\n",
            " 4   age        119 non-null    float32\n",
            " 5   sibsp      119 non-null    float32\n",
            " 6   parch      119 non-null    float32\n",
            " 7   ticket     119 non-null    object \n",
            " 8   fare       119 non-null    float32\n",
            " 9   cabin      32 non-null     object \n",
            " 10  embarked   119 non-null    object \n",
            " 11  boat       0 non-null      object \n",
            " 12  body       119 non-null    float32\n",
            " 13  home.dest  73 non-null     object \n",
            "dtypes: float32(8), object(6)\n",
            "memory usage: 10.2+ KB\n"
          ]
        }
      ]
    },
    {
      "cell_type": "code",
      "metadata": {
        "id": "DH5LKroOlyqS"
      },
      "source": [
        "# age,sibsp,parch,fare Null값 제거"
      ],
      "execution_count": null,
      "outputs": []
    },
    {
      "cell_type": "code",
      "metadata": {
        "colab": {
          "base_uri": "https://localhost:8080/"
        },
        "id": "9jVmngyPJo_m",
        "outputId": "c8939c7b-1362-4c7b-bb0c-0346b703c0f1"
      },
      "source": [
        "df.info()"
      ],
      "execution_count": null,
      "outputs": [
        {
          "name": "stdout",
          "output_type": "stream",
          "text": [
            "<class 'pandas.core.frame.DataFrame'>\n",
            "Int64Index: 1045 entries, 0 to 1308\n",
            "Data columns (total 14 columns):\n",
            " #   Column     Non-Null Count  Dtype  \n",
            "---  ------     --------------  -----  \n",
            " 0   pclass     1045 non-null   float64\n",
            " 1   survived   1045 non-null   float64\n",
            " 2   name       1045 non-null   object \n",
            " 3   sex        1045 non-null   float64\n",
            " 4   age        1045 non-null   float64\n",
            " 5   sibsp      1045 non-null   float64\n",
            " 6   parch      1045 non-null   float64\n",
            " 7   ticket     1045 non-null   object \n",
            " 8   fare       1045 non-null   float64\n",
            " 9   cabin      272 non-null    object \n",
            " 10  embarked   1043 non-null   object \n",
            " 11  boat       417 non-null    object \n",
            " 12  body       119 non-null    float64\n",
            " 13  home.dest  685 non-null    object \n",
            "dtypes: float64(8), object(6)\n",
            "memory usage: 122.5+ KB\n"
          ]
        }
      ]
    },
    {
      "cell_type": "markdown",
      "metadata": {
        "id": "WJudoF8hc0PT"
      },
      "source": [
        "## x,y 데이터 분할"
      ]
    },
    {
      "cell_type": "code",
      "metadata": {
        "colab": {
          "base_uri": "https://localhost:8080/"
        },
        "id": "eygpGUqg03r7",
        "outputId": "bb552b8a-0857-4ce1-f7ea-4a04de349cf7"
      },
      "source": [
        "y = df['survived'].values  \n",
        "x = df.values[:, [0,3,4,5,6,8]]\n",
        "\n",
        "#x = mushrooms.drop(['class'], axis=1) #axis는 열 드롭, 생략시 행 드롭\n",
        "#x = mushrooms.drop(['class'], axis=1).values로  numpy형식으로 보내도됨\n",
        "print(y[:5])   #class를 y값으로\n",
        "print(x[:5])   #class를 뺀 나머지를 x값으로 잡음. \n"
      ],
      "execution_count": 30,
      "outputs": [
        {
          "output_type": "stream",
          "name": "stdout",
          "text": [
            "[0. 0. 0. 0. 0.]\n",
            "[[1.0 1.0 30.0 1.0 2.0 151.5500030517578]\n",
            " [1.0 1.0 71.0 0.0 0.0 49.50419998168945]\n",
            " [1.0 1.0 47.0 1.0 0.0 227.52499389648438]\n",
            " [1.0 1.0 25.0 0.0 0.0 26.0]\n",
            " [1.0 1.0 48.0 0.0 0.0 50.49580001831055]]\n"
          ]
        }
      ]
    },
    {
      "cell_type": "code",
      "metadata": {
        "colab": {
          "base_uri": "https://localhost:8080/",
          "height": 343
        },
        "id": "_c6ff16g2R70",
        "outputId": "5af7f231-8c69-4c51-944b-27f1d916eeb3"
      },
      "source": [
        "plt.hist(y)"
      ],
      "execution_count": 22,
      "outputs": [
        {
          "output_type": "execute_result",
          "data": {
            "text/plain": [
              "(array([  0.,   0.,   0.,   0.,   0., 119.,   0.,   0.,   0.,   0.]),\n",
              " array([-0.5, -0.4, -0.3, -0.2, -0.1,  0. ,  0.1,  0.2,  0.3,  0.4,  0.5],\n",
              "       dtype=float32),\n",
              " <a list of 10 Patch objects>)"
            ]
          },
          "metadata": {},
          "execution_count": 22
        },
        {
          "output_type": "display_data",
          "data": {
            "image/png": "[encoded data removed]",
            "text/plain": [
              "<Figure size 432x288 with 1 Axes>"
            ]
          },
          "metadata": {
            "needs_background": "light"
          }
        }
      ]
    },
    {
      "cell_type": "markdown",
      "metadata": {
        "id": "NG43slq2kxuw"
      },
      "source": [
        "# x,y값 변환\n",
        "- 아래와 같은 에러 대처법\n",
        "- Failed to convert a NumPy array to a Tensor (Unsupported object type float)"
      ]
    },
    {
      "cell_type": "code",
      "metadata": {
        "id": "8WDK9BwikwTd"
      },
      "source": [
        "x=np.asarray(x).astype(np.float32)\n",
        "y=np.asarray(y).astype(np.float32)"
      ],
      "execution_count": 34,
      "outputs": []
    },
    {
      "cell_type": "markdown",
      "metadata": {
        "id": "uKUwWlsec0PV"
      },
      "source": [
        "## 트레이닝 테스트 데이터 나누기"
      ]
    },
    {
      "cell_type": "code",
      "metadata": {
        "id": "Opz6-4HB2zkP"
      },
      "source": [
        "from sklearn.model_selection import train_test_split\n",
        "import numpy as np\n",
        "x_train , x_test , y_train , y_test = train_test_split(x, y,test_size=0.2,random_state=42)"
      ],
      "execution_count": 35,
      "outputs": []
    },
    {
      "cell_type": "markdown",
      "metadata": {
        "id": "xCRY180N36mo"
      },
      "source": [
        "# 문제_ 모델 제작"
      ]
    },
    {
      "cell_type": "code",
      "metadata": {
        "id": "edourLIEhnil"
      },
      "source": [
        "###타이타닉 데이터의 x값은 (첫 layer의 input_shape임)\n",
        "###타이타닉 데이터의 y값은 (최종 layer)\n",
        "# 선형회귀, 출력값1, 활성화함수 없음\n",
        "#이항분류,출력값 1 활성화함수 시그모이드\n",
        "# 이항분류를 원핫인코딩시키면 출력값 2 활성화 함수 softmax\n",
        "#다항분류는 원핫인코딩해서 해야함 출력값은 다항분류갯수 활성화함수 softmax"
      ],
      "execution_count": null,
      "outputs": []
    },
    {
      "cell_type": "code",
      "metadata": {
        "id": "xfZGG9853-vj"
      },
      "source": [
        "import tensorflow as tf\n",
        "model=tf.keras.Sequential([\n",
        "                           tf.keras.layers.Dense(units=40, activation=\"relu\", input_shape=(6,)),\n",
        "                           tf.keras.layers. Dense(units=5, activation=\"relu\"),\n",
        "                           tf.keras.layers. Dense(units=1, activation=\"sigmoid\")\n",
        "])"
      ],
      "execution_count": 36,
      "outputs": []
    },
    {
      "cell_type": "code",
      "metadata": {
        "id": "fkPL46lq4QM1",
        "outputId": "9ceb0341-22b0-45f9-e1ae-1563767f7794",
        "colab": {
          "base_uri": "https://localhost:8080/"
        }
      },
      "source": [
        "model.compile(optimizer=tf.keras.optimizers.Adam(lr=0.07),\n",
        "              loss='binary_crossentropy', metrics=['acc'])"
      ],
      "execution_count": 37,
      "outputs": [
        {
          "output_type": "stream",
          "name": "stderr",
          "text": [
            "/usr/local/lib/python3.7/dist-packages/keras/optimizer_v2/optimizer_v2.py:356: UserWarning: The `lr` argument is deprecated, use `learning_rate` instead.\n",
            "  \"The `lr` argument is deprecated, use `learning_rate` instead.\")\n"
          ]
        }
      ]
    },
    {
      "cell_type": "code",
      "metadata": {
        "colab": {
          "base_uri": "https://localhost:8080/"
        },
        "id": "mGXXp9Y75NDJ",
        "outputId": "ac9f98e6-0493-49cb-f15e-f5b056d267bd"
      },
      "source": [
        "model.summary()\n",
        "\n",
        "#문제 Param의 출력된 갯수를 계산하여 보세요"
      ],
      "execution_count": 38,
      "outputs": [
        {
          "output_type": "stream",
          "name": "stdout",
          "text": [
            "Model: \"sequential_1\"\n",
            "_________________________________________________________________\n",
            "Layer (type)                 Output Shape              Param #   \n",
            "=================================================================\n",
            "dense_3 (Dense)              (None, 40)                280       \n",
            "_________________________________________________________________\n",
            "dense_4 (Dense)              (None, 5)                 205       \n",
            "_________________________________________________________________\n",
            "dense_5 (Dense)              (None, 1)                 6         \n",
            "=================================================================\n",
            "Total params: 491\n",
            "Trainable params: 491\n",
            "Non-trainable params: 0\n",
            "_________________________________________________________________\n"
          ]
        }
      ]
    },
    {
      "cell_type": "code",
      "metadata": {
        "colab": {
          "base_uri": "https://localhost:8080/"
        },
        "id": "3dLLUgY55u8q",
        "outputId": "92ddd290-0b23-4234-a462-9a29695b10a4"
      },
      "source": [
        "#다른 신경망 네트워크들과 비슷하게 훈련은 fit메소드를 통해 실행하며, \n",
        "# EarlyStopping이라는 callback 함수를 사용하여 val_loss가 3번 이상 연속으로 증가한다면 멈추고 \n",
        "# 최저의 loss를 사용하도록 선언함\n",
        "\n",
        "history = model.fit(x_train, y_train, epochs=25, batch_size=1, validation_split=0.25, \n",
        "                    callbacks=[tf.keras.callbacks.EarlyStopping(patience=3, monitor='val_loss')])\n"
      ],
      "execution_count": 39,
      "outputs": [
        {
          "output_type": "stream",
          "name": "stdout",
          "text": [
            "Epoch 1/25\n",
            "71/71 [==============================] - 3s 6ms/step - loss: 0.0029 - acc: 1.0000 - val_loss: 0.0000e+00 - val_acc: 1.0000\n",
            "Epoch 2/25\n",
            "71/71 [==============================] - 0s 4ms/step - loss: 0.0000e+00 - acc: 1.0000 - val_loss: 0.0000e+00 - val_acc: 1.0000\n",
            "Epoch 3/25\n",
            "71/71 [==============================] - 0s 3ms/step - loss: 0.0000e+00 - acc: 1.0000 - val_loss: 0.0000e+00 - val_acc: 1.0000\n",
            "Epoch 4/25\n",
            "71/71 [==============================] - 0s 4ms/step - loss: 0.0000e+00 - acc: 1.0000 - val_loss: 0.0000e+00 - val_acc: 1.0000\n"
          ]
        }
      ]
    },
    {
      "cell_type": "code",
      "metadata": {
        "colab": {
          "base_uri": "https://localhost:8080/",
          "height": 502
        },
        "id": "0L2KBeVYxt8i",
        "outputId": "ae70a225-fe44-42b7-99ab-c0ac8d5928c7"
      },
      "source": [
        "plt.figure(figsize=(12,4))\n",
        "\n",
        "plt.figure(figsize=(12,8))\n",
        "plt.plot(history.history['loss'])\n",
        "plt.plot(history.history['val_loss'])\n",
        "plt.plot(history.history['acc'])\n",
        "plt.plot(history.history['val_acc'])\n",
        "plt.legend(['loss','val_loss', 'accuracy','val_acc'])\n",
        "plt.show()\n"
      ],
      "execution_count": 40,
      "outputs": [
        {
          "output_type": "display_data",
          "data": {
            "text/plain": [
              "<Figure size 864x288 with 0 Axes>"
            ]
          },
          "metadata": {}
        },
        {
          "output_type": "display_data",
          "data": {
            "image/png": "[encoded data removed]",
            "text/plain": [
              "<Figure size 864x576 with 1 Axes>"
            ]
          },
          "metadata": {
            "needs_background": "light"
          }
        }
      ]
    },
    {
      "cell_type": "code",
      "metadata": {
        "colab": {
          "base_uri": "https://localhost:8080/"
        },
        "id": "WmC83xO85_NN",
        "outputId": "0b56450f-da72-4002-ce8c-b2af36d4201d"
      },
      "source": [
        "# # 모델 측정\n",
        "# 손실값, 정확도\n",
        "model.evaluate(x_test, y_test)"
      ],
      "execution_count": 43,
      "outputs": [
        {
          "output_type": "stream",
          "name": "stdout",
          "text": [
            "1/1 [==============================] - 0s 141ms/step - loss: 0.0000e+00 - acc: 1.0000\n"
          ]
        },
        {
          "output_type": "execute_result",
          "data": {
            "text/plain": [
              "[0.0, 1.0]"
            ]
          },
          "metadata": {},
          "execution_count": 43
        }
      ]
    },
    {
      "cell_type": "code",
      "metadata": {
        "colab": {
          "base_uri": "https://localhost:8080/"
        },
        "id": "GxgS_iu46IPV",
        "outputId": "85451074-73b0-4a00-9abc-c03a77205913"
      },
      "source": [
        "# 모델 예측, 아래의 x0~x8의 데이터를 newX값으로 받아서 예측하여 봅니다.\n",
        "x0_pclass=1\n",
        "x3_sex=1\n",
        "x4_age=20\n",
        "x5_sibsp=3\n",
        "x6_parch=2\n",
        "x8_fare=2\n",
        "newx=[[x0_pclass,x3_sex,x4_age,x5_sibsp,x6_parch,x8_fare]]\n",
        "model.predict(newx)"
      ],
      "execution_count": 44,
      "outputs": [
        {
          "output_type": "execute_result",
          "data": {
            "text/plain": [
              "array([[0.]], dtype=float32)"
            ]
          },
          "metadata": {},
          "execution_count": 44
        }
      ]
    },
    {
      "cell_type": "code",
      "metadata": {
        "id": "224FMlyEnHr_"
      },
      "source": [
        "\n",
        "# 타이타닉 h5모델로 저장"
      ],
      "execution_count": null,
      "outputs": []
    },
    {
      "cell_type": "code",
      "metadata": {
        "id": "R2V4asbinG6u",
        "outputId": "100b31d1-16ce-4295-d9a6-bb210dedad09",
        "colab": {
          "base_uri": "https://localhost:8080/"
        }
      },
      "source": [
        "model.predict(x_test[0:1])"
      ],
      "execution_count": 46,
      "outputs": [
        {
          "output_type": "execute_result",
          "data": {
            "text/plain": [
              "array([[0.]], dtype=float32)"
            ]
          },
          "metadata": {},
          "execution_count": 46
        }
      ]
    },
    {
      "cell_type": "code",
      "metadata": {
        "id": "o-_PxXkInPMT"
      },
      "source": [
        ""
      ],
      "execution_count": null,
      "outputs": []
    }
  ]
}