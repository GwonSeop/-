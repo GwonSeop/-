{
  "nbformat": 4,
  "nbformat_minor": 0,
  "metadata": {
    "colab": {
      "name": "음성 TEST.ipynb",
      "provenance": [],
      "collapsed_sections": []
    },
    "kernelspec": {
      "name": "python3",
      "display_name": "Python 3"
    },
    "language_info": {
      "name": "python"
    }
  },
  "cells": [
    {
      "cell_type": "markdown",
      "metadata": {
        "id": "80kntA-rHxU1"
      },
      "source": [
        "### SpeechRecognition 을 이용하여 음성 인식"
      ]
    },
    {
      "cell_type": "code",
      "metadata": {
        "colab": {
          "base_uri": "https://localhost:8080/"
        },
        "id": "O0FWMGnqGS5u",
        "outputId": "d533c04c-d068-4a5f-d2ee-d36951dbf62e"
      },
      "source": [
        "!pip install SpeechRecognition"
      ],
      "execution_count": 1,
      "outputs": [
        {
          "output_type": "stream",
          "name": "stdout",
          "text": [
            "Collecting SpeechRecognition\n",
            "  Downloading SpeechRecognition-3.8.1-py2.py3-none-any.whl (32.8 MB)\n",
            "\u001b[K     |████████████████████████████████| 32.8 MB 80 kB/s \n",
            "\u001b[?25hInstalling collected packages: SpeechRecognition\n",
            "Successfully installed SpeechRecognition-3.8.1\n"
          ]
        }
      ]
    },
    {
      "cell_type": "code",
      "metadata": {
        "colab": {
          "base_uri": "https://localhost:8080/",
          "height": 35
        },
        "id": "1ADfX6H2HXPv",
        "outputId": "91dcb707-404e-4b45-f4ae-92ad38c58dba"
      },
      "source": [
        "import speech_recognition as sr\n",
        "sr.__version__"
      ],
      "execution_count": 2,
      "outputs": [
        {
          "output_type": "execute_result",
          "data": {
            "application/vnd.google.colaboratory.intrinsic+json": {
              "type": "string"
            },
            "text/plain": [
              "'3.8.1'"
            ]
          },
          "metadata": {},
          "execution_count": 2
        }
      ]
    },
    {
      "cell_type": "markdown",
      "metadata": {
        "id": "Y7tpLsbCIEl3"
      },
      "source": [
        "#### Recognizer 인스턴스\n",
        "- recognize_bing(): Microsoft Bing Speech\n",
        "\n",
        "- recognize_google(): Google Web Speech API\n",
        "\n",
        "- recognize_google_cloud(): Google Cloud Speech - requires installation of the google-cloud-speech package\n",
        "\n",
        "- recognize_houndify(): Houndify by SoundHound\n",
        "\n",
        "- recognize_ibm(): IBM Speech to Text\n",
        "\n",
        "- recognize_sphinx(): CMU Sphinx - requires installing PocketSphinx\n",
        "\n",
        "- recognize_wit(): Wit.ai"
      ]
    },
    {
      "cell_type": "code",
      "metadata": {
        "id": "F59MhuG5HwEz"
      },
      "source": [
        "r = sr.Recognizer()"
      ],
      "execution_count": 3,
      "outputs": []
    },
    {
      "cell_type": "markdown",
      "metadata": {
        "id": "1f4_N9y0IWGS"
      },
      "source": [
        "Audio 파일에 대한 음성 인식\n",
        "SpeechRecognition 패키지가 지원하는 오디오 파일 포맷은 다음과 같습니다.\n",
        "\n",
        "WAV: must be in PCM/LPCM format\n",
        "\n",
        "AIFF\n",
        "\n",
        "AIFF-C\n",
        "\n",
        "FLAC: must be native FLAC format; OGG-FLAC is not supported"
      ]
    },
    {
      "cell_type": "code",
      "metadata": {
        "id": "E0MqYbd8IVnL"
      },
      "source": [
        "hello = sr.AudioFile('hello.wav')\n",
        "with hello as source:\n",
        "  audio = r.record(source)"
      ],
      "execution_count": 4,
      "outputs": []
    },
    {
      "cell_type": "code",
      "metadata": {
        "colab": {
          "base_uri": "https://localhost:8080/"
        },
        "id": "8SMdQjakIpEG",
        "outputId": "54c8275b-90e9-44ce-e688-8eda8a377649"
      },
      "source": [
        "type(audio)"
      ],
      "execution_count": 5,
      "outputs": [
        {
          "output_type": "execute_result",
          "data": {
            "text/plain": [
              "speech_recognition.AudioData"
            ]
          },
          "metadata": {},
          "execution_count": 5
        }
      ]
    },
    {
      "cell_type": "code",
      "metadata": {
        "colab": {
          "base_uri": "https://localhost:8080/",
          "height": 35
        },
        "id": "U1Rp3FomIqHe",
        "outputId": "4e70b503-2c45-4f8c-e6c3-c7107018f707"
      },
      "source": [
        "text = r.recognize_google(audio, language='ko')\n",
        "text"
      ],
      "execution_count": 18,
      "outputs": [
        {
          "output_type": "execute_result",
          "data": {
            "application/vnd.google.colaboratory.intrinsic+json": {
              "type": "string"
            },
            "text/plain": [
              "'안녕하세요 오늘도 멋진 하루 되세요'"
            ]
          },
          "metadata": {},
          "execution_count": 18
        }
      ]
    },
    {
      "cell_type": "code",
      "metadata": {
        "id": "D1WUB0KqiCwV"
      },
      "source": [
        "a1 = sr.AudioFile('양파싫어.wav')\n",
        "with a1 as source:\n",
        "  s1 = r.record(source)"
      ],
      "execution_count": 21,
      "outputs": []
    },
    {
      "cell_type": "code",
      "metadata": {
        "colab": {
          "base_uri": "https://localhost:8080/",
          "height": 35
        },
        "id": "tMm2ULZSJquq",
        "outputId": "7b502dba-6f81-4dce-9e6b-cf3d77b97625"
      },
      "source": [
        "text = r.recognize_google(s1, language='ko')\n",
        "text"
      ],
      "execution_count": 22,
      "outputs": [
        {
          "output_type": "execute_result",
          "data": {
            "application/vnd.google.colaboratory.intrinsic+json": {
              "type": "string"
            },
            "text/plain": [
              "'저는 다 잘 먹긴 하는데 양파는 정말 싫어요'"
            ]
          },
          "metadata": {},
          "execution_count": 22
        }
      ]
    },
    {
      "cell_type": "code",
      "metadata": {
        "id": "67HlK8SCiLD1"
      },
      "source": [
        "a2 = sr.AudioFile('보조바퀴.wav')\n",
        "with a2 as source:\n",
        "  s2 = r.record(source)"
      ],
      "execution_count": 23,
      "outputs": []
    },
    {
      "cell_type": "code",
      "metadata": {
        "colab": {
          "base_uri": "https://localhost:8080/",
          "height": 35
        },
        "id": "0VF8BfKBjBdO",
        "outputId": "3c165227-8fe9-475c-c5fb-727f16200b70"
      },
      "source": [
        "text = r.recognize_google(s2, language='ko')\n",
        "text"
      ],
      "execution_count": 25,
      "outputs": [
        {
          "output_type": "execute_result",
          "data": {
            "application/vnd.google.colaboratory.intrinsic+json": {
              "type": "string"
            },
            "text/plain": [
              "'저는 여덟 살 때 처음 자전거 보조바퀴를 떼고 타 봤어요'"
            ]
          },
          "metadata": {},
          "execution_count": 25
        }
      ]
    },
    {
      "cell_type": "code",
      "metadata": {
        "id": "r_xYEhQZjGQg"
      },
      "source": [
        "a3 = sr.AudioFile('조용히해.wav')\n",
        "with a3 as source:\n",
        "  s3 = r.record(source)"
      ],
      "execution_count": 26,
      "outputs": []
    },
    {
      "cell_type": "code",
      "metadata": {
        "colab": {
          "base_uri": "https://localhost:8080/",
          "height": 35
        },
        "id": "quSnBvG5je2l",
        "outputId": "1c294f9a-3807-46f0-96b6-9cb44cf64046"
      },
      "source": [
        "text = r.recognize_google(s3, language='ko')\n",
        "text"
      ],
      "execution_count": 27,
      "outputs": [
        {
          "output_type": "execute_result",
          "data": {
            "application/vnd.google.colaboratory.intrinsic+json": {
              "type": "string"
            },
            "text/plain": [
              "'동생이 자려면 조용히 해야 해'"
            ]
          },
          "metadata": {},
          "execution_count": 27
        }
      ]
    },
    {
      "cell_type": "code",
      "metadata": {
        "colab": {
          "base_uri": "https://localhost:8080/",
          "height": 35
        },
        "id": "-EblfTDajh-t",
        "outputId": "07a046b9-9d45-4e7f-916c-7391431280f2"
      },
      "source": [
        "# 우진이는 일주일에 3,000원씩 용돈을 받는데요\n",
        "# 우진이는 일주일 3,000원씩 용돈을 봤는데요\n",
        "\n",
        "a4 = sr.AudioFile('용돈.wav')\n",
        "with a4 as source:\n",
        "  s4 = r.record(source)\n",
        "\n",
        "text = r.recognize_google(s4, language='ko')\n",
        "text"
      ],
      "execution_count": 28,
      "outputs": [
        {
          "output_type": "execute_result",
          "data": {
            "application/vnd.google.colaboratory.intrinsic+json": {
              "type": "string"
            },
            "text/plain": [
              "'우진이는 일주일 3,000원씩 용돈을 봤는데요'"
            ]
          },
          "metadata": {},
          "execution_count": 28
        }
      ]
    },
    {
      "cell_type": "code",
      "metadata": {
        "id": "3JeEnkGpkFhY"
      },
      "source": [
        ""
      ],
      "execution_count": null,
      "outputs": []
    }
  ]
}