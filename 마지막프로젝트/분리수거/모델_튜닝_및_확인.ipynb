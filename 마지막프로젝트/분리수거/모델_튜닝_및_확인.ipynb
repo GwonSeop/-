{
  "nbformat": 4,
  "nbformat_minor": 0,
  "metadata": {
    "colab": {
      "name": "모델 튜닝 및 확인.ipynb",
      "provenance": [],
      "collapsed_sections": []
    },
    "kernelspec": {
      "name": "python3",
      "display_name": "Python 3"
    },
    "language_info": {
      "name": "python"
    },
    "accelerator": "GPU"
  },
  "cells": [
    {
      "cell_type": "code",
      "metadata": {
        "id": "-uCtlSSvgl15"
      },
      "source": [
        "import matplotlib.pyplot as plt\n",
        "import numpy as np\n",
        "import os\n",
        "import PIL\n",
        "import tensorflow as tf\n",
        "\n",
        "from glob import glob\n",
        "from tensorflow import keras\n",
        "from tensorflow.keras import layers\n",
        "from tensorflow.keras.models import Sequential\n",
        "import pandas as pd\n",
        "import numpy as np\n",
        "import matplotlib.pyplot as plt\n",
        "import matplotlib.patches as patches\n",
        "\n",
        "from tqdm import tqdm\n",
        "from glob import glob\n",
        "\n",
        "import cv2\n",
        "import warnings\n",
        "import torch\n",
        "import json\n"
      ],
      "execution_count": null,
      "outputs": []
    },
    {
      "cell_type": "code",
      "metadata": {
        "id": "pigBNf7_f8jv"
      },
      "source": [
        "import random\n",
        "import numpy as np\n",
        "import os\n",
        "import cv2\n",
        "import glob\n",
        "from PIL import Image\n",
        "import PIL.ImageOps    "
      ],
      "execution_count": null,
      "outputs": []
    },
    {
      "cell_type": "code",
      "metadata": {
        "id": "qYYpBeNXeiJP"
      },
      "source": [
        "import pathlib\n",
        "\n",
        "path = pathlib.Path('/content/drive/MyDrive/모델')"
      ],
      "execution_count": null,
      "outputs": []
    },
    {
      "cell_type": "code",
      "metadata": {
        "colab": {
          "base_uri": "https://localhost:8080/",
          "height": 220
        },
        "id": "yYDdkYfOnf9U",
        "outputId": "1e886657-0e74-489f-f08a-130ade4799c3"
      },
      "source": [
        "val_ds = tf.keras.preprocessing.image_dataset_from_directory(\n",
        "  path,\n",
        "  validation_split=0.2,\n",
        "  subset=\"validation\",\n",
        "  seed=11,\n",
        "  batch_size=batch_size)"
      ],
      "execution_count": null,
      "outputs": [
        {
          "output_type": "error",
          "ename": "NameError",
          "evalue": "ignored",
          "traceback": [
            "\u001b[0;31m---------------------------------------------------------------------------\u001b[0m",
            "\u001b[0;31mNameError\u001b[0m                                 Traceback (most recent call last)",
            "\u001b[0;32m<ipython-input-4-c3de82409d0b>\u001b[0m in \u001b[0;36m<module>\u001b[0;34m()\u001b[0m\n\u001b[1;32m      4\u001b[0m   \u001b[0msubset\u001b[0m\u001b[0;34m=\u001b[0m\u001b[0;34m\"validation\"\u001b[0m\u001b[0;34m,\u001b[0m\u001b[0;34m\u001b[0m\u001b[0;34m\u001b[0m\u001b[0m\n\u001b[1;32m      5\u001b[0m   \u001b[0mseed\u001b[0m\u001b[0;34m=\u001b[0m\u001b[0;36m11\u001b[0m\u001b[0;34m,\u001b[0m\u001b[0;34m\u001b[0m\u001b[0;34m\u001b[0m\u001b[0m\n\u001b[0;32m----> 6\u001b[0;31m   batch_size=batch_size)\n\u001b[0m",
            "\u001b[0;31mNameError\u001b[0m: name 'batch_size' is not defined"
          ]
        }
      ]
    },
    {
      "cell_type": "code",
      "metadata": {
        "colab": {
          "base_uri": "https://localhost:8080/"
        },
        "id": "FtcTZO5Uno2E",
        "outputId": "5491d2df-66b4-4f14-e303-ac33a3555d93"
      },
      "source": [
        "class_names = train_ds.class_names\n",
        "print(class_names)"
      ],
      "execution_count": null,
      "outputs": [
        {
          "output_type": "stream",
          "name": "stdout",
          "text": [
            "['재활용가능데이터셋', '재활용불가능데이터셋']\n"
          ]
        }
      ]
    },
    {
      "cell_type": "code",
      "metadata": {
        "id": "O-Yp1sjvnuMF"
      },
      "source": [
        "# 정규화 작업\n",
        "\n",
        "normalization_layer = layers.experimental.preprocessing.Rescaling(1./255)"
      ],
      "execution_count": null,
      "outputs": []
    },
    {
      "cell_type": "code",
      "metadata": {
        "colab": {
          "base_uri": "https://localhost:8080/"
        },
        "id": "cd_QydYdnzCe",
        "outputId": "659c0ddd-e1dc-45a0-b8a7-d262e8e86d54"
      },
      "source": [
        "# 정규화 작업\n",
        "\n",
        "normalized_ds = train_ds.map(lambda x, y: (normalization_layer(x), y))\n",
        "image_batch, labels_batch = next(iter(normalized_ds))\n",
        "first_image = image_batch[0]\n",
        "\n",
        "print(np.min(first_image), np.max(first_image))"
      ],
      "execution_count": null,
      "outputs": [
        {
          "output_type": "stream",
          "name": "stdout",
          "text": [
            "0.0014939253 1.0\n"
          ]
        }
      ]
    },
    {
      "cell_type": "code",
      "metadata": {
        "id": "V-A-o4X-y2YJ"
      },
      "source": [
        "from tensorflow.keras.optimizers import Adam\n",
        "from tensorflow.keras.regularizers import l2\n"
      ],
      "execution_count": null,
      "outputs": []
    },
    {
      "cell_type": "code",
      "metadata": {
        "id": "7dfPQ6wPnbeM",
        "colab": {
          "base_uri": "https://localhost:8080/"
        },
        "outputId": "ac4e341e-66dd-4bd6-8b9e-5dc9521dcb0d"
      },
      "source": [
        "batch_size = 32\n",
        "train_ds = tf.keras.preprocessing.image_dataset_from_directory(\n",
        "  path,\n",
        "  validation_split=0.2,\n",
        "  subset=\"training\",\n",
        "  seed=11,\n",
        "  batch_size=batch_size)\n",
        "val_ds = tf.keras.preprocessing.image_dataset_from_directory(\n",
        "  path,\n",
        "  validation_split=0.2,\n",
        "  subset=\"validation\",\n",
        "  seed=11,\n",
        "  batch_size=batch_size)\n",
        "# 정규화 작업\n",
        "\n",
        "normalization_layer = layers.experimental.preprocessing.Rescaling(1./255)\n",
        "# 정규화 작업\n",
        "\n",
        "normalized_ds = train_ds.map(lambda x, y: (normalization_layer(x), y))\n",
        "image_batch, labels_batch = next(iter(normalized_ds))\n",
        "first_image = image_batch[0]\n",
        "\n",
        "print(np.min(first_image), np.max(first_image))"
      ],
      "execution_count": null,
      "outputs": [
        {
          "output_type": "stream",
          "name": "stdout",
          "text": [
            "Found 2902 files belonging to 2 classes.\n",
            "Using 2322 files for training.\n",
            "Found 2902 files belonging to 2 classes.\n",
            "Using 580 files for validation.\n",
            "0.0014939253 1.0\n"
          ]
        }
      ]
    },
    {
      "cell_type": "code",
      "metadata": {
        "id": "5jHc0M8en191"
      },
      "source": [
        "# 모델 작성\n",
        "# \n",
        "#num_classes = 2\n",
        "\n",
        "model = Sequential([\n",
        "  layers.experimental.preprocessing.Rescaling(1./255, input_shape=(256, 256, 3)), ### 입력 값을 새로운 범위로 재조정하는 전처리 레이어.\n",
        "  layers.Conv2D(16, 3, padding='same', activation='relu'),  ### 특정패턴의 특징이 어디서 나타나는지 확인\n",
        "  #layers.BatchNormalization(),\n",
        "#  layers.Conv2D(16, 3, padding='same', activation='relu', kernel_regularizer = l2(0.001)),\n",
        "  layers.MaxPooling2D(),\n",
        " # layers.BatchNormalization(),\n",
        " # layers.Conv2D(32, 20, padding='same', activation='relu'),\n",
        " # layers.MaxPooling2D(),\n",
        " # layers.Conv2D(32, 16, padding='same', activation='relu'),\n",
        " # layers.MaxPooling2D(),\n",
        "  layers.Conv2D(32, 3, padding='same', activation='relu'),\n",
        "  #layers.BatchNormalization(),\n",
        " # layers.Conv2D(32, 3, padding='same', activation='relu', kernel_regularizer = l2(0.001)),\n",
        "  layers.MaxPooling2D(),\n",
        " # layers.BatchNormalization(),\n",
        "  layers.Conv2D(64, 3, padding='same', activation='relu'),\n",
        "  #layers.BatchNormalization(),\n",
        " # layers.Conv2D(64, 3, padding='same', activation='relu', kernel_regularizer = l2(0.001)),\n",
        " # layers.Conv2D(32, 5, padding='same', activation='relu', kernel_regularizer = l2(0.001)),\n",
        "  layers.MaxPooling2D(),\n",
        " # layers.Dropout(0.2),\n",
        "  layers.Conv2D(128, 3, padding='same', activation='relu'),\n",
        "  #layers.BatchNormalization(),\n",
        " # layers.Conv2D(128, 3, padding='same', activation='relu', kernel_regularizer = l2(0.001)),\n",
        "  #layers.Conv2D(32, 3, padding='same', activation='relu', kernel_regularizer = l2(0.001)),\n",
        "  layers.MaxPooling2D(),\n",
        "  layers.Conv2D(256, 3, padding='same', activation='relu'),\n",
        "  layers.MaxPooling2D(),  \n",
        "  #layers.BatchNormalization(),\n",
        "  layers.Flatten(),\n",
        "  layers.Dense(2000, activation='relu'),\n",
        "  layers.Dense(2000, activation='relu'),\n",
        "#  layers.Dense(2000, activation='relu'),\n",
        "#  layers.Dense(128, activation='relu'),\n",
        "#  layers.Dense(128, activation='relu'),\n",
        "  layers.Dense(128, activation='relu'),    \n",
        "  layers.Dense(1, activation='sigmoid')\n",
        "])"
      ],
      "execution_count": null,
      "outputs": []
    },
    {
      "cell_type": "code",
      "metadata": {
        "id": "WuZ_HW2L9066"
      },
      "source": [
        "model = Sequential([\n",
        "  layers.experimental.preprocessing.Rescaling(1./255, input_shape=(256, 256, 3)), ### 입력 값을 새로운 범위로 재조정하는 전처리 레이어.\n",
        "  layers.Conv2D(16, 3, padding='same', activation='relu' ),  ### 특정패턴의 특징이 어디서 나타나는지 확인\n",
        "#  layers.BatchNormalization(),\n",
        "#  layers.Activation('relu'),\n",
        "#  layers.Conv2D(16, 3, padding='same', activation='relu', kernel_regularizer = l2(0.001)),\n",
        "  layers.MaxPooling2D(),\n",
        " # layers.BatchNormalization(),\n",
        " # layers.Conv2D(32, 20, padding='same', activation='relu'),\n",
        " # layers.MaxPooling2D(),\n",
        " # layers.Conv2D(32, 16, padding='same', activation='relu'),\n",
        " # layers.MaxPooling2D(),\n",
        "  layers.Conv2D(32, 3, padding='same'),\n",
        " # layers.Conv2D(32, 3, padding='same', activation='relu', kernel_regularizer = l2(0.001)),\n",
        "  layers.BatchNormalization(),\n",
        "  layers.Activation('relu'),\n",
        "  layers.MaxPooling2D(),\n",
        " # layers.BatchNormalization(),\n",
        "  layers.Conv2D(64, 3, padding='same'),\n",
        "  layers.BatchNormalization(),\n",
        "  layers.Activation('relu'),\n",
        " # layers.Conv2D(64, 3, padding='same', activation='relu', kernel_regularizer = l2(0.001)),\n",
        " # layers.Conv2D(32, 5, padding='same', activation='relu', kernel_regularizer = l2(0.001)),\n",
        "  layers.MaxPooling2D(),\n",
        " # layers.Dropout(0.2),\n",
        "  layers.Conv2D(128, 3, padding='same'),\n",
        "  layers.BatchNormalization(),\n",
        "  layers.Activation('relu'),\n",
        " # layers.Conv2D(128, 3, padding='same', activation='relu', kernel_regularizer = l2(0.001)),\n",
        "  #layers.Conv2D(32, 3, padding='same', activation='relu', kernel_regularizer = l2(0.001)),\n",
        "  layers.MaxPooling2D(),\n",
        "  #layers.BatchNormalization(),\n",
        "  layers.Flatten(),\n",
        "  layers.Dense(2000, activation='relu'),\n",
        "  layers.Dense(2000, activation='relu'),\n",
        "#  layers.Dense(2000, activation='relu'),\n",
        "#  layers.Dense(128, activation='relu'),\n",
        "#  layers.Dense(128, activation='relu'),\n",
        "  layers.Dense(128, activation='relu'),    \n",
        "  layers.Dense(1, activation='sigmoid')\n",
        "])"
      ],
      "execution_count": null,
      "outputs": []
    },
    {
      "cell_type": "code",
      "metadata": {
        "colab": {
          "base_uri": "https://localhost:8080/",
          "height": 200
        },
        "id": "9uYPdvZe9-xy",
        "outputId": "ead5b19f-dd9b-4199-8027-2a99349049a4"
      },
      "source": [
        ""
      ],
      "execution_count": null,
      "outputs": [
        {
          "output_type": "error",
          "ename": "AttributeError",
          "evalue": "ignored",
          "traceback": [
            "\u001b[0;31m---------------------------------------------------------------------------\u001b[0m",
            "\u001b[0;31mAttributeError\u001b[0m                            Traceback (most recent call last)",
            "\u001b[0;32m<ipython-input-40-e84edd8a3564>\u001b[0m in \u001b[0;36m<module>\u001b[0;34m()\u001b[0m\n\u001b[1;32m      1\u001b[0m \u001b[0mmodel\u001b[0m \u001b[0;34m=\u001b[0m \u001b[0mSequential\u001b[0m\u001b[0;34m(\u001b[0m\u001b[0;34m)\u001b[0m\u001b[0;34m\u001b[0m\u001b[0;34m\u001b[0m\u001b[0m\n\u001b[0;32m----> 2\u001b[0;31m \u001b[0mmodel\u001b[0m\u001b[0;34m.\u001b[0m\u001b[0mlayers\u001b[0m\u001b[0;34m.\u001b[0m\u001b[0mexperimental\u001b[0m\u001b[0;34m.\u001b[0m\u001b[0mpreprocessing\u001b[0m\u001b[0;34m.\u001b[0m\u001b[0mRescaling\u001b[0m\u001b[0;34m(\u001b[0m\u001b[0;36m1.\u001b[0m\u001b[0;34m/\u001b[0m\u001b[0;36m255\u001b[0m\u001b[0;34m,\u001b[0m \u001b[0minput_shape\u001b[0m\u001b[0;34m=\u001b[0m\u001b[0;34m(\u001b[0m\u001b[0;36m256\u001b[0m\u001b[0;34m,\u001b[0m \u001b[0;36m256\u001b[0m\u001b[0;34m,\u001b[0m \u001b[0;36m3\u001b[0m\u001b[0;34m)\u001b[0m\u001b[0;34m)\u001b[0m\u001b[0;34m\u001b[0m\u001b[0;34m\u001b[0m\u001b[0m\n\u001b[0m",
            "\u001b[0;31mAttributeError\u001b[0m: 'list' object has no attribute 'experimental'"
          ]
        }
      ]
    },
    {
      "cell_type": "code",
      "metadata": {
        "id": "-BfnIZ5VoAoN"
      },
      "source": [
        "model.compile(optimizer='adam',\n",
        "              loss='binary_crossentropy',\n",
        "              metrics=['accuracy'])"
      ],
      "execution_count": null,
      "outputs": []
    },
    {
      "cell_type": "code",
      "metadata": {
        "colab": {
          "base_uri": "https://localhost:8080/"
        },
        "id": "WXl-c99tvMv5",
        "outputId": "0ef11d3a-0a07-4dcf-dfa6-7b41f73078b4"
      },
      "source": [
        "model.summary()"
      ],
      "execution_count": null,
      "outputs": [
        {
          "output_type": "stream",
          "name": "stdout",
          "text": [
            "Model: \"sequential_4\"\n",
            "_________________________________________________________________\n",
            " Layer (type)                Output Shape              Param #   \n",
            "=================================================================\n",
            " rescaling_7 (Rescaling)     (None, 256, 256, 3)       0         \n",
            "                                                                 \n",
            " conv2d_24 (Conv2D)          (None, 256, 256, 16)      448       \n",
            "                                                                 \n",
            " max_pooling2d_24 (MaxPoolin  (None, 128, 128, 16)     0         \n",
            " g2D)                                                            \n",
            "                                                                 \n",
            " conv2d_25 (Conv2D)          (None, 128, 128, 32)      4640      \n",
            "                                                                 \n",
            " max_pooling2d_25 (MaxPoolin  (None, 64, 64, 32)       0         \n",
            " g2D)                                                            \n",
            "                                                                 \n",
            " conv2d_26 (Conv2D)          (None, 64, 64, 64)        18496     \n",
            "                                                                 \n",
            " max_pooling2d_26 (MaxPoolin  (None, 32, 32, 64)       0         \n",
            " g2D)                                                            \n",
            "                                                                 \n",
            " conv2d_27 (Conv2D)          (None, 32, 32, 128)       73856     \n",
            "                                                                 \n",
            " max_pooling2d_27 (MaxPoolin  (None, 16, 16, 128)      0         \n",
            " g2D)                                                            \n",
            "                                                                 \n",
            " conv2d_28 (Conv2D)          (None, 16, 16, 256)       295168    \n",
            "                                                                 \n",
            " max_pooling2d_28 (MaxPoolin  (None, 8, 8, 256)        0         \n",
            " g2D)                                                            \n",
            "                                                                 \n",
            " flatten_4 (Flatten)         (None, 16384)             0         \n",
            "                                                                 \n",
            " dense_16 (Dense)            (None, 2000)              32770000  \n",
            "                                                                 \n",
            " dense_17 (Dense)            (None, 2000)              4002000   \n",
            "                                                                 \n",
            " dense_18 (Dense)            (None, 128)               256128    \n",
            "                                                                 \n",
            " dense_19 (Dense)            (None, 1)                 129       \n",
            "                                                                 \n",
            "=================================================================\n",
            "Total params: 37,420,865\n",
            "Trainable params: 37,420,865\n",
            "Non-trainable params: 0\n",
            "_________________________________________________________________\n"
          ]
        }
      ]
    },
    {
      "cell_type": "code",
      "metadata": {
        "id": "620sfp4YLIkp"
      },
      "source": [
        "import os\n",
        "\n",
        "import tensorflow as tf\n",
        "from tensorflow import keras"
      ],
      "execution_count": null,
      "outputs": []
    },
    {
      "cell_type": "code",
      "metadata": {
        "id": "-29hJ8iLO_AV"
      },
      "source": [
        "import shutil\n",
        "\n",
        "shutil.rmtree('/content/training_3')"
      ],
      "execution_count": null,
      "outputs": []
    },
    {
      "cell_type": "code",
      "metadata": {
        "colab": {
          "base_uri": "https://localhost:8080/"
        },
        "id": "uiClIxpTLL-f",
        "outputId": "9296da63-460c-4226-a0fc-d5ab87e004c3"
      },
      "source": [
        "# 체크포인트 고유 이름으로 저장하기\n",
        "\n",
        "# 파일 이름에 에포크 번호를 포함시킵니다(`str.format` 포맷)\n",
        "checkpoint_path = \"training_3/cp-{epoch:04d}.ckpt\"\n",
        "checkpoint_dir = os.path.dirname(checkpoint_path)\n",
        "\n",
        "# 다섯 번째 에포크마다 가중치를 저장하기 위한 콜백을 만듭니다\n",
        "cp_callback = tf.keras.callbacks.ModelCheckpoint(\n",
        "    filepath=checkpoint_path, \n",
        "    verbose=1, \n",
        "    save_weights_only=True,\n",
        "    period=1) # 저장 주기 설정\n",
        "\n",
        "# `checkpoint_path` 포맷을 사용하는 가중치를 저장합니다\n",
        "model.save_weights(checkpoint_path.format(epoch=0))\n",
        "\n",
        "# 새로운 콜백을 사용하여 모델을 훈련합니다\n",
        "history = model.fit(train_ds,\n",
        "          epochs=30, \n",
        "          callbacks=[cp_callback],\n",
        "          validation_data=val_ds,\n",
        "          verbose=1)"
      ],
      "execution_count": null,
      "outputs": [
        {
          "output_type": "stream",
          "name": "stdout",
          "text": [
            "WARNING:tensorflow:`period` argument is deprecated. Please use `save_freq` to specify the frequency in number of batches seen.\n",
            "Epoch 1/30\n",
            "72/73 [============================>.] - ETA: 0s - loss: 0.5232 - accuracy: 0.7487\n",
            "Epoch 00001: saving model to training_3/cp-0001.ckpt\n",
            "73/73 [==============================] - 28s 346ms/step - loss: 0.5211 - accuracy: 0.7498 - val_loss: 0.2945 - val_accuracy: 0.8534\n",
            "Epoch 2/30\n",
            "73/73 [==============================] - ETA: 0s - loss: 0.2316 - accuracy: 0.9160\n",
            "Epoch 00002: saving model to training_3/cp-0002.ckpt\n",
            "73/73 [==============================] - 27s 339ms/step - loss: 0.2316 - accuracy: 0.9160 - val_loss: 0.2163 - val_accuracy: 0.9293\n",
            "Epoch 3/30\n",
            "73/73 [==============================] - ETA: 0s - loss: 0.1622 - accuracy: 0.9436\n",
            "Epoch 00003: saving model to training_3/cp-0003.ckpt\n",
            "73/73 [==============================] - 26s 329ms/step - loss: 0.1622 - accuracy: 0.9436 - val_loss: 0.1504 - val_accuracy: 0.9431\n",
            "Epoch 4/30\n",
            "73/73 [==============================] - ETA: 0s - loss: 0.0986 - accuracy: 0.9591\n",
            "Epoch 00004: saving model to training_3/cp-0004.ckpt\n",
            "73/73 [==============================] - 26s 333ms/step - loss: 0.0986 - accuracy: 0.9591 - val_loss: 0.1530 - val_accuracy: 0.9517\n",
            "Epoch 5/30\n",
            "73/73 [==============================] - ETA: 0s - loss: 0.1100 - accuracy: 0.9599\n",
            "Epoch 00005: saving model to training_3/cp-0005.ckpt\n",
            "73/73 [==============================] - 26s 328ms/step - loss: 0.1100 - accuracy: 0.9599 - val_loss: 0.2295 - val_accuracy: 0.9034\n",
            "Epoch 6/30\n",
            "72/73 [============================>.] - ETA: 0s - loss: 0.1137 - accuracy: 0.9661\n",
            "Epoch 00006: saving model to training_3/cp-0006.ckpt\n",
            "73/73 [==============================] - 26s 327ms/step - loss: 0.1135 - accuracy: 0.9664 - val_loss: 0.1367 - val_accuracy: 0.9379\n",
            "Epoch 7/30\n",
            "73/73 [==============================] - ETA: 0s - loss: 0.0701 - accuracy: 0.9789\n",
            "Epoch 00007: saving model to training_3/cp-0007.ckpt\n",
            "73/73 [==============================] - 26s 330ms/step - loss: 0.0701 - accuracy: 0.9789 - val_loss: 0.1013 - val_accuracy: 0.9690\n",
            "Epoch 8/30\n",
            "72/73 [============================>.] - ETA: 0s - loss: 0.0532 - accuracy: 0.9796\n",
            "Epoch 00008: saving model to training_3/cp-0008.ckpt\n",
            "73/73 [==============================] - 26s 325ms/step - loss: 0.0530 - accuracy: 0.9798 - val_loss: 0.0925 - val_accuracy: 0.9672\n",
            "Epoch 9/30\n",
            "73/73 [==============================] - ETA: 0s - loss: 0.0410 - accuracy: 0.9862\n",
            "Epoch 00009: saving model to training_3/cp-0009.ckpt\n",
            "73/73 [==============================] - 26s 328ms/step - loss: 0.0410 - accuracy: 0.9862 - val_loss: 0.3007 - val_accuracy: 0.9121\n",
            "Epoch 10/30\n",
            "73/73 [==============================] - ETA: 0s - loss: 0.0640 - accuracy: 0.9746\n",
            "Epoch 00010: saving model to training_3/cp-0010.ckpt\n",
            "73/73 [==============================] - 25s 319ms/step - loss: 0.0640 - accuracy: 0.9746 - val_loss: 0.1039 - val_accuracy: 0.9741\n",
            "Epoch 11/30\n",
            "72/73 [============================>.] - ETA: 0s - loss: 0.0519 - accuracy: 0.9779\n",
            "Epoch 00011: saving model to training_3/cp-0011.ckpt\n",
            "73/73 [==============================] - 26s 328ms/step - loss: 0.0518 - accuracy: 0.9780 - val_loss: 0.1386 - val_accuracy: 0.9293\n",
            "Epoch 12/30\n",
            "72/73 [============================>.] - ETA: 0s - loss: 0.0935 - accuracy: 0.9692\n",
            "Epoch 00012: saving model to training_3/cp-0012.ckpt\n",
            "73/73 [==============================] - 26s 327ms/step - loss: 0.0928 - accuracy: 0.9694 - val_loss: 0.1169 - val_accuracy: 0.9638\n",
            "Epoch 13/30\n",
            "73/73 [==============================] - ETA: 0s - loss: 0.0453 - accuracy: 0.9836\n",
            "Epoch 00013: saving model to training_3/cp-0013.ckpt\n",
            "73/73 [==============================] - 26s 324ms/step - loss: 0.0453 - accuracy: 0.9836 - val_loss: 0.1341 - val_accuracy: 0.9776\n",
            "Epoch 14/30\n",
            "73/73 [==============================] - ETA: 0s - loss: 0.0264 - accuracy: 0.9888\n",
            "Epoch 00014: saving model to training_3/cp-0014.ckpt\n",
            "73/73 [==============================] - 26s 329ms/step - loss: 0.0264 - accuracy: 0.9888 - val_loss: 0.1111 - val_accuracy: 0.9690\n",
            "Epoch 15/30\n",
            "73/73 [==============================] - ETA: 0s - loss: 0.0226 - accuracy: 0.9927\n",
            "Epoch 00015: saving model to training_3/cp-0015.ckpt\n",
            "73/73 [==============================] - 26s 328ms/step - loss: 0.0226 - accuracy: 0.9927 - val_loss: 0.0982 - val_accuracy: 0.9724\n",
            "Epoch 16/30\n",
            "73/73 [==============================] - ETA: 0s - loss: 0.0302 - accuracy: 0.9910\n",
            "Epoch 00016: saving model to training_3/cp-0016.ckpt\n",
            "73/73 [==============================] - 26s 330ms/step - loss: 0.0302 - accuracy: 0.9910 - val_loss: 0.1362 - val_accuracy: 0.9759\n",
            "Epoch 17/30\n",
            "73/73 [==============================] - ETA: 0s - loss: 0.0504 - accuracy: 0.9866\n",
            "Epoch 00017: saving model to training_3/cp-0017.ckpt\n",
            "73/73 [==============================] - 26s 331ms/step - loss: 0.0504 - accuracy: 0.9866 - val_loss: 0.1371 - val_accuracy: 0.9534\n",
            "Epoch 18/30\n",
            "72/73 [============================>.] - ETA: 0s - loss: 0.0402 - accuracy: 0.9848\n",
            "Epoch 00018: saving model to training_3/cp-0018.ckpt\n",
            "73/73 [==============================] - 25s 321ms/step - loss: 0.0398 - accuracy: 0.9849 - val_loss: 0.0860 - val_accuracy: 0.9776\n",
            "Epoch 19/30\n",
            "73/73 [==============================] - ETA: 0s - loss: 0.0371 - accuracy: 0.9918\n",
            "Epoch 00019: saving model to training_3/cp-0019.ckpt\n",
            "73/73 [==============================] - 25s 319ms/step - loss: 0.0371 - accuracy: 0.9918 - val_loss: 0.1014 - val_accuracy: 0.9672\n",
            "Epoch 20/30\n",
            "73/73 [==============================] - ETA: 0s - loss: 0.0347 - accuracy: 0.9897\n",
            "Epoch 00020: saving model to training_3/cp-0020.ckpt\n",
            "73/73 [==============================] - 26s 329ms/step - loss: 0.0347 - accuracy: 0.9897 - val_loss: 0.0773 - val_accuracy: 0.9707\n",
            "Epoch 21/30\n",
            "73/73 [==============================] - ETA: 0s - loss: 0.0106 - accuracy: 0.9948\n",
            "Epoch 00021: saving model to training_3/cp-0021.ckpt\n",
            "73/73 [==============================] - 26s 325ms/step - loss: 0.0106 - accuracy: 0.9948 - val_loss: 0.1102 - val_accuracy: 0.9672\n",
            "Epoch 22/30\n",
            "73/73 [==============================] - ETA: 0s - loss: 0.0041 - accuracy: 0.9987\n",
            "Epoch 00022: saving model to training_3/cp-0022.ckpt\n",
            "73/73 [==============================] - 26s 328ms/step - loss: 0.0041 - accuracy: 0.9987 - val_loss: 0.1297 - val_accuracy: 0.9810\n",
            "Epoch 23/30\n",
            "73/73 [==============================] - ETA: 0s - loss: 0.0148 - accuracy: 0.9948\n",
            "Epoch 00023: saving model to training_3/cp-0023.ckpt\n",
            "73/73 [==============================] - 26s 328ms/step - loss: 0.0148 - accuracy: 0.9948 - val_loss: 0.1323 - val_accuracy: 0.9672\n",
            "Epoch 24/30\n",
            "73/73 [==============================] - ETA: 0s - loss: 0.0300 - accuracy: 0.9901\n",
            "Epoch 00024: saving model to training_3/cp-0024.ckpt\n",
            "73/73 [==============================] - 26s 329ms/step - loss: 0.0300 - accuracy: 0.9901 - val_loss: 0.1078 - val_accuracy: 0.9707\n",
            "Epoch 25/30\n",
            "73/73 [==============================] - ETA: 0s - loss: 0.0313 - accuracy: 0.9888\n",
            "Epoch 00025: saving model to training_3/cp-0025.ckpt\n",
            "73/73 [==============================] - 26s 329ms/step - loss: 0.0313 - accuracy: 0.9888 - val_loss: 0.1432 - val_accuracy: 0.9500\n",
            "Epoch 26/30\n",
            "72/73 [============================>.] - ETA: 0s - loss: 0.0385 - accuracy: 0.9905\n",
            "Epoch 00026: saving model to training_3/cp-0026.ckpt\n",
            "73/73 [==============================] - 26s 328ms/step - loss: 0.0393 - accuracy: 0.9901 - val_loss: 0.2127 - val_accuracy: 0.9362\n",
            "Epoch 27/30\n",
            "72/73 [============================>.] - ETA: 0s - loss: 0.0323 - accuracy: 0.9891\n",
            "Epoch 00027: saving model to training_3/cp-0027.ckpt\n",
            "73/73 [==============================] - 26s 330ms/step - loss: 0.0320 - accuracy: 0.9892 - val_loss: 0.1602 - val_accuracy: 0.9724\n",
            "Epoch 28/30\n",
            "73/73 [==============================] - ETA: 0s - loss: 0.0171 - accuracy: 0.9966\n",
            "Epoch 00028: saving model to training_3/cp-0028.ckpt\n",
            "73/73 [==============================] - 26s 328ms/step - loss: 0.0171 - accuracy: 0.9966 - val_loss: 0.1832 - val_accuracy: 0.9741\n",
            "Epoch 29/30\n",
            "73/73 [==============================] - ETA: 0s - loss: 0.0319 - accuracy: 0.9892\n",
            "Epoch 00029: saving model to training_3/cp-0029.ckpt\n",
            "73/73 [==============================] - 26s 328ms/step - loss: 0.0319 - accuracy: 0.9892 - val_loss: 0.1366 - val_accuracy: 0.9655\n",
            "Epoch 30/30\n",
            "73/73 [==============================] - ETA: 0s - loss: 0.0203 - accuracy: 0.9940\n",
            "Epoch 00030: saving model to training_3/cp-0030.ckpt\n",
            "73/73 [==============================] - 26s 329ms/step - loss: 0.0203 - accuracy: 0.9940 - val_loss: 0.0767 - val_accuracy: 0.9776\n"
          ]
        }
      ]
    },
    {
      "cell_type": "code",
      "metadata": {
        "id": "IhiJGtgbkIve"
      },
      "source": [
        "epochs=30"
      ],
      "execution_count": null,
      "outputs": []
    },
    {
      "cell_type": "code",
      "metadata": {
        "colab": {
          "base_uri": "https://localhost:8080/"
        },
        "id": "YDLjoCa2LdaS",
        "outputId": "e51eff5d-df70-474a-f89e-fa175d80cfeb"
      },
      "source": [
        "acc = history.history['accuracy']\n",
        "val_acc = history.history['val_accuracy']\n",
        "\n",
        "loss=history.history['loss']\n",
        "val_loss=history.history['val_loss']\n",
        "\n",
        "epochs_range = range(epochs)\n",
        "\n",
        "plt.figure(figsize=(8, 8))\n",
        "plt.subplot(1, 2, 1)\n",
        "plt.plot(epochs_range, acc, label='Training Accuracy')\n",
        "plt.plot(epochs_range, val_acc, label='Validation Accuracy')\n",
        "plt.legend(loc='lower right')\n",
        "plt.title('Training and Validation Accuracy')\n",
        "\n",
        "plt.subplot(1, 2, 2)\n",
        "plt.plot(epochs_range, loss, label='Training Loss')\n",
        "plt.plot(epochs_range, val_loss, label='Validation Loss')\n",
        "plt.legend(loc='upper right')\n",
        "plt.title('Training and Validation Loss')\n",
        "plt.show()"
      ],
      "execution_count": null,
      "outputs": [
        {
          "output_type": "display_data",
          "data": {
            "image/png": "[encoded data removed]",
            "text/plain": [
              "<Figure size 576x576 with 2 Axes>"
            ]
          },
          "metadata": {
            "needs_background": "light"
          }
        }
      ]
    },
    {
      "cell_type": "code",
      "metadata": {
        "colab": {
          "base_uri": "https://localhost:8080/"
        },
        "id": "rLKq3dI0TjcB",
        "outputId": "4dcbafe2-aa22-4124-c99e-5d66bca99272"
      },
      "source": [
        "model.load_weights('/content/training_3/cp-0008.ckpt')\n"
      ],
      "execution_count": null,
      "outputs": [
        {
          "output_type": "execute_result",
          "data": {
            "text/plain": [
              "<tensorflow.python.training.tracking.util.CheckpointLoadStatus at 0x7fc2cca29050>"
            ]
          },
          "metadata": {},
          "execution_count": 35
        }
      ]
    },
    {
      "cell_type": "code",
      "metadata": {
        "id": "wXT5ddbLTprn"
      },
      "source": [
        "model.save('/content/drive/MyDrive/모델 체크포인트/최종모델.h5')"
      ],
      "execution_count": null,
      "outputs": []
    },
    {
      "cell_type": "code",
      "metadata": {
        "id": "JlIusI14WysQ"
      },
      "source": [
        "img_height = 256\n",
        "img_width = 256"
      ],
      "execution_count": null,
      "outputs": []
    },
    {
      "cell_type": "code",
      "metadata": {
        "id": "0zyfzYRdXAHW"
      },
      "source": [
        "PET_path = '/content/drive/MyDrive/테스트파일/불가능/KakaoTalk_20211117_002238726_01.jpg'"
      ],
      "execution_count": null,
      "outputs": []
    },
    {
      "cell_type": "code",
      "metadata": {
        "colab": {
          "base_uri": "https://localhost:8080/"
        },
        "id": "tPbWfd2HWzYw",
        "outputId": "d7e18baf-4cd1-4e03-dbe6-4cf2f1031857"
      },
      "source": [
        "ctsl=[]\n",
        "for k in range(3,31):\n",
        "  model.load_weights('/content/training_3/cp-00'+str(k).rjust(2,'0')+'.ckpt')\n",
        "  ct = 0\n",
        "  ct0 = 0\n",
        "  ct1 = 0\n",
        "  file_n = []\n",
        "  file_n0 = []\n",
        "  file_n1 = [] \n",
        "  for p in range(5):\n",
        "    PET_path = '//content/drive/MyDrive/테스트파일/가능/손/KakaoTalk_20211117_002027577_'+str(p).rjust(2,'0')+'.jpg'\n",
        "    img = keras.preprocessing.image.load_img(\n",
        "        PET_path, target_size=(img_height, img_width)\n",
        "    )\n",
        "    img_array = keras.preprocessing.image.img_to_array(img)\n",
        "    img_array = tf.expand_dims(img_array, 0) # Create a batch\n",
        "\n",
        "    predictions = model.predict(img_array)\n",
        "\n",
        "    a = ''\n",
        "    if predictions[0] >= 0.2:\n",
        "      a = ' X '\n",
        "    else:\n",
        "      a = ' O '\n",
        "    if a == ' X ':\n",
        "      ct += 1\n",
        "      file_n.append(p)\n",
        "  for j in range(6):\n",
        "    PET_path = '/content/drive/MyDrive/테스트파일/가능/손x/KakaoTalk_20211117_002027577_'+str(j).rjust(2,'0')+'.jpg'\n",
        "    img = keras.preprocessing.image.load_img(\n",
        "        PET_path, target_size=(img_height, img_width)\n",
        "    )\n",
        "    img_array = keras.preprocessing.image.img_to_array(img)\n",
        "    img_array = tf.expand_dims(img_array, 0) # Create a batch\n",
        "\n",
        "    predictions = model.predict(img_array)\n",
        "    a = ''\n",
        "    if predictions[0] >= 0.2:\n",
        "      a = ' X '\n",
        "    else:\n",
        "      a = ' O '\n",
        "    if a == ' X ':\n",
        "      ct0 += 1\n",
        "      file_n0.append(j)\n",
        "  for i in range(18):\n",
        "    PET_path = '/content/drive/MyDrive/테스트파일/불가능/KakaoTalk_20211117_002238726_'+str(i).rjust(2,'0')+'.jpg'\n",
        "    img = keras.preprocessing.image.load_img(\n",
        "        PET_path, target_size=(img_height, img_width)\n",
        "    )\n",
        "    img_array = keras.preprocessing.image.img_to_array(img)\n",
        "    img_array = tf.expand_dims(img_array, 0) # Create a batch\n",
        "\n",
        "    predictions = model.predict(img_array)\n",
        "    a = ''\n",
        "    if predictions[0] >= 0.2:\n",
        "      a = ' X '\n",
        "    else:\n",
        "      a = ' O '\n",
        "    if a == ' O ':\n",
        "      ct1 += 1\n",
        "      file_n1.append(i)\n",
        "  ctsl.append(ct+ct0+ct1)\n",
        "\n",
        "  print(str(k)+'번째 체크포인트'+ '총 오류갯수 '+ str(ct+ct0+ct1))\n",
        "  print('가능 에러 수(손)'+ str(ct) + '  파일 번호는',file_n)\n",
        "  print('가능 에러 수'+ str(ct0) + '  파일 번호는',file_n0)\n",
        "\n",
        "  print('불가능 에러 수'+ str(ct1) + '  파일 번호는',file_n1 )\n",
        "print(str(ctsl.index(min(ctsl))+3)+' 번째 에서' + str(min(ctsl)) + ' 개로 가장적습니다' )"
      ],
      "execution_count": null,
      "outputs": [
        {
          "output_type": "stream",
          "name": "stdout",
          "text": [
            "3번째 체크포인트총 오류갯수 10\n",
            "가능 에러 수(손)0  파일 번호는 []\n",
            "가능 에러 수0  파일 번호는 []\n",
            "불가능 에러 수10  파일 번호는 [0, 1, 2, 5, 6, 7, 10, 11, 14, 15]\n",
            "4번째 체크포인트총 오류갯수 10\n",
            "가능 에러 수(손)4  파일 번호는 [1, 2, 3, 4]\n",
            "가능 에러 수6  파일 번호는 [0, 1, 2, 3, 4, 5]\n",
            "불가능 에러 수0  파일 번호는 []\n",
            "5번째 체크포인트총 오류갯수 10\n",
            "가능 에러 수(손)4  파일 번호는 [1, 2, 3, 4]\n",
            "가능 에러 수6  파일 번호는 [0, 1, 2, 3, 4, 5]\n",
            "불가능 에러 수0  파일 번호는 []\n",
            "6번째 체크포인트총 오류갯수 8\n",
            "가능 에러 수(손)4  파일 번호는 [1, 2, 3, 4]\n",
            "가능 에러 수3  파일 번호는 [2, 4, 5]\n",
            "불가능 에러 수1  파일 번호는 [1]\n",
            "7번째 체크포인트총 오류갯수 2\n",
            "가능 에러 수(손)1  파일 번호는 [4]\n",
            "가능 에러 수0  파일 번호는 []\n",
            "불가능 에러 수1  파일 번호는 [1]\n",
            "8번째 체크포인트총 오류갯수 2\n",
            "가능 에러 수(손)0  파일 번호는 []\n",
            "가능 에러 수0  파일 번호는 []\n",
            "불가능 에러 수2  파일 번호는 [1, 5]\n",
            "9번째 체크포인트총 오류갯수 8\n",
            "가능 에러 수(손)3  파일 번호는 [2, 3, 4]\n",
            "가능 에러 수3  파일 번호는 [3, 4, 5]\n",
            "불가능 에러 수2  파일 번호는 [1, 5]\n",
            "10번째 체크포인트총 오류갯수 8\n",
            "가능 에러 수(손)0  파일 번호는 []\n",
            "가능 에러 수0  파일 번호는 []\n",
            "불가능 에러 수8  파일 번호는 [0, 1, 2, 5, 6, 10, 11, 14]\n",
            "11번째 체크포인트총 오류갯수 8\n",
            "가능 에러 수(손)2  파일 번호는 [2, 4]\n",
            "가능 에러 수0  파일 번호는 []\n",
            "불가능 에러 수6  파일 번호는 [1, 2, 5, 6, 10, 11]\n",
            "12번째 체크포인트총 오류갯수 8\n",
            "가능 에러 수(손)0  파일 번호는 []\n",
            "가능 에러 수0  파일 번호는 []\n",
            "불가능 에러 수8  파일 번호는 [1, 2, 5, 6, 10, 11, 14, 15]\n",
            "13번째 체크포인트총 오류갯수 6\n",
            "가능 에러 수(손)0  파일 번호는 []\n",
            "가능 에러 수0  파일 번호는 []\n",
            "불가능 에러 수6  파일 번호는 [1, 2, 5, 6, 10, 11]\n",
            "14번째 체크포인트총 오류갯수 5\n",
            "가능 에러 수(손)0  파일 번호는 []\n",
            "가능 에러 수0  파일 번호는 []\n",
            "불가능 에러 수5  파일 번호는 [1, 5, 6, 10, 11]\n",
            "15번째 체크포인트총 오류갯수 6\n",
            "가능 에러 수(손)1  파일 번호는 [4]\n",
            "가능 에러 수0  파일 번호는 []\n",
            "불가능 에러 수5  파일 번호는 [1, 5, 6, 10, 11]\n",
            "16번째 체크포인트총 오류갯수 5\n",
            "가능 에러 수(손)0  파일 번호는 []\n",
            "가능 에러 수0  파일 번호는 []\n",
            "불가능 에러 수5  파일 번호는 [1, 5, 6, 10, 11]\n",
            "17번째 체크포인트총 오류갯수 10\n",
            "가능 에러 수(손)3  파일 번호는 [1, 2, 4]\n",
            "가능 에러 수4  파일 번호는 [2, 3, 4, 5]\n",
            "불가능 에러 수3  파일 번호는 [1, 5, 10]\n",
            "18번째 체크포인트총 오류갯수 8\n",
            "가능 에러 수(손)0  파일 번호는 []\n",
            "가능 에러 수0  파일 번호는 []\n",
            "불가능 에러 수8  파일 번호는 [0, 1, 2, 5, 6, 10, 11, 14]\n",
            "19번째 체크포인트총 오류갯수 7\n",
            "가능 에러 수(손)0  파일 번호는 []\n",
            "가능 에러 수0  파일 번호는 []\n",
            "불가능 에러 수7  파일 번호는 [1, 2, 5, 6, 7, 10, 11]\n",
            "20번째 체크포인트총 오류갯수 5\n",
            "가능 에러 수(손)1  파일 번호는 [2]\n",
            "가능 에러 수0  파일 번호는 []\n",
            "불가능 에러 수4  파일 번호는 [1, 5, 6, 10]\n",
            "21번째 체크포인트총 오류갯수 6\n",
            "가능 에러 수(손)1  파일 번호는 [2]\n",
            "가능 에러 수0  파일 번호는 []\n",
            "불가능 에러 수5  파일 번호는 [1, 2, 5, 6, 11]\n",
            "22번째 체크포인트총 오류갯수 7\n",
            "가능 에러 수(손)0  파일 번호는 []\n",
            "가능 에러 수0  파일 번호는 []\n",
            "불가능 에러 수7  파일 번호는 [1, 2, 5, 6, 7, 10, 11]\n",
            "23번째 체크포인트총 오류갯수 9\n",
            "가능 에러 수(손)0  파일 번호는 []\n",
            "가능 에러 수0  파일 번호는 []\n",
            "불가능 에러 수9  파일 번호는 [0, 1, 2, 5, 6, 7, 10, 11, 14]\n",
            "24번째 체크포인트총 오류갯수 8\n",
            "가능 에러 수(손)0  파일 번호는 []\n",
            "가능 에러 수0  파일 번호는 []\n",
            "불가능 에러 수8  파일 번호는 [1, 2, 5, 6, 7, 10, 11, 17]\n",
            "25번째 체크포인트총 오류갯수 8\n",
            "가능 에러 수(손)0  파일 번호는 []\n",
            "가능 에러 수0  파일 번호는 []\n",
            "불가능 에러 수8  파일 번호는 [1, 5, 6, 7, 8, 10, 11, 17]\n",
            "26번째 체크포인트총 오류갯수 6\n",
            "가능 에러 수(손)1  파일 번호는 [4]\n",
            "가능 에러 수2  파일 번호는 [2, 4]\n",
            "불가능 에러 수3  파일 번호는 [1, 14, 15]\n",
            "27번째 체크포인트총 오류갯수 11\n",
            "가능 에러 수(손)0  파일 번호는 []\n",
            "가능 에러 수0  파일 번호는 []\n",
            "불가능 에러 수11  파일 번호는 [0, 1, 2, 5, 6, 7, 8, 10, 11, 14, 17]\n",
            "28번째 체크포인트총 오류갯수 10\n",
            "가능 에러 수(손)0  파일 번호는 []\n",
            "가능 에러 수0  파일 번호는 []\n",
            "불가능 에러 수10  파일 번호는 [0, 1, 2, 5, 6, 7, 8, 10, 11, 14]\n",
            "29번째 체크포인트총 오류갯수 2\n",
            "가능 에러 수(손)0  파일 번호는 []\n",
            "가능 에러 수1  파일 번호는 [5]\n",
            "불가능 에러 수1  파일 번호는 [1]\n",
            "30번째 체크포인트총 오류갯수 5\n",
            "가능 에러 수(손)0  파일 번호는 []\n",
            "가능 에러 수0  파일 번호는 []\n",
            "불가능 에러 수5  파일 번호는 [1, 2, 5, 11, 14]\n",
            "7 번째 에서2 개로 가장적습니다\n"
          ]
        }
      ]
    },
    {
      "cell_type": "code",
      "metadata": {
        "colab": {
          "base_uri": "https://localhost:8080/"
        },
        "id": "VqV6addD3tVN",
        "outputId": "df1523f1-31ac-45dc-a4e9-caf67df1dff9"
      },
      "source": [
        "ctsl=[]\n",
        "for k in range(3,35):\n",
        "  model.load_weights('/content/training_3/cp-00'+str(k).rjust(2,'0')+'.ckpt')\n",
        "  ct = 0\n",
        "  ct0 = 0\n",
        "  ct1 = 0\n",
        "  file_n = []\n",
        "  file_n0 = []\n",
        "  file_n1 = [] \n",
        "  for p in range(5):\n",
        "    PET_path = '//content/drive/MyDrive/테스트파일/가능/손/KakaoTalk_20211117_002027577_'+str(p).rjust(2,'0')+'.jpg'\n",
        "    img = keras.preprocessing.image.load_img(\n",
        "        PET_path, target_size=(img_height, img_width)\n",
        "    )\n",
        "    img_array = keras.preprocessing.image.img_to_array(img)\n",
        "    img_array = tf.expand_dims(img_array, 0) # Create a batch\n",
        "\n",
        "    predictions = model.predict(img_array)\n",
        "\n",
        "    a = ''\n",
        "    if predictions[0] >= 0.2:\n",
        "      a = ' X '\n",
        "    else:\n",
        "      a = ' O '\n",
        "    if a == ' X ':\n",
        "      ct += 1\n",
        "      file_n.append(p)\n",
        "  for j in range(6):\n",
        "    PET_path = '/content/drive/MyDrive/테스트파일/가능/손x/KakaoTalk_20211117_002027577_'+str(j).rjust(2,'0')+'.jpg'\n",
        "    img = keras.preprocessing.image.load_img(\n",
        "        PET_path, target_size=(img_height, img_width)\n",
        "    )\n",
        "    img_array = keras.preprocessing.image.img_to_array(img)\n",
        "    img_array = tf.expand_dims(img_array, 0) # Create a batch\n",
        "\n",
        "    predictions = model.predict(img_array)\n",
        "    a = ''\n",
        "    if predictions[0] >= 0.2:\n",
        "      a = ' X '\n",
        "    else:\n",
        "      a = ' O '\n",
        "    if a == ' X ':\n",
        "      ct0 += 1\n",
        "      file_n0.append(j)\n",
        "  for i in range(18):\n",
        "    PET_path = '/content/drive/MyDrive/테스트파일/불가능/KakaoTalk_20211117_002238726_'+str(i).rjust(2,'0')+'.jpg'\n",
        "    img = keras.preprocessing.image.load_img(\n",
        "        PET_path, target_size=(img_height, img_width)\n",
        "    )\n",
        "    img_array = keras.preprocessing.image.img_to_array(img)\n",
        "    img_array = tf.expand_dims(img_array, 0) # Create a batch\n",
        "\n",
        "    predictions = model.predict(img_array)\n",
        "    a = ''\n",
        "    if predictions[0] >= 0.2:\n",
        "      a = ' X '\n",
        "    else:\n",
        "      a = ' O '\n",
        "    if a == ' O ':\n",
        "      ct1 += 1\n",
        "      file_n1.append(i)\n",
        "  ctsl.append(ct+ct0+ct1)\n",
        "\n",
        "  print(str(k)+'번째 체크포인트'+ '총 오류갯수 '+ str(ct+ct0+ct1))\n",
        "  print('가능 에러 수(손)'+ str(ct) + '  파일 번호는',file_n)\n",
        "  print('가능 에러 수'+ str(ct0) + '  파일 번호는',file_n0)\n",
        "\n",
        "  print('불가능 에러 수'+ str(ct1) + '  파일 번호는',file_n1 )\n",
        "print(str(ctsl.index(min(ctsl))+3)+' 번째 에서' + str(min(ctsl)) + ' 개로 가장적습니다' )"
      ],
      "execution_count": null,
      "outputs": [
        {
          "output_type": "stream",
          "name": "stdout",
          "text": [
            "3번째 체크포인트총 오류갯수 9\n",
            "가능 에러 수(손)0  파일 번호는 []\n",
            "가능 에러 수0  파일 번호는 []\n",
            "불가능 에러 수9  파일 번호는 [0, 1, 2, 5, 6, 7, 8, 9, 17]\n",
            "4번째 체크포인트총 오류갯수 12\n",
            "가능 에러 수(손)0  파일 번호는 []\n",
            "가능 에러 수0  파일 번호는 []\n",
            "불가능 에러 수12  파일 번호는 [0, 1, 2, 5, 6, 7, 8, 9, 10, 11, 14, 17]\n",
            "5번째 체크포인트총 오류갯수 12\n",
            "가능 에러 수(손)0  파일 번호는 []\n",
            "가능 에러 수0  파일 번호는 []\n",
            "불가능 에러 수12  파일 번호는 [0, 1, 2, 5, 6, 7, 8, 9, 14, 15, 16, 17]\n",
            "6번째 체크포인트총 오류갯수 8\n",
            "가능 에러 수(손)1  파일 번호는 [4]\n",
            "가능 에러 수0  파일 번호는 []\n",
            "불가능 에러 수7  파일 번호는 [1, 2, 5, 6, 7, 8, 17]\n",
            "7번째 체크포인트총 오류갯수 6\n",
            "가능 에러 수(손)1  파일 번호는 [4]\n",
            "가능 에러 수0  파일 번호는 []\n",
            "불가능 에러 수5  파일 번호는 [1, 5, 6, 7, 8]\n",
            "8번째 체크포인트총 오류갯수 5\n",
            "가능 에러 수(손)1  파일 번호는 [4]\n",
            "가능 에러 수1  파일 번호는 [2]\n",
            "불가능 에러 수3  파일 번호는 [1, 5, 6]\n",
            "9번째 체크포인트총 오류갯수 7\n",
            "가능 에러 수(손)0  파일 번호는 []\n",
            "가능 에러 수0  파일 번호는 []\n",
            "불가능 에러 수7  파일 번호는 [0, 1, 2, 5, 6, 7, 10]\n",
            "10번째 체크포인트총 오류갯수 8\n",
            "가능 에러 수(손)0  파일 번호는 []\n",
            "가능 에러 수0  파일 번호는 []\n",
            "불가능 에러 수8  파일 번호는 [1, 2, 5, 6, 7, 8, 9, 17]\n",
            "11번째 체크포인트총 오류갯수 9\n",
            "가능 에러 수(손)1  파일 번호는 [4]\n",
            "가능 에러 수0  파일 번호는 []\n",
            "불가능 에러 수8  파일 번호는 [1, 2, 5, 6, 7, 8, 9, 17]\n",
            "12번째 체크포인트총 오류갯수 8\n",
            "가능 에러 수(손)1  파일 번호는 [4]\n",
            "가능 에러 수0  파일 번호는 []\n",
            "불가능 에러 수7  파일 번호는 [0, 1, 2, 5, 6, 8, 17]\n",
            "13번째 체크포인트총 오류갯수 6\n",
            "가능 에러 수(손)0  파일 번호는 []\n",
            "가능 에러 수0  파일 번호는 []\n",
            "불가능 에러 수6  파일 번호는 [1, 2, 5, 6, 7, 8]\n",
            "14번째 체크포인트총 오류갯수 10\n",
            "가능 에러 수(손)0  파일 번호는 []\n",
            "가능 에러 수0  파일 번호는 []\n",
            "불가능 에러 수10  파일 번호는 [0, 1, 2, 5, 6, 7, 8, 10, 11, 17]\n",
            "15번째 체크포인트총 오류갯수 8\n",
            "가능 에러 수(손)3  파일 번호는 [0, 1, 4]\n",
            "가능 에러 수1  파일 번호는 [3]\n",
            "불가능 에러 수4  파일 번호는 [1, 2, 5, 6]\n",
            "16번째 체크포인트총 오류갯수 9\n",
            "가능 에러 수(손)1  파일 번호는 [4]\n",
            "가능 에러 수0  파일 번호는 []\n",
            "불가능 에러 수8  파일 번호는 [1, 2, 5, 6, 7, 8, 9, 17]\n",
            "17번째 체크포인트총 오류갯수 9\n",
            "가능 에러 수(손)0  파일 번호는 []\n",
            "가능 에러 수0  파일 번호는 []\n",
            "불가능 에러 수9  파일 번호는 [0, 1, 2, 5, 6, 8, 9, 14, 17]\n",
            "18번째 체크포인트총 오류갯수 7\n",
            "가능 에러 수(손)0  파일 번호는 []\n",
            "가능 에러 수0  파일 번호는 []\n",
            "불가능 에러 수7  파일 번호는 [0, 1, 2, 5, 6, 8, 17]\n",
            "19번째 체크포인트총 오류갯수 15\n",
            "가능 에러 수(손)0  파일 번호는 []\n",
            "가능 에러 수0  파일 번호는 []\n",
            "불가능 에러 수15  파일 번호는 [0, 1, 2, 4, 5, 6, 8, 10, 11, 12, 13, 14, 15, 16, 17]\n",
            "20번째 체크포인트총 오류갯수 8\n",
            "가능 에러 수(손)0  파일 번호는 []\n",
            "가능 에러 수0  파일 번호는 []\n",
            "불가능 에러 수8  파일 번호는 [0, 1, 2, 5, 6, 8, 14, 17]\n",
            "21번째 체크포인트총 오류갯수 7\n",
            "가능 에러 수(손)0  파일 번호는 []\n",
            "가능 에러 수0  파일 번호는 []\n",
            "불가능 에러 수7  파일 번호는 [0, 1, 2, 5, 6, 8, 17]\n",
            "22번째 체크포인트총 오류갯수 8\n",
            "가능 에러 수(손)0  파일 번호는 []\n",
            "가능 에러 수0  파일 번호는 []\n",
            "불가능 에러 수8  파일 번호는 [0, 1, 2, 5, 6, 8, 14, 17]\n",
            "23번째 체크포인트총 오류갯수 8\n",
            "가능 에러 수(손)0  파일 번호는 []\n",
            "가능 에러 수0  파일 번호는 []\n",
            "불가능 에러 수8  파일 번호는 [0, 1, 2, 5, 6, 8, 14, 17]\n",
            "24번째 체크포인트총 오류갯수 7\n",
            "가능 에러 수(손)0  파일 번호는 []\n",
            "가능 에러 수0  파일 번호는 []\n",
            "불가능 에러 수7  파일 번호는 [0, 1, 2, 5, 6, 8, 17]\n",
            "25번째 체크포인트총 오류갯수 7\n",
            "가능 에러 수(손)0  파일 번호는 []\n",
            "가능 에러 수0  파일 번호는 []\n",
            "불가능 에러 수7  파일 번호는 [0, 1, 2, 5, 6, 8, 17]\n",
            "26번째 체크포인트총 오류갯수 7\n",
            "가능 에러 수(손)0  파일 번호는 []\n",
            "가능 에러 수0  파일 번호는 []\n",
            "불가능 에러 수7  파일 번호는 [0, 1, 2, 5, 6, 8, 17]\n",
            "27번째 체크포인트총 오류갯수 7\n",
            "가능 에러 수(손)0  파일 번호는 []\n",
            "가능 에러 수0  파일 번호는 []\n",
            "불가능 에러 수7  파일 번호는 [0, 1, 2, 5, 6, 8, 17]\n",
            "28번째 체크포인트총 오류갯수 7\n",
            "가능 에러 수(손)0  파일 번호는 []\n",
            "가능 에러 수0  파일 번호는 []\n",
            "불가능 에러 수7  파일 번호는 [0, 1, 2, 5, 6, 8, 17]\n",
            "29번째 체크포인트총 오류갯수 7\n",
            "가능 에러 수(손)0  파일 번호는 []\n",
            "가능 에러 수0  파일 번호는 []\n",
            "불가능 에러 수7  파일 번호는 [0, 1, 2, 5, 6, 8, 17]\n",
            "30번째 체크포인트총 오류갯수 7\n",
            "가능 에러 수(손)0  파일 번호는 []\n",
            "가능 에러 수0  파일 번호는 []\n",
            "불가능 에러 수7  파일 번호는 [0, 1, 2, 5, 6, 8, 17]\n",
            "31번째 체크포인트총 오류갯수 7\n",
            "가능 에러 수(손)0  파일 번호는 []\n",
            "가능 에러 수0  파일 번호는 []\n",
            "불가능 에러 수7  파일 번호는 [0, 1, 2, 5, 6, 8, 17]\n",
            "32번째 체크포인트총 오류갯수 7\n",
            "가능 에러 수(손)0  파일 번호는 []\n",
            "가능 에러 수0  파일 번호는 []\n",
            "불가능 에러 수7  파일 번호는 [0, 1, 2, 5, 6, 8, 17]\n",
            "33번째 체크포인트총 오류갯수 8\n",
            "가능 에러 수(손)0  파일 번호는 []\n",
            "가능 에러 수0  파일 번호는 []\n",
            "불가능 에러 수8  파일 번호는 [0, 1, 2, 5, 6, 8, 14, 17]\n",
            "34번째 체크포인트총 오류갯수 8\n",
            "가능 에러 수(손)0  파일 번호는 []\n",
            "가능 에러 수0  파일 번호는 []\n",
            "불가능 에러 수8  파일 번호는 [0, 1, 2, 5, 6, 8, 14, 17]\n",
            "8 번째 에서5 개로 가장적습니다\n"
          ]
        }
      ]
    },
    {
      "cell_type": "code",
      "metadata": {
        "colab": {
          "base_uri": "https://localhost:8080/"
        },
        "id": "OeLndKNTpmPS",
        "outputId": "8c5854d6-bd50-4303-a488-ebd33656fd18"
      },
      "source": [
        "ctsl.index(9)"
      ],
      "execution_count": null,
      "outputs": [
        {
          "output_type": "execute_result",
          "data": {
            "text/plain": [
              "25"
            ]
          },
          "metadata": {},
          "execution_count": 86
        }
      ]
    },
    {
      "cell_type": "code",
      "metadata": {
        "colab": {
          "base_uri": "https://localhost:8080/"
        },
        "id": "pigKcCsb_HwA",
        "outputId": "1da05761-d8d8-4e46-9d65-bd1014820e0a"
      },
      "source": [
        "\n",
        "model.load_weights('/content/drive/MyDrive/모델 체크포인트/덴스2000레이어2추가모델(임계치0.2최적).h5')\n",
        "ct = 0\n",
        "file_n = []\n",
        "\n",
        "#for p in range(6):\n",
        "for i in range(18):\n",
        "  PET_path = '/content/drive/MyDrive/테스트파일/불가능/KakaoTalk_20211117_002238726_'+str(i).rjust(2,'0')+'.jpg'  \n",
        "#  PET_path = '//content/drive/MyDrive/테스트파일/가능/손x/KakaoTalk_20211117_002027577_'+str(p).rjust(2,'0')+'.jpg'\n",
        "  img = keras.preprocessing.image.load_img(\n",
        "      PET_path, target_size=(img_height, img_width)\n",
        "  )\n",
        "  img_array = keras.preprocessing.image.img_to_array(img)\n",
        "  img_array = tf.expand_dims(img_array, 0) # Create a batch\n",
        "\n",
        "  predictions = model.predict(img_array)\n",
        "  predictions\n",
        "  a = ''\n",
        "  if predictions[0] >= 0.1:\n",
        "    a = ' X '\n",
        "  else:\n",
        "    a = ' O '\n",
        "  print( str(i)+\"이 사진은 \" +str(round(predictions[0][0]*100,4))+ \"% 확률로 \" +  a + ' 입니다')\n",
        "\n",
        "\n"
      ],
      "execution_count": null,
      "outputs": [
        {
          "output_type": "stream",
          "name": "stdout",
          "text": [
            "0이 사진은 97.7055% 확률로  X  입니다\n",
            "1이 사진은 1.2715% 확률로  O  입니다\n",
            "2이 사진은 52.9796% 확률로  X  입니다\n",
            "3이 사진은 100.0% 확률로  X  입니다\n",
            "4이 사진은 100.0% 확률로  X  입니다\n",
            "5이 사진은 23.702% 확률로  X  입니다\n",
            "6이 사진은 62.2526% 확률로  X  입니다\n",
            "7이 사진은 95.0001% 확률로  X  입니다\n",
            "8이 사진은 60.3752% 확률로  X  입니다\n",
            "9이 사진은 99.9554% 확률로  X  입니다\n",
            "10이 사진은 99.8056% 확률로  X  입니다\n",
            "11이 사진은 98.7587% 확률로  X  입니다\n",
            "12이 사진은 100.0% 확률로  X  입니다\n",
            "13이 사진은 100.0% 확률로  X  입니다\n",
            "14이 사진은 98.0042% 확률로  X  입니다\n",
            "15이 사진은 99.9937% 확률로  X  입니다\n",
            "16이 사진은 100.0% 확률로  X  입니다\n",
            "17이 사진은 69.0704% 확률로  X  입니다\n"
          ]
        }
      ]
    },
    {
      "cell_type": "code",
      "metadata": {
        "id": "yI734brdfCGv",
        "colab": {
          "base_uri": "https://localhost:8080/"
        },
        "outputId": "745a2931-825e-447f-d649-e98790ea5701"
      },
      "source": [
        "predictions"
      ],
      "execution_count": null,
      "outputs": [
        {
          "output_type": "execute_result",
          "data": {
            "text/plain": [
              "array([[0.6907038]], dtype=float32)"
            ]
          },
          "metadata": {},
          "execution_count": 8
        }
      ]
    },
    {
      "cell_type": "code",
      "metadata": {
        "colab": {
          "base_uri": "https://localhost:8080/"
        },
        "id": "FZzDLieWIO0U",
        "outputId": "3e9b9b78-145e-4cf2-d120-394288df4cbc"
      },
      "source": [
        "PET_path = '/content/drive/MyDrive/테스트파일/불가능/KakaoTalk_20211117_002238726_05.jpg'\n",
        "img = keras.preprocessing.image.load_img(\n",
        "    PET_path, target_size=(img_height, img_width)\n",
        ")\n",
        "img_array = keras.preprocessing.image.img_to_array(img)\n",
        "img_array = tf.expand_dims(img_array, 0) # Create a batch\n",
        "\n",
        "predictions = model.predict(img_array)\n",
        "predictions"
      ],
      "execution_count": null,
      "outputs": [
        {
          "output_type": "execute_result",
          "data": {
            "text/plain": [
              "array([[1.000000e+00, 7.711647e-16]], dtype=float32)"
            ]
          },
          "metadata": {},
          "execution_count": 49
        }
      ]
    },
    {
      "cell_type": "code",
      "metadata": {
        "colab": {
          "base_uri": "https://localhost:8080/"
        },
        "id": "Lk9VHHSg_Pti",
        "outputId": "f403aac9-7ac0-410c-ceeb-14bf5f6971a7"
      },
      "source": [
        "\n",
        "model.load_weights('/content/training_3/cp-0024.ckpt')\n",
        "ct = 0\n",
        "file_n = []\n",
        "\n",
        "for p in range(5):\n",
        "#for i in range(18):\n",
        " # PET_path = '/content/drive/MyDrive/테스트파일/불가능/KakaoTalk_20211117_002238726_'+str(i).rjust(2,'0')+'.jpg'  \n",
        "  PET_path = '//content/drive/MyDrive/테스트파일/가능/손/KakaoTalk_20211117_002027577_'+str(p).rjust(2,'0')+'.jpg'\n",
        "  img = keras.preprocessing.image.load_img(\n",
        "      PET_path, target_size=(img_height, img_width)\n",
        "  )\n",
        "  img_array = keras.preprocessing.image.img_to_array(img)\n",
        "  img_array = tf.expand_dims(img_array, 0) # Create a batch\n",
        "\n",
        "  predictions = model.predict(img_array)\n",
        "  predictions\n",
        "  #if score[0] > 0.99 and score[1] < 0.3:\n",
        "  #  score = [1,0]\n",
        "  a = ''\n",
        "  if predictions[0] >= 0.2:\n",
        "    a = ' X '\n",
        "  else:\n",
        "    a = ' O '\n",
        "  print( str(i)+\"이 사진은 \" +str(round(predictions[0][0]*100,4))+ \"% 확률로 \" +  a + ' 입니다')"
      ],
      "execution_count": null,
      "outputs": [
        {
          "output_type": "stream",
          "name": "stdout",
          "text": [
            "17이 사진은 96.1118% 확률로  X  입니다\n",
            "17이 사진은 10.0533% 확률로  O  입니다\n",
            "17이 사진은 0.0% 확률로  O  입니다\n",
            "17이 사진은 0.4629% 확률로  O  입니다\n",
            "17이 사진은 0.0027% 확률로  O  입니다\n"
          ]
        }
      ]
    },
    {
      "cell_type": "code",
      "metadata": {
        "colab": {
          "base_uri": "https://localhost:8080/",
          "height": 273
        },
        "id": "BgfQJGceWHYb",
        "outputId": "2cea605b-eba1-42c1-dc0b-7a45f73a4cf9"
      },
      "source": [
        "PET_path = '/content/drive/MyDrive/테스트파일/가능/손/KakaoTalk_20211117_002027577_00.jpg'\n",
        "img = keras.preprocessing.image.load_img(\n",
        "    PET_path, target_size=(img_height, img_width)\n",
        ")\n",
        "img"
      ],
      "execution_count": null,
      "outputs": [
        {
          "output_type": "execute_result",
          "data": {
            "image/png": "[encoded data removed]",
            "text/plain": [
              "<PIL.Image.Image image mode=RGB size=256x256 at 0x7FCB11BC2790>"
            ]
          },
          "metadata": {},
          "execution_count": 60
        }
      ]
    },
    {
      "cell_type": "code",
      "metadata": {
        "id": "bPcu6QUlWO28",
        "colab": {
          "base_uri": "https://localhost:8080/",
          "height": 537
        },
        "outputId": "ef39b1a0-67ee-4015-b4a5-9c824eeaebc2"
      },
      "source": [
        "model.load_weights('/content/PET_model_V3.h5')\n",
        "for p in range(5):\n",
        "  PET_path = '//content/drive/MyDrive/테스트파일/가능/손/KakaoTalk_20211117_002027577_'+str(p).rjust(2,'0')+'.jpg'\n",
        "  img = keras.preprocessing.image.load_img(\n",
        "      PET_path, target_size=(img_height, img_width)\n",
        "  )\n",
        "  img_array = keras.preprocessing.image.img_to_array(img)\n",
        "  img_array = tf.expand_dims(img_array, 0) # Create a batch\n",
        "\n",
        "  predictions = model.predict(img_array)\n",
        "\n",
        "  a = ''\n",
        "  if predictions[0] >= 0.3:\n",
        "    a = ' X '\n",
        "  else:\n",
        "    a = ' O '\n",
        "  if a == ' X ':\n",
        "    ct += 1\n",
        "    file_n.append(p)\n",
        "for j in range(6):\n",
        "  PET_path = '/content/drive/MyDrive/테스트파일/가능/손x/KakaoTalk_20211117_002027577_'+str(j).rjust(2,'0')+'.jpg'\n",
        "  img = keras.preprocessing.image.load_img(\n",
        "      PET_path, target_size=(img_height, img_width)\n",
        "  )\n",
        "  img_array = keras.preprocessing.image.img_to_array(img)\n",
        "  img_array = tf.expand_dims(img_array, 0) # Create a batch\n",
        "\n",
        "  predictions = model.predict(img_array)\n",
        "  a = ''\n",
        "  if predictions[0] >= 0.3:\n",
        "    a = ' X '\n",
        "  else:\n",
        "    a = ' O '\n",
        "  if a == ' X ':\n",
        "    ct0 += 1\n",
        "    file_n0.append(j)\n",
        "for i in range(18):\n",
        "  PET_path = '/content/drive/MyDrive/테스트파일/불가능/KakaoTalk_20211117_002238726_'+str(i).rjust(2,'0')+'.jpg'\n",
        "  img = keras.preprocessing.image.load_img(\n",
        "      PET_path, target_size=(img_height, img_width)\n",
        "  )\n",
        "  img_array = keras.preprocessing.image.img_to_array(img)\n",
        "  img_array = tf.expand_dims(img_array, 0) # Create a batch\n",
        "\n",
        "  predictions = model.predict(img_array)\n",
        "  a = ''\n",
        "  if predictions[0] >= 0.3:\n",
        "    a = ' X '\n",
        "  else:\n",
        "    a = ' O '\n",
        "  if a == ' O ':\n",
        "    ct1 += 1\n",
        "    file_n1.append(i)\n",
        "ctsl.append(ct+ct0+ct1)\n",
        "\n",
        "print(str(k)+'번째 체크포인트'+ '총 오류갯수 '+ str(ct+ct0+ct1))\n",
        "print('가능 에러 수(손)'+ str(ct) + '  파일 번호는',file_n)\n",
        "print('가능 에러 수'+ str(ct0) + '  파일 번호는',file_n0)\n",
        "\n",
        "print('불가능 에러 수'+ str(ct1) + '  파일 번호는',file_n1 )"
      ],
      "execution_count": null,
      "outputs": [
        {
          "output_type": "error",
          "ename": "OSError",
          "evalue": "ignored",
          "traceback": [
            "\u001b[0;31m---------------------------------------------------------------------------\u001b[0m",
            "\u001b[0;31mOSError\u001b[0m                                   Traceback (most recent call last)",
            "\u001b[0;32m<ipython-input-19-a877702b2923>\u001b[0m in \u001b[0;36m<module>\u001b[0;34m()\u001b[0m\n\u001b[0;32m----> 1\u001b[0;31m \u001b[0mmodel\u001b[0m\u001b[0;34m.\u001b[0m\u001b[0mload_weights\u001b[0m\u001b[0;34m(\u001b[0m\u001b[0;34m'/content/PET_model_V3.h5'\u001b[0m\u001b[0;34m)\u001b[0m\u001b[0;34m\u001b[0m\u001b[0;34m\u001b[0m\u001b[0m\n\u001b[0m\u001b[1;32m      2\u001b[0m \u001b[0;32mfor\u001b[0m \u001b[0mp\u001b[0m \u001b[0;32min\u001b[0m \u001b[0mrange\u001b[0m\u001b[0;34m(\u001b[0m\u001b[0;36m5\u001b[0m\u001b[0;34m)\u001b[0m\u001b[0;34m:\u001b[0m\u001b[0;34m\u001b[0m\u001b[0;34m\u001b[0m\u001b[0m\n\u001b[1;32m      3\u001b[0m   \u001b[0mPET_path\u001b[0m \u001b[0;34m=\u001b[0m \u001b[0;34m'//content/drive/MyDrive/테스트파일/가능/손/KakaoTalk_20211117_002027577_'\u001b[0m\u001b[0;34m+\u001b[0m\u001b[0mstr\u001b[0m\u001b[0;34m(\u001b[0m\u001b[0mp\u001b[0m\u001b[0;34m)\u001b[0m\u001b[0;34m.\u001b[0m\u001b[0mrjust\u001b[0m\u001b[0;34m(\u001b[0m\u001b[0;36m2\u001b[0m\u001b[0;34m,\u001b[0m\u001b[0;34m'0'\u001b[0m\u001b[0;34m)\u001b[0m\u001b[0;34m+\u001b[0m\u001b[0;34m'.jpg'\u001b[0m\u001b[0;34m\u001b[0m\u001b[0;34m\u001b[0m\u001b[0m\n\u001b[1;32m      4\u001b[0m   img = keras.preprocessing.image.load_img(\n\u001b[1;32m      5\u001b[0m       \u001b[0mPET_path\u001b[0m\u001b[0;34m,\u001b[0m \u001b[0mtarget_size\u001b[0m\u001b[0;34m=\u001b[0m\u001b[0;34m(\u001b[0m\u001b[0mimg_height\u001b[0m\u001b[0;34m,\u001b[0m \u001b[0mimg_width\u001b[0m\u001b[0;34m)\u001b[0m\u001b[0;34m\u001b[0m\u001b[0;34m\u001b[0m\u001b[0m\n",
            "\u001b[0;32m/usr/local/lib/python3.7/dist-packages/keras/utils/traceback_utils.py\u001b[0m in \u001b[0;36merror_handler\u001b[0;34m(*args, **kwargs)\u001b[0m\n\u001b[1;32m     65\u001b[0m     \u001b[0;32mexcept\u001b[0m \u001b[0mException\u001b[0m \u001b[0;32mas\u001b[0m \u001b[0me\u001b[0m\u001b[0;34m:\u001b[0m  \u001b[0;31m# pylint: disable=broad-except\u001b[0m\u001b[0;34m\u001b[0m\u001b[0;34m\u001b[0m\u001b[0m\n\u001b[1;32m     66\u001b[0m       \u001b[0mfiltered_tb\u001b[0m \u001b[0;34m=\u001b[0m \u001b[0m_process_traceback_frames\u001b[0m\u001b[0;34m(\u001b[0m\u001b[0me\u001b[0m\u001b[0;34m.\u001b[0m\u001b[0m__traceback__\u001b[0m\u001b[0;34m)\u001b[0m\u001b[0;34m\u001b[0m\u001b[0;34m\u001b[0m\u001b[0m\n\u001b[0;32m---> 67\u001b[0;31m       \u001b[0;32mraise\u001b[0m \u001b[0me\u001b[0m\u001b[0;34m.\u001b[0m\u001b[0mwith_traceback\u001b[0m\u001b[0;34m(\u001b[0m\u001b[0mfiltered_tb\u001b[0m\u001b[0;34m)\u001b[0m \u001b[0;32mfrom\u001b[0m \u001b[0;32mNone\u001b[0m\u001b[0;34m\u001b[0m\u001b[0;34m\u001b[0m\u001b[0m\n\u001b[0m\u001b[1;32m     68\u001b[0m     \u001b[0;32mfinally\u001b[0m\u001b[0;34m:\u001b[0m\u001b[0;34m\u001b[0m\u001b[0;34m\u001b[0m\u001b[0m\n\u001b[1;32m     69\u001b[0m       \u001b[0;32mdel\u001b[0m \u001b[0mfiltered_tb\u001b[0m\u001b[0;34m\u001b[0m\u001b[0;34m\u001b[0m\u001b[0m\n",
            "\u001b[0;32m/usr/local/lib/python3.7/dist-packages/h5py/_hl/files.py\u001b[0m in \u001b[0;36m__init__\u001b[0;34m(self, name, mode, driver, libver, userblock_size, swmr, rdcc_nslots, rdcc_nbytes, rdcc_w0, track_order, fs_strategy, fs_persist, fs_threshold, **kwds)\u001b[0m\n\u001b[1;32m    425\u001b[0m                                fapl, fcpl=make_fcpl(track_order=track_order, fs_strategy=fs_strategy,\n\u001b[1;32m    426\u001b[0m                                fs_persist=fs_persist, fs_threshold=fs_threshold),\n\u001b[0;32m--> 427\u001b[0;31m                                swmr=swmr)\n\u001b[0m\u001b[1;32m    428\u001b[0m \u001b[0;34m\u001b[0m\u001b[0m\n\u001b[1;32m    429\u001b[0m             \u001b[0;32mif\u001b[0m \u001b[0misinstance\u001b[0m\u001b[0;34m(\u001b[0m\u001b[0mlibver\u001b[0m\u001b[0;34m,\u001b[0m \u001b[0mtuple\u001b[0m\u001b[0;34m)\u001b[0m\u001b[0;34m:\u001b[0m\u001b[0;34m\u001b[0m\u001b[0;34m\u001b[0m\u001b[0m\n",
            "\u001b[0;32m/usr/local/lib/python3.7/dist-packages/h5py/_hl/files.py\u001b[0m in \u001b[0;36mmake_fid\u001b[0;34m(name, mode, userblock_size, fapl, fcpl, swmr)\u001b[0m\n\u001b[1;32m    188\u001b[0m         \u001b[0;32mif\u001b[0m \u001b[0mswmr\u001b[0m \u001b[0;32mand\u001b[0m \u001b[0mswmr_support\u001b[0m\u001b[0;34m:\u001b[0m\u001b[0;34m\u001b[0m\u001b[0;34m\u001b[0m\u001b[0m\n\u001b[1;32m    189\u001b[0m             \u001b[0mflags\u001b[0m \u001b[0;34m|=\u001b[0m \u001b[0mh5f\u001b[0m\u001b[0;34m.\u001b[0m\u001b[0mACC_SWMR_READ\u001b[0m\u001b[0;34m\u001b[0m\u001b[0;34m\u001b[0m\u001b[0m\n\u001b[0;32m--> 190\u001b[0;31m         \u001b[0mfid\u001b[0m \u001b[0;34m=\u001b[0m \u001b[0mh5f\u001b[0m\u001b[0;34m.\u001b[0m\u001b[0mopen\u001b[0m\u001b[0;34m(\u001b[0m\u001b[0mname\u001b[0m\u001b[0;34m,\u001b[0m \u001b[0mflags\u001b[0m\u001b[0;34m,\u001b[0m \u001b[0mfapl\u001b[0m\u001b[0;34m=\u001b[0m\u001b[0mfapl\u001b[0m\u001b[0;34m)\u001b[0m\u001b[0;34m\u001b[0m\u001b[0;34m\u001b[0m\u001b[0m\n\u001b[0m\u001b[1;32m    191\u001b[0m     \u001b[0;32melif\u001b[0m \u001b[0mmode\u001b[0m \u001b[0;34m==\u001b[0m \u001b[0;34m'r+'\u001b[0m\u001b[0;34m:\u001b[0m\u001b[0;34m\u001b[0m\u001b[0;34m\u001b[0m\u001b[0m\n\u001b[1;32m    192\u001b[0m         \u001b[0mfid\u001b[0m \u001b[0;34m=\u001b[0m \u001b[0mh5f\u001b[0m\u001b[0;34m.\u001b[0m\u001b[0mopen\u001b[0m\u001b[0;34m(\u001b[0m\u001b[0mname\u001b[0m\u001b[0;34m,\u001b[0m \u001b[0mh5f\u001b[0m\u001b[0;34m.\u001b[0m\u001b[0mACC_RDWR\u001b[0m\u001b[0;34m,\u001b[0m \u001b[0mfapl\u001b[0m\u001b[0;34m=\u001b[0m\u001b[0mfapl\u001b[0m\u001b[0;34m)\u001b[0m\u001b[0;34m\u001b[0m\u001b[0;34m\u001b[0m\u001b[0m\n",
            "\u001b[0;32mh5py/_objects.pyx\u001b[0m in \u001b[0;36mh5py._objects.with_phil.wrapper\u001b[0;34m()\u001b[0m\n",
            "\u001b[0;32mh5py/_objects.pyx\u001b[0m in \u001b[0;36mh5py._objects.with_phil.wrapper\u001b[0;34m()\u001b[0m\n",
            "\u001b[0;32mh5py/h5f.pyx\u001b[0m in \u001b[0;36mh5py.h5f.open\u001b[0;34m()\u001b[0m\n",
            "\u001b[0;31mOSError\u001b[0m: Unable to open file (truncated file: eof = 17825792, sblock->base_addr = 0, stored_eof = 101013048)"
          ]
        }
      ]
    },
    {
      "cell_type": "code",
      "metadata": {
        "id": "4b7jSBmIjEuC"
      },
      "source": [
        ""
      ],
      "execution_count": null,
      "outputs": []
    }
  ]
}