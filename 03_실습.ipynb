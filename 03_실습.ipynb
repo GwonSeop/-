{
  "nbformat": 4,
  "nbformat_minor": 0,
  "metadata": {
    "colab": {
      "name": "실습.ipynb",
      "provenance": []
    },
    "kernelspec": {
      "name": "python3",
      "display_name": "Python 3"
    },
    "language_info": {
      "name": "python"
    }
  },
  "cells": [
    {
      "cell_type": "code",
      "metadata": {
        "id": "mzboLKWhM5nB"
      },
      "source": [
        "########################################\n",
        "###  코드작성 [메모리 변수 모두 제거\n",
        "#######################################\n",
        "all = [var for var in globals() if var[0] != \"_\"]\n",
        "for var in all:\n",
        "    del globals()[var]"
      ],
      "execution_count": null,
      "outputs": []
    },
    {
      "cell_type": "code",
      "metadata": {
        "id": "0YcInAA5QrqZ"
      },
      "source": [
        "# 필요 라이브러리 로드\n",
        "from matplotlib import font_manager, rc\n",
        "import matplotlib\n",
        "import matplotlib.pyplot as plt\n",
        "import seaborn as sns\n",
        "import pandas as pd\n",
        "import numpy as np\n",
        "import platform"
      ],
      "execution_count": 1,
      "outputs": []
    },
    {
      "cell_type": "markdown",
      "metadata": {
        "id": "q2hO_H6dNTZV"
      },
      "source": [
        "##[미션] wine의 데이터셋이해\n",
        "- 레드와인과 화이트 와인의 alcohol, sugar, PHP의 관계 조사\n",
        "- 이 자료의 class가 1이면 화이트 화인/0이면 레드와인임\n",
        " - alcohol: 도수\n",
        " - sugar: 당류\n",
        " - PH: 수소 이온 농도(pH)는 물질의 산성과 알칼리성 정도를 나타내는 수치이다."
      ]
    },
    {
      "cell_type": "code",
      "metadata": {
        "id": "9u1ddXwRNS-Y"
      },
      "source": [
        "########################################\n",
        "###  wine1=wine1.csv  \n",
        "###  wine2=wine2.csv\n",
        "#######################################\n",
        "wine1 = pd.read_csv('wine1.csv',sep = '\\t')\n",
        "wine2 = pd.read_csv('wine2.csv',sep = '\\t')"
      ],
      "execution_count": 11,
      "outputs": []
    },
    {
      "cell_type": "code",
      "metadata": {
        "id": "JRQiXFcTQ2bj"
      },
      "source": [
        "########################################\n",
        "### [두자료의 교집합 자료만 보기] 데이콘 경진대회 교재 P16 참조\n",
        "###  wine1과 wine2의 index 필드값이 같은 자료만 가져오기\n",
        "### 최종 wine 변수에 할당\n",
        "wine = pd.merge(wine1,wine2, left_on='index', right_on='index')\n",
        "\n",
        "# index별로 정렬\n",
        "wine = df.sort_values(by = 'index').reset_index(drop=True)\n",
        "### wine자료와 wine2 자료를  연결하여서\n",
        "### wine의 index번호에 해당하는\n",
        "### wine2자료의 sugar_PH값 가져와  df 데이터셋 제작 -----까지 해결"
      ],
      "execution_count": 47,
      "outputs": []
    },
    {
      "cell_type": "code",
      "metadata": {
        "colab": {
          "base_uri": "https://localhost:8080/"
        },
        "id": "QRMX6zVDSLyZ",
        "outputId": "6ec5886b-16ac-4983-bcfc-b58fa727047c"
      },
      "source": [
        "### wine['class']의 최대값1, 최소값 0 확인 (max, min 함수로 출력)\n",
        "wine['class'].max(),wine['class'].min()"
      ],
      "execution_count": 51,
      "outputs": [
        {
          "output_type": "execute_result",
          "data": {
            "text/plain": [
              "(1.0, 0.0)"
            ]
          },
          "metadata": {},
          "execution_count": 51
        }
      ]
    },
    {
      "cell_type": "code",
      "metadata": {
        "id": "TyAY5-aUat-m"
      },
      "source": [
        "### df 데이터셋의 sugar_PH의  값 분리하여\n",
        "### df['sugar']   df['PH'] 변수로 작성\n",
        "df = wine\n",
        "df['sugar'] = df['sugar_PH'].str.split('/').str[0]\n",
        "df['PH'] = df['sugar_PH'].str.split('/').str[1]"
      ],
      "execution_count": 57,
      "outputs": []
    },
    {
      "cell_type": "code",
      "metadata": {
        "colab": {
          "base_uri": "https://localhost:8080/",
          "height": 414
        },
        "id": "221tPbC8UExy",
        "outputId": "8a20a6b1-dc3c-4fc8-a88e-41558cba77c3"
      },
      "source": [
        "df"
      ],
      "execution_count": 58,
      "outputs": [
        {
          "output_type": "execute_result",
          "data": {
            "text/html": [
              "<div>\n",
              "<style scoped>\n",
              "    .dataframe tbody tr th:only-of-type {\n",
              "        vertical-align: middle;\n",
              "    }\n",
              "\n",
              "    .dataframe tbody tr th {\n",
              "        vertical-align: top;\n",
              "    }\n",
              "\n",
              "    .dataframe thead th {\n",
              "        text-align: right;\n",
              "    }\n",
              "</style>\n",
              "<table border=\"1\" class=\"dataframe\">\n",
              "  <thead>\n",
              "    <tr style=\"text-align: right;\">\n",
              "      <th></th>\n",
              "      <th>index</th>\n",
              "      <th>alcohol</th>\n",
              "      <th>class</th>\n",
              "      <th>sugar_PH</th>\n",
              "      <th>sugar</th>\n",
              "      <th>PH</th>\n",
              "    </tr>\n",
              "  </thead>\n",
              "  <tbody>\n",
              "    <tr>\n",
              "      <th>0</th>\n",
              "      <td>1</td>\n",
              "      <td>9.4</td>\n",
              "      <td>0.0</td>\n",
              "      <td>1.9/3.51</td>\n",
              "      <td>1.9</td>\n",
              "      <td>3.51</td>\n",
              "    </tr>\n",
              "    <tr>\n",
              "      <th>1</th>\n",
              "      <td>2</td>\n",
              "      <td>9.8</td>\n",
              "      <td>0.0</td>\n",
              "      <td>2.6/3.2</td>\n",
              "      <td>2.6</td>\n",
              "      <td>3.2</td>\n",
              "    </tr>\n",
              "    <tr>\n",
              "      <th>2</th>\n",
              "      <td>4</td>\n",
              "      <td>9.8</td>\n",
              "      <td>0.0</td>\n",
              "      <td>1.9/3.16</td>\n",
              "      <td>1.9</td>\n",
              "      <td>3.16</td>\n",
              "    </tr>\n",
              "    <tr>\n",
              "      <th>3</th>\n",
              "      <td>5</td>\n",
              "      <td>9.4</td>\n",
              "      <td>0.0</td>\n",
              "      <td>1.9/3.51</td>\n",
              "      <td>1.9</td>\n",
              "      <td>3.51</td>\n",
              "    </tr>\n",
              "    <tr>\n",
              "      <th>4</th>\n",
              "      <td>6</td>\n",
              "      <td>9.4</td>\n",
              "      <td>NaN</td>\n",
              "      <td>1.8/3.51</td>\n",
              "      <td>1.8</td>\n",
              "      <td>3.51</td>\n",
              "    </tr>\n",
              "    <tr>\n",
              "      <th>...</th>\n",
              "      <td>...</td>\n",
              "      <td>...</td>\n",
              "      <td>...</td>\n",
              "      <td>...</td>\n",
              "      <td>...</td>\n",
              "      <td>...</td>\n",
              "    </tr>\n",
              "    <tr>\n",
              "      <th>6492</th>\n",
              "      <td>6495</td>\n",
              "      <td>9.4</td>\n",
              "      <td>1.0</td>\n",
              "      <td>1.2/2.99</td>\n",
              "      <td>1.2</td>\n",
              "      <td>2.99</td>\n",
              "    </tr>\n",
              "    <tr>\n",
              "      <th>6493</th>\n",
              "      <td>6496</td>\n",
              "      <td>12.8</td>\n",
              "      <td>1.0</td>\n",
              "      <td>1.1/3.34</td>\n",
              "      <td>1.1</td>\n",
              "      <td>3.34</td>\n",
              "    </tr>\n",
              "    <tr>\n",
              "      <th>6494</th>\n",
              "      <td>6497</td>\n",
              "      <td>11.8</td>\n",
              "      <td>1.0</td>\n",
              "      <td>0.8/3.26</td>\n",
              "      <td>0.8</td>\n",
              "      <td>3.26</td>\n",
              "    </tr>\n",
              "    <tr>\n",
              "      <th>6495</th>\n",
              "      <td>6498</td>\n",
              "      <td>9.8</td>\n",
              "      <td>0.0</td>\n",
              "      <td>2.3/3.26</td>\n",
              "      <td>2.3</td>\n",
              "      <td>3.26</td>\n",
              "    </tr>\n",
              "    <tr>\n",
              "      <th>6496</th>\n",
              "      <td>6499</td>\n",
              "      <td>10.5</td>\n",
              "      <td>0.0</td>\n",
              "      <td>6.1/3.35</td>\n",
              "      <td>6.1</td>\n",
              "      <td>3.35</td>\n",
              "    </tr>\n",
              "  </tbody>\n",
              "</table>\n",
              "<p>6497 rows × 6 columns</p>\n",
              "</div>"
            ],
            "text/plain": [
              "      index  alcohol  class  sugar_PH sugar    PH\n",
              "0         1      9.4    0.0  1.9/3.51   1.9  3.51\n",
              "1         2      9.8    0.0   2.6/3.2   2.6   3.2\n",
              "2         4      9.8    0.0  1.9/3.16   1.9  3.16\n",
              "3         5      9.4    0.0  1.9/3.51   1.9  3.51\n",
              "4         6      9.4    NaN  1.8/3.51   1.8  3.51\n",
              "...     ...      ...    ...       ...   ...   ...\n",
              "6492   6495      9.4    1.0  1.2/2.99   1.2  2.99\n",
              "6493   6496     12.8    1.0  1.1/3.34   1.1  3.34\n",
              "6494   6497     11.8    1.0  0.8/3.26   0.8  3.26\n",
              "6495   6498      9.8    0.0  2.3/3.26   2.3  3.26\n",
              "6496   6499     10.5    0.0  6.1/3.35   6.1  3.35\n",
              "\n",
              "[6497 rows x 6 columns]"
            ]
          },
          "metadata": {},
          "execution_count": 58
        }
      ]
    },
    {
      "cell_type": "code",
      "metadata": {
        "colab": {
          "base_uri": "https://localhost:8080/"
        },
        "id": "WJawvePAbZ6S",
        "outputId": "883c9382-92c1-41a2-bc16-acea6bc734c6"
      },
      "source": [
        "########################################\n",
        "### df의 각 필드 타입 확인 및 데이터 갯수 확인\n",
        "########################################\n",
        "df.isna().sum()"
      ],
      "execution_count": 59,
      "outputs": [
        {
          "output_type": "execute_result",
          "data": {
            "text/plain": [
              "index       0\n",
              "alcohol     0\n",
              "class       4\n",
              "sugar_PH    0\n",
              "sugar       0\n",
              "PH          0\n",
              "dtype: int64"
            ]
          },
          "metadata": {},
          "execution_count": 59
        }
      ]
    },
    {
      "cell_type": "code",
      "metadata": {
        "colab": {
          "base_uri": "https://localhost:8080/"
        },
        "id": "JXnTOUxwb05x",
        "outputId": "7b9ef5b8-c007-4c69-cc82-48ea1ad61e85"
      },
      "source": [
        "########################################\n",
        "### sugar, PH의 필드형식 float64로 변환\n",
        "#######################################\n",
        "df = df.astype({'sugar': 'float64'})\n",
        "df = df.astype({'PH': 'float64'})\n",
        "df.info()"
      ],
      "execution_count": 73,
      "outputs": [
        {
          "output_type": "stream",
          "name": "stdout",
          "text": [
            "<class 'pandas.core.frame.DataFrame'>\n",
            "RangeIndex: 6497 entries, 0 to 6496\n",
            "Data columns (total 6 columns):\n",
            " #   Column    Non-Null Count  Dtype  \n",
            "---  ------    --------------  -----  \n",
            " 0   index     6497 non-null   int64  \n",
            " 1   alcohol   6497 non-null   float64\n",
            " 2   class     6493 non-null   float64\n",
            " 3   sugar_PH  6497 non-null   object \n",
            " 4   sugar     6497 non-null   float64\n",
            " 5   PH        6497 non-null   float64\n",
            "dtypes: float64(4), int64(1), object(1)\n",
            "memory usage: 304.7+ KB\n"
          ]
        }
      ]
    },
    {
      "cell_type": "code",
      "metadata": {
        "id": "lCTQJlSyb8Hz"
      },
      "source": [
        "########################################\n",
        "### [두자료의 교집합 자료만 보기] 데이콘 경진대회 교재 P37 참조\n",
        "### 숫자값 필드 결측치 0으로 치환\n",
        "#######################################\n",
        "df = df.fillna(0)"
      ],
      "execution_count": 77,
      "outputs": []
    },
    {
      "cell_type": "code",
      "metadata": {
        "colab": {
          "base_uri": "https://localhost:8080/"
        },
        "id": "bzk919qUhXV7",
        "outputId": "a5c93453-30d9-4474-8d87-1d00ffa20c80"
      },
      "source": [
        ""
      ],
      "execution_count": 78,
      "outputs": [
        {
          "output_type": "execute_result",
          "data": {
            "text/plain": [
              "index       0\n",
              "alcohol     0\n",
              "class       0\n",
              "sugar_PH    0\n",
              "sugar       0\n",
              "PH          0\n",
              "dtype: int64"
            ]
          },
          "metadata": {},
          "execution_count": 78
        }
      ]
    },
    {
      "cell_type": "code",
      "metadata": {
        "id": "-Ep3bFPehZNp"
      },
      "source": [
        ""
      ],
      "execution_count": null,
      "outputs": []
    }
  ]
}